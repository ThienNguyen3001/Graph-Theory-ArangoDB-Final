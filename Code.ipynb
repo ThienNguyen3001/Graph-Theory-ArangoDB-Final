{
  "nbformat": 4,
  "nbformat_minor": 0,
  "metadata": {
    "colab": {
      "provenance": [],
      "include_colab_link": true
    },
    "kernelspec": {
      "name": "python3",
      "display_name": "Python 3"
    },
    "language_info": {
      "name": "python"
    }
  },
  "cells": [
    {
      "cell_type": "markdown",
      "metadata": {
        "id": "view-in-github",
        "colab_type": "text"
      },
      "source": [
        "<a href=\"https://colab.research.google.com/github/ThienNguyen3001/Graph-Theory-ArangoDB-Final/blob/main/Code.ipynb\" target=\"_parent\"><img src=\"https://colab.research.google.com/assets/colab-badge.svg\" alt=\"Open In Colab\"/></a>"
      ]
    },
    {
      "cell_type": "markdown",
      "metadata": {
        "id": "POij76PeFdjh"
      },
      "source": [
        "#1. Chuẩn bị"
      ]
    },
    {
      "cell_type": "markdown",
      "source": [
        "* Gọi môi trường"
      ],
      "metadata": {
        "id": "7lVullbUS8TB"
      }
    },
    {
      "cell_type": "code",
      "metadata": {
        "id": "tti5sHrmFSZz"
      },
      "source": [
        "%%capture\n",
        "!git clone https://github.com/ThienNguyen3001/Graph-Theory-ArangoDB-Final.git\n",
        "!rsync -av Graph-Theory-ArangoDB-Final/ ./ --exclude=.git\n",
        "!pip3 install pyarango\n",
        "!pip3 install \"python-arango>=5.0\""
      ],
      "execution_count": 23,
      "outputs": []
    },
    {
      "cell_type": "code",
      "metadata": {
        "id": "W7c4YugFFajT"
      },
      "source": [
        "import json\n",
        "import requests\n",
        "import sys\n",
        "import time\n",
        "\n",
        "import oasis\n",
        "from pyArango.connection import *\n",
        "from arango import ArangoClient"
      ],
      "execution_count": 24,
      "outputs": []
    },
    {
      "cell_type": "markdown",
      "metadata": {
        "id": "X-VQbcIpGlp3"
      },
      "source": [
        "* **Tạo cơ sở dữ liệu tạm thời**\n"
      ]
    },
    {
      "cell_type": "code",
      "metadata": {
        "colab": {
          "base_uri": "https://localhost:8080/"
        },
        "id": "ae-W9Y89Gaxl",
        "outputId": "4a9b5b42-77ce-43c0-b119-abcff2215ddc"
      },
      "source": [
        "# Retrieve tmp credentials from ArangoDB Tutorial Service\n",
        "login = oasis.getTempCredentials(tutorialName='test',\n",
        "                                 credentialProvider='https://tutorials.arangodb.cloud:8529/_db/_system/tutorialDB/tutorialDB')\n",
        "\n",
        "# Connect to the temp database\n",
        "conn = oasis.connect(login)\n",
        "db = conn[login['dbName']]"
      ],
      "execution_count": 25,
      "outputs": [
        {
          "output_type": "stream",
          "name": "stdout",
          "text": [
            "Requesting new temp credentials.\n",
            "Temp database ready to use.\n"
          ]
        }
      ]
    },
    {
      "cell_type": "markdown",
      "metadata": {
        "id": "fxXH_B4L62V4"
      },
      "source": [
        "* **Xem thông tin DB đã tạo**\n"
      ]
    },
    {
      "cell_type": "code",
      "metadata": {
        "id": "51Df5hM9GpW3",
        "colab": {
          "base_uri": "https://localhost:8080/"
        },
        "outputId": "5ea4e5fb-fd7a-4b98-f1cc-c8c11ef9360c"
      },
      "source": [
        "print('https://{}:{}'.format(login['hostname'], login['port']))\n",
        "print('Username: ' + login['username'])\n",
        "print('Password: ' + login['password'])\n",
        "print('Database: ' + login['dbName'])\n"
      ],
      "execution_count": 26,
      "outputs": [
        {
          "output_type": "stream",
          "name": "stdout",
          "text": [
            "https://tutorials.arangodb.cloud:8529\n",
            "Username: TUT1ig4rzxu0xbfs7ae30qli8\n",
            "Password: TUT3yssm4x22w388ppdsbqsyb\n",
            "Database: TUTnpdy9a7ctjb99uvlj9dp7\n"
          ]
        }
      ]
    },
    {
      "cell_type": "code",
      "metadata": {
        "colab": {
          "base_uri": "https://localhost:8080/"
        },
        "id": "KTG7z1VdLdnq",
        "outputId": "57391b8c-3db1-4e68-92ef-d4f82a265841"
      },
      "source": [
        "print(type(login), login, sep='\\n')"
      ],
      "execution_count": 27,
      "outputs": [
        {
          "output_type": "stream",
          "name": "stdout",
          "text": [
            "<class 'dict'>\n",
            "{'dbName': 'TUTnpdy9a7ctjb99uvlj9dp7', 'username': 'TUT1ig4rzxu0xbfs7ae30qli8', 'password': 'TUT3yssm4x22w388ppdsbqsyb', 'hostname': 'tutorials.arangodb.cloud', 'port': 8529}\n"
          ]
        }
      ]
    },
    {
      "cell_type": "markdown",
      "metadata": {
        "id": "IWKKWzl6-IGG"
      },
      "source": [
        "#2 Tạo dữ liệu AQL"
      ]
    },
    {
      "cell_type": "markdown",
      "metadata": {
        "id": "DGNTaEik7Bc9"
      },
      "source": [
        "* **Tạo collection \"Collection\" trong DB**\n",
        "\n",
        "Các bộ sưu tập trong ArangoDB. Chúng chỉ được thao tác thông qua các ngôn ngữ Ngôn ngữ truy vấn Arango NoSQL (AQL). Các hướng dẫn bên dưới tạo ra một bộ sưu tập và có thể liên quan đến các hướng dẫn DDL của ngôn ngữ SQL. Trong ví dụ này, nhóm sẽ tạo các nhân vật trong loạt phim \"*Game of Thrones*\"."
      ]
    },
    {
      "cell_type": "code",
      "metadata": {
        "colab": {
          "base_uri": "https://localhost:8080/"
        },
        "id": "OyBZJOBK67ic",
        "outputId": "0419f2ea-5447-45cb-fab3-e23fa04421b9"
      },
      "source": [
        "collecName = 'Characters'\n",
        "db.createCollection(name=collecName)"
      ],
      "execution_count": 28,
      "outputs": [
        {
          "output_type": "execute_result",
          "data": {
            "text/plain": [
              "ArangoDB collection name: Characters, id: 658741668, type: document, status: loaded"
            ]
          },
          "metadata": {},
          "execution_count": 28
        }
      ]
    },
    {
      "cell_type": "markdown",
      "metadata": {
        "id": "aMC8ItNR78ti"
      },
      "source": [
        "* **Thêm data bằng Insert**"
      ]
    },
    {
      "cell_type": "code",
      "metadata": {
        "colab": {
          "base_uri": "https://localhost:8080/"
        },
        "id": "NgXyYDEp73Cx",
        "outputId": "ae9998b9-5fcb-4b1e-8ae5-46c1e3404fde"
      },
      "source": [
        "insert_query = \"\"\"\n",
        "INSERT {\n",
        "    \"name\": \"Ned\",\n",
        "    \"surname\": \"Stark\",\n",
        "    \"alive\": true,\n",
        "    \"age\": 41,\n",
        "    \"traits\": [\"A\",\"H\",\"C\",\"N\",\"P\"]\n",
        "} INTO Characters\n",
        "\"\"\"\n",
        "\n",
        "db.AQLQuery(insert_query)"
      ],
      "execution_count": 29,
      "outputs": [
        {
          "output_type": "execute_result",
          "data": {
            "text/plain": [
              "<pyArango.query.AQLQuery at 0x7d35bac11090>"
            ]
          },
          "metadata": {},
          "execution_count": 29
        }
      ]
    },
    {
      "cell_type": "markdown",
      "metadata": {
        "id": "frf63oEO8GtC"
      },
      "source": [
        "* Lấy tất cả các nhân vật trong bản ghi"
      ]
    },
    {
      "cell_type": "code",
      "metadata": {
        "colab": {
          "base_uri": "https://localhost:8080/"
        },
        "id": "LWP-4b0B8G0P",
        "outputId": "7e333dd5-4dac-420c-a0a0-75ca5adeb481"
      },
      "source": [
        "all_characters = \"\"\"\n",
        "FOR c IN Characters\n",
        "    RETURN c\n",
        "\"\"\"\n",
        "\n",
        "query_result = db.AQLQuery(all_characters, rawResults=True)\n",
        "\n",
        "for doc in  query_result:\n",
        "    print(doc)\n",
        "    print()"
      ],
      "execution_count": 30,
      "outputs": [
        {
          "output_type": "stream",
          "name": "stdout",
          "text": [
            "{'_key': '266279408230', '_id': 'Characters/266279408230', '_rev': '_i2pMESG---', 'name': 'Ned', 'surname': 'Stark', 'alive': True, 'age': 41, 'traits': ['A', 'H', 'C', 'N', 'P']}\n",
            "\n"
          ]
        }
      ]
    },
    {
      "cell_type": "markdown",
      "metadata": {
        "id": "3qkve90S8U6K"
      },
      "source": [
        "* **Chèn các bản ghi**"
      ]
    },
    {
      "cell_type": "code",
      "metadata": {
        "colab": {
          "base_uri": "https://localhost:8080/"
        },
        "id": "0pTp6W-b8ZT5",
        "outputId": "6e23181e-4fc8-49cd-d4a1-ef82d7eadbea"
      },
      "source": [
        "insert_query = \"\"\"\n",
        "LET data = [\n",
        "    { \"name\": \"Robert\", \"surname\": \"Baratheon\", \"alive\": false, \"traits\": [\"A\",\"H\",\"C\"] },\n",
        "    { \"name\": \"Jaime\", \"surname\": \"Lannister\", \"alive\": true, \"age\": 36, \"traits\": [\"A\",\"F\",\"B\"] },\n",
        "    { \"name\": \"Catelyn\", \"surname\": \"Stark\", \"alive\": false, \"age\": 40, \"traits\": [\"D\",\"H\",\"C\"] },\n",
        "    { \"name\": \"Cersei\", \"surname\": \"Lannister\", \"alive\": true, \"age\": 36, \"traits\": [\"H\",\"E\",\"F\"] },\n",
        "    { \"name\": \"Daenerys\", \"surname\": \"Targaryen\", \"alive\": true, \"age\": 16, \"traits\": [\"D\",\"H\",\"C\"] },\n",
        "    { \"name\": \"Jorah\", \"surname\": \"Mormont\", \"alive\": false, \"traits\": [\"A\",\"B\",\"C\",\"F\"] },\n",
        "    { \"name\": \"Petyr\", \"surname\": \"Baelish\", \"alive\": false, \"traits\": [\"E\",\"G\",\"F\"] },\n",
        "    { \"name\": \"Viserys\", \"surname\": \"Targaryen\", \"alive\": false, \"traits\": [\"O\",\"L\",\"N\"] },\n",
        "    { \"name\": \"Jon\", \"surname\": \"Snow\", \"alive\": true, \"age\": 16, \"traits\": [\"A\",\"B\",\"C\",\"F\"] },\n",
        "    { \"name\": \"Sansa\", \"surname\": \"Stark\", \"alive\": true, \"age\": 13, \"traits\": [\"D\",\"I\",\"J\"] },\n",
        "    { \"name\": \"Arya\", \"surname\": \"Stark\", \"alive\": true, \"age\": 11, \"traits\": [\"C\",\"K\",\"L\"] },\n",
        "    { \"name\": \"Robb\", \"surname\": \"Stark\", \"alive\": false, \"traits\": [\"A\",\"B\",\"C\",\"K\"] },\n",
        "    { \"name\": \"Theon\", \"surname\": \"Greyjoy\", \"alive\": true, \"age\": 16, \"traits\": [\"E\",\"R\",\"K\"] },\n",
        "    { \"name\": \"Bran\", \"surname\": \"Stark\", \"alive\": true, \"age\": 10, \"traits\": [\"L\",\"J\"] },\n",
        "    { \"name\": \"Joffrey\", \"surname\": \"Baratheon\", \"alive\": false, \"age\": 19, \"traits\": [\"I\",\"L\",\"O\"] },\n",
        "    { \"name\": \"Sandor\", \"surname\": \"Clegane\", \"alive\": true, \"traits\": [\"A\",\"P\",\"K\",\"F\"] },\n",
        "    { \"name\": \"Tyrion\", \"surname\": \"Lannister\", \"alive\": true, \"age\": 32, \"traits\": [\"F\",\"K\",\"M\",\"N\"] },\n",
        "    { \"name\": \"Khal\", \"surname\": \"Drogo\", \"alive\": false, \"traits\": [\"A\",\"C\",\"O\",\"P\"] },\n",
        "    { \"name\": \"Tywin\", \"surname\": \"Lannister\", \"alive\": false, \"traits\": [\"O\",\"M\",\"H\",\"F\"] },\n",
        "    { \"name\": \"Davos\", \"surname\": \"Seaworth\", \"alive\": true, \"age\": 49, \"traits\": [\"C\",\"K\",\"P\",\"F\"] },\n",
        "    { \"name\": \"Samwell\", \"surname\": \"Tarly\", \"alive\": true, \"age\": 17, \"traits\": [\"C\",\"L\",\"I\"] },\n",
        "    { \"name\": \"Stannis\", \"surname\": \"Baratheon\", \"alive\": false, \"traits\": [\"H\",\"O\",\"P\",\"M\"] },\n",
        "    { \"name\": \"Melisandre\", \"alive\": true, \"traits\": [\"G\",\"E\",\"H\"] },\n",
        "    { \"name\": \"Margaery\", \"surname\": \"Tyrell\", \"alive\": false, \"traits\": [\"M\",\"D\",\"B\"] },\n",
        "    { \"name\": \"Jeor\", \"surname\": \"Mormont\", \"alive\": false, \"traits\": [\"C\",\"H\",\"M\",\"P\"] },\n",
        "    { \"name\": \"Bronn\", \"alive\": true, \"traits\": [\"K\",\"E\",\"C\"] },\n",
        "    { \"name\": \"Varys\", \"alive\": true, \"traits\": [\"M\",\"F\",\"N\",\"E\"] },\n",
        "    { \"name\": \"Shae\", \"alive\": false, \"traits\": [\"M\",\"D\",\"G\"] },\n",
        "    { \"name\": \"Talisa\", \"surname\": \"Maegyr\", \"alive\": false, \"traits\": [\"D\",\"C\",\"B\"] },\n",
        "    { \"name\": \"Gendry\", \"alive\": false, \"traits\": [\"K\",\"C\",\"A\"] },\n",
        "    { \"name\": \"Ygritte\", \"alive\": false, \"traits\": [\"A\",\"P\",\"K\"] },\n",
        "    { \"name\": \"Tormund\", \"surname\": \"Giantsbane\", \"alive\": true, \"traits\": [\"C\",\"P\",\"A\",\"I\"] },\n",
        "    { \"name\": \"Gilly\", \"alive\": true, \"traits\": [\"L\",\"J\"] },\n",
        "    { \"name\": \"Brienne\", \"surname\": \"Tarth\", \"alive\": true, \"age\": 32, \"traits\": [\"P\",\"C\",\"A\",\"K\"] },\n",
        "    { \"name\": \"Ramsay\", \"surname\": \"Bolton\", \"alive\": true, \"traits\": [\"E\",\"O\",\"G\",\"A\"] },\n",
        "    { \"name\": \"Ellaria\", \"surname\": \"Sand\", \"alive\": true, \"traits\": [\"P\",\"O\",\"A\",\"E\"] },\n",
        "    { \"name\": \"Daario\", \"surname\": \"Naharis\", \"alive\": true, \"traits\": [\"K\",\"P\",\"A\"] },\n",
        "    { \"name\": \"Missandei\", \"alive\": true, \"traits\": [\"D\",\"L\",\"C\",\"M\"] },\n",
        "    { \"name\": \"Tommen\", \"surname\": \"Baratheon\", \"alive\": true, \"traits\": [\"I\",\"L\",\"B\"] },\n",
        "    { \"name\": \"Jaqen\", \"surname\": \"H'ghar\", \"alive\": true, \"traits\": [\"H\",\"F\",\"K\"] },\n",
        "    { \"name\": \"Roose\", \"surname\": \"Bolton\", \"alive\": true, \"traits\": [\"H\",\"E\",\"F\",\"A\"] },\n",
        "    { \"name\": \"The High Sparrow\", \"alive\": true, \"traits\": [\"H\",\"M\",\"F\",\"O\"] }\n",
        "]\n",
        "\n",
        "FOR d IN data\n",
        "    INSERT d INTO Characters\n",
        "\"\"\"\n",
        "\n",
        "db.AQLQuery(insert_query)"
      ],
      "execution_count": 31,
      "outputs": [
        {
          "output_type": "execute_result",
          "data": {
            "text/plain": [
              "<pyArango.query.AQLQuery at 0x7d35bac13280>"
            ]
          },
          "metadata": {},
          "execution_count": 31
        }
      ]
    },
    {
      "cell_type": "markdown",
      "metadata": {
        "id": "wDDdBVIc9ZMw"
      },
      "source": [
        "* Truy vấn cơ bản"
      ]
    },
    {
      "cell_type": "code",
      "metadata": {
        "colab": {
          "base_uri": "https://localhost:8080/"
        },
        "id": "-Tgzw5zd9SFZ",
        "outputId": "5b13d0af-1c8c-4ae0-cd8e-a2275de2afbf"
      },
      "source": [
        "all_characters_names = \"\"\"\n",
        "FOR name IN Characters\n",
        "    RETURN name.name\n",
        "\"\"\"\n",
        "\n",
        "query_result = db.AQLQuery(all_characters_names, rawResults=True)\n",
        "\n",
        "# Lấy ra chỉ 10 tên\n",
        "for i in range(10):\n",
        "  print(query_result[i])"
      ],
      "execution_count": 32,
      "outputs": [
        {
          "output_type": "stream",
          "name": "stdout",
          "text": [
            "Ned\n",
            "Robert\n",
            "Jaime\n",
            "Catelyn\n",
            "Cersei\n",
            "Daenerys\n",
            "Jorah\n",
            "Petyr\n",
            "Viserys\n",
            "Jon\n"
          ]
        }
      ]
    },
    {
      "cell_type": "code",
      "source": [
        "list(query_result)"
      ],
      "metadata": {
        "colab": {
          "base_uri": "https://localhost:8080/"
        },
        "id": "Ue08pnHkbJuX",
        "outputId": "c17af6b2-b882-4bac-9134-8e2826688bc3"
      },
      "execution_count": 33,
      "outputs": [
        {
          "output_type": "execute_result",
          "data": {
            "text/plain": [
              "['Ned',\n",
              " 'Robert',\n",
              " 'Jaime',\n",
              " 'Catelyn',\n",
              " 'Cersei',\n",
              " 'Daenerys',\n",
              " 'Jorah',\n",
              " 'Petyr',\n",
              " 'Viserys',\n",
              " 'Jon',\n",
              " 'Sansa',\n",
              " 'Arya',\n",
              " 'Robb',\n",
              " 'Theon',\n",
              " 'Bran',\n",
              " 'Joffrey',\n",
              " 'Sandor',\n",
              " 'Tyrion',\n",
              " 'Khal',\n",
              " 'Tywin',\n",
              " 'Davos',\n",
              " 'Samwell',\n",
              " 'Stannis',\n",
              " 'Melisandre',\n",
              " 'Margaery',\n",
              " 'Jeor',\n",
              " 'Bronn',\n",
              " 'Varys',\n",
              " 'Shae',\n",
              " 'Talisa',\n",
              " 'Gendry',\n",
              " 'Ygritte',\n",
              " 'Tormund',\n",
              " 'Gilly',\n",
              " 'Brienne',\n",
              " 'Ramsay',\n",
              " 'Ellaria',\n",
              " 'Daario',\n",
              " 'Missandei',\n",
              " 'Tommen',\n",
              " 'Jaqen',\n",
              " 'Roose',\n",
              " 'The High Sparrow']"
            ]
          },
          "metadata": {},
          "execution_count": 33
        }
      ]
    },
    {
      "cell_type": "markdown",
      "metadata": {
        "id": "kaYENPPOor5V"
      },
      "source": [
        "* **Truy vấn có điều kiện**\n"
      ]
    },
    {
      "cell_type": "code",
      "metadata": {
        "colab": {
          "base_uri": "https://localhost:8080/"
        },
        "id": "EuUer1pqorTA",
        "outputId": "43f3703b-f854-4823-cfd0-13d894d0f302"
      },
      "source": [
        "find_ned_query = \"\"\"\n",
        "FOR c IN Characters\n",
        "    FILTER c.alive == false\n",
        "    RETURN c.name\n",
        "\"\"\"\n",
        "query_result = db.AQLQuery(find_ned_query, rawResults=True)\n",
        "for doc in  query_result:\n",
        "    print(doc, sep='\\n')"
      ],
      "execution_count": 34,
      "outputs": [
        {
          "output_type": "stream",
          "name": "stdout",
          "text": [
            "Robert\n",
            "Catelyn\n",
            "Jorah\n",
            "Petyr\n",
            "Viserys\n",
            "Robb\n",
            "Joffrey\n",
            "Khal\n",
            "Tywin\n",
            "Stannis\n",
            "Margaery\n",
            "Jeor\n",
            "Shae\n",
            "Talisa\n",
            "Gendry\n",
            "Ygritte\n"
          ]
        }
      ]
    },
    {
      "cell_type": "code",
      "metadata": {
        "colab": {
          "base_uri": "https://localhost:8080/"
        },
        "id": "IyeRAJnbp6FH",
        "outputId": "985d3428-868c-497a-ae98-df2e8306187a"
      },
      "source": [
        "find_ned_query = \"\"\"\n",
        "FOR c IN Characters\n",
        "    FILTER c.alive == true AND c.age >= 18\n",
        "    RETURN c.name\n",
        "\"\"\"\n",
        "query_result = db.AQLQuery(find_ned_query, rawResults=True)\n",
        "\n",
        "for doc in  query_result:\n",
        "    print(doc, sep='\\n')"
      ],
      "execution_count": 35,
      "outputs": [
        {
          "output_type": "stream",
          "name": "stdout",
          "text": [
            "Ned\n",
            "Jaime\n",
            "Cersei\n",
            "Tyrion\n",
            "Davos\n",
            "Brienne\n"
          ]
        }
      ]
    },
    {
      "cell_type": "code",
      "metadata": {
        "colab": {
          "base_uri": "https://localhost:8080/"
        },
        "id": "rclhqtUmqLtv",
        "outputId": "f703058f-185d-4edc-e64f-410c91e5989b"
      },
      "source": [
        "find_ned_query = \"\"\"\n",
        "FOR c IN Characters\n",
        "    FILTER c.alive == false AND c.age >= 18\n",
        "    RETURN { Name: c.name, Surname: c.surname, Age: c.age }\n",
        "\"\"\"\n",
        "query_result = db.AQLQuery(find_ned_query, rawResults=True)\n",
        "\n",
        "for doc in  query_result:\n",
        "    print(doc, sep='\\n')"
      ],
      "execution_count": 36,
      "outputs": [
        {
          "output_type": "stream",
          "name": "stdout",
          "text": [
            "{'Name': 'Catelyn', 'Surname': 'Stark', 'Age': 40}\n",
            "{'Name': 'Joffrey', 'Surname': 'Baratheon', 'Age': 19}\n"
          ]
        }
      ]
    },
    {
      "cell_type": "code",
      "metadata": {
        "colab": {
          "base_uri": "https://localhost:8080/"
        },
        "id": "BueJY1kdpLEe",
        "outputId": "c0025caf-2175-4f21-b2e1-4a25730ec4fd"
      },
      "source": [
        "find_ned_query = \"\"\"\n",
        "FOR c IN Characters\n",
        "    FILTER c.surname == \"Bolton\"\n",
        "    RETURN {Name: c.name, Surname: c.surname}\n",
        "\"\"\"\n",
        "query_result = db.AQLQuery(find_ned_query, rawResults=True)\n",
        "for doc in  query_result:\n",
        "    print(doc, sep='\\n')"
      ],
      "execution_count": 37,
      "outputs": [
        {
          "output_type": "stream",
          "name": "stdout",
          "text": [
            "{'Name': 'Ramsay', 'Surname': 'Bolton'}\n",
            "{'Name': 'Roose', 'Surname': 'Bolton'}\n"
          ]
        }
      ]
    },
    {
      "cell_type": "code",
      "metadata": {
        "colab": {
          "base_uri": "https://localhost:8080/"
        },
        "id": "ip5c4XMCq9UI",
        "outputId": "c936dc77-e77e-460b-fb27-c165769e09fd"
      },
      "source": [
        "\n",
        "sample_chars_query = \"\"\"\n",
        "FOR c IN Characters\n",
        "    LIMIT 10\n",
        "    RETURN c.name\n",
        "\"\"\"\n",
        "\n",
        "query_result = db.AQLQuery(sample_chars_query, rawResults=True)\n",
        "\n",
        "for doc in  query_result:\n",
        "    print(doc, sep='\\n')"
      ],
      "execution_count": 38,
      "outputs": [
        {
          "output_type": "stream",
          "name": "stdout",
          "text": [
            "Ned\n",
            "Robert\n",
            "Jaime\n",
            "Catelyn\n",
            "Cersei\n",
            "Daenerys\n",
            "Jorah\n",
            "Petyr\n",
            "Viserys\n",
            "Jon\n"
          ]
        }
      ]
    },
    {
      "cell_type": "code",
      "metadata": {
        "colab": {
          "base_uri": "https://localhost:8080/"
        },
        "id": "oGpice0GrHdI",
        "outputId": "ad3108b1-baf9-4d3c-9291-5295d22b388b"
      },
      "source": [
        "\n",
        "sample_chars_query = \"\"\"\n",
        "FOR c IN Characters\n",
        "    SORT c.name\n",
        "    LIMIT 10\n",
        "    RETURN { Name: c.name, Surname: c.surname, Age: c.age }\n",
        "\"\"\"\n",
        "\n",
        "query_result = db.AQLQuery(sample_chars_query, rawResults=True)\n",
        "\n",
        "for doc in  query_result:\n",
        "    print(doc, sep='\\n')"
      ],
      "execution_count": 39,
      "outputs": [
        {
          "output_type": "stream",
          "name": "stdout",
          "text": [
            "{'Name': 'Arya', 'Surname': 'Stark', 'Age': 11}\n",
            "{'Name': 'Bran', 'Surname': 'Stark', 'Age': 10}\n",
            "{'Name': 'Brienne', 'Surname': 'Tarth', 'Age': 32}\n",
            "{'Name': 'Bronn', 'Surname': None, 'Age': None}\n",
            "{'Name': 'Catelyn', 'Surname': 'Stark', 'Age': 40}\n",
            "{'Name': 'Cersei', 'Surname': 'Lannister', 'Age': 36}\n",
            "{'Name': 'Daario', 'Surname': 'Naharis', 'Age': None}\n",
            "{'Name': 'Daenerys', 'Surname': 'Targaryen', 'Age': 16}\n",
            "{'Name': 'Davos', 'Surname': 'Seaworth', 'Age': 49}\n",
            "{'Name': 'Ellaria', 'Surname': 'Sand', 'Age': None}\n"
          ]
        }
      ]
    },
    {
      "cell_type": "markdown",
      "source": [
        "## Tạo đồ thị"
      ],
      "metadata": {
        "id": "krTk0NU014Yx"
      }
    },
    {
      "cell_type": "code",
      "source": [
        "from pyArango.collection import Collection, Field, Edges\n",
        "from pyArango.graph import Graph, EdgeDefinition\n",
        "\n",
        "# Định nghĩa Collections\n",
        "class Places(Collection):\n",
        "    _fields = {\n",
        "        \"label\": Field()\n",
        "    }\n",
        "\n",
        "class Connect(Edges):\n",
        "    _fields = {\n",
        "        \"travelTime\": Field()\n",
        "    }\n",
        "\n",
        "# Định nghĩa Graph\n",
        "class TravelGraph(Graph):\n",
        "    _edgeDefinitions = [\n",
        "        EdgeDefinition(\"Connect\", fromCollections=[\"Places\"], toCollections=[\"Places\"]),\n",
        "        ]\n",
        "    _orphanedCollections = []\n",
        "\n",
        "\n",
        "if \"Places\" not in db.collections:\n",
        "    db.createCollection(className=\"Places\")\n",
        "\n",
        "if \"Connect\" not in db.collections:\n",
        "    db.createCollection(className=\"Connect\")\n",
        "\n",
        "# Tạo graph\n",
        "if \"TravelGraph\" not in db.graphs:\n",
        "    travel_graph = db.createGraph(\"TravelGraph\")\n",
        "else:\n",
        "    travel_graph = db.graphs[\"TravelGraph\"]\n",
        "\n",
        "\n",
        "import json\n",
        "\n",
        "# Đọc dữ liệu từ tệp JSON\n",
        "with open(\"places.json\", \"r\") as f:\n",
        "    places_data = json.load(f)\n",
        "    db[\"Places\"].importBulk(places_data)\n",
        "\n",
        "\n",
        "with open(\"connect.json\", \"r\") as f:\n",
        "    connections_data = json.load(f)\n",
        "    db[\"Connect\"].importBulk(connections_data)\n",
        "\n",
        "print(\"Graph created successfully!\")"
      ],
      "metadata": {
        "colab": {
          "base_uri": "https://localhost:8080/"
        },
        "id": "jMTqhbHj3JLw",
        "outputId": "e7153790-6d44-46b8-b2c7-8af0c681847d"
      },
      "execution_count": 40,
      "outputs": [
        {
          "output_type": "stream",
          "name": "stdout",
          "text": [
            "Graph created successfully!\n"
          ]
        }
      ]
    },
    {
      "cell_type": "markdown",
      "source": [
        "## Đường đi ngắn nhất"
      ],
      "metadata": {
        "id": "ofeagclwhHXK"
      }
    },
    {
      "cell_type": "code",
      "source": [
        "query = \"\"\"\n",
        "FOR p IN OUTBOUND K_SHORTEST_PATHS 'Places/Aberdeen' TO 'Places/Vancouver'\n",
        "GRAPH 'TravelGraph'\n",
        "    LIMIT 1\n",
        "    RETURN {\n",
        "        places: p.vertices[*].label,\n",
        "        travelTimeTotal: SUM(p.edges[*].travelTime)\n",
        "    }\n",
        "\"\"\"\n",
        "\n",
        "query_result = db.AQLQuery(query, rawResults=True)\n",
        "\n",
        "for doc in query_result:\n",
        "    print(doc, sep='\\n')"
      ],
      "metadata": {
        "id": "6V7W5WTNPAyF"
      },
      "execution_count": 42,
      "outputs": []
    },
    {
      "cell_type": "code",
      "source": [
        "\n",
        "query = \"\"\"\n",
        "FOR v, e, p IN 2..3 OUTBOUND \"Places/London\" GRAPH \"TravelGraph\"\n",
        "\n",
        "  OPTIONS { uniqueVertices: \"path\", bfs: true}\n",
        "  RETURN CONCAT_SEPARATOR(\" -- \", p.vertices[*].label)\n",
        "\"\"\"\n",
        "\n",
        "query_result = db.AQLQuery(query, rawResults=True)\n",
        "\n",
        "for doc in query_result:\n",
        "    print(doc, sep='\\n')"
      ],
      "metadata": {
        "colab": {
          "base_uri": "https://localhost:8080/"
        },
        "id": "KitN7gOr2pDg",
        "outputId": "6ffc8008-5868-4e62-d85c-15bfc5e87bee"
      },
      "execution_count": 59,
      "outputs": [
        {
          "output_type": "stream",
          "name": "stdout",
          "text": [
            "London -- Birmingham -- Carlisle\n",
            "London -- York -- Edinburgh\n",
            "London -- York -- Carlisle\n",
            "London -- Brussels -- Cologne\n",
            "London -- Birmingham -- Carlisle -- Glasgow\n",
            "London -- Birmingham -- Carlisle -- York\n",
            "London -- York -- Edinburgh -- Leuchars\n",
            "London -- York -- Edinburgh -- Glasgow\n",
            "London -- York -- Carlisle -- Glasgow\n",
            "London -- York -- Carlisle -- Birmingham\n"
          ]
        }
      ]
    }
  ]
}
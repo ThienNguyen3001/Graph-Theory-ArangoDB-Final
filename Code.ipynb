{
  "cells": [
    {
      "cell_type": "markdown",
      "metadata": {
        "id": "view-in-github",
        "colab_type": "text"
      },
      "source": [
        "<a href=\"https://colab.research.google.com/github/ThienNguyen3001/Graph-Theory-ArangoDB-Final/blob/main/Code.ipynb\" target=\"_parent\"><img src=\"https://colab.research.google.com/assets/colab-badge.svg\" alt=\"Open In Colab\"/></a>"
      ]
    },
    {
      "cell_type": "markdown",
      "metadata": {
        "id": "POij76PeFdjh"
      },
      "source": [
        "# 1. Chuẩn bị"
      ]
    },
    {
      "cell_type": "markdown",
      "metadata": {
        "id": "7lVullbUS8TB"
      },
      "source": [
        "* Gọi môi trường"
      ]
    },
    {
      "cell_type": "code",
      "execution_count": 1,
      "metadata": {
        "id": "tti5sHrmFSZz"
      },
      "outputs": [],
      "source": [
        "%%capture\n",
        "!git clone https://github.com/ThienNguyen3001/Graph-Theory-ArangoDB-Final.git\n",
        "!rsync -av Graph-Theory-ArangoDB-Final/ ./ --exclude=.git\n",
        "!pip3 install pyarango\n",
        "!pip3 install \"python-arango>=5.0\""
      ]
    },
    {
      "cell_type": "code",
      "execution_count": 2,
      "metadata": {
        "id": "W7c4YugFFajT"
      },
      "outputs": [],
      "source": [
        "import oasis\n",
        "from pyArango.connection import *"
      ]
    },
    {
      "cell_type": "markdown",
      "metadata": {
        "id": "X-VQbcIpGlp3"
      },
      "source": [
        "* **Tạo cơ sở dữ liệu tạm thời**\n"
      ]
    },
    {
      "cell_type": "code",
      "execution_count": 3,
      "metadata": {
        "colab": {
          "base_uri": "https://localhost:8080/"
        },
        "id": "ae-W9Y89Gaxl",
        "outputId": "2cbb86b2-65a6-49e0-abbd-f077f1c0a574"
      },
      "outputs": [
        {
          "output_type": "stream",
          "name": "stdout",
          "text": [
            "Yêu cầu thông tin xác thực tạm thời mới.\n",
            "Cơ sở dữ liệu tạm thời đã sẵn sàng để sử dụng.\n"
          ]
        }
      ],
      "source": [
        "# Retrieve tmp credentials from ArangoDB Tutorial Service\n",
        "login = oasis.getTempCredentials(tutorialName='test',\n",
        "                                 credentialProvider='https://tutorials.arangodb.cloud:8529/_db/_system/tutorialDB/tutorialDB')\n",
        "\n",
        "# Connect to the temp database\n",
        "conn = oasis.connect(login)\n",
        "db = conn[login['dbName']]"
      ]
    },
    {
      "cell_type": "markdown",
      "metadata": {
        "id": "fxXH_B4L62V4"
      },
      "source": [
        "* **Xem thông tin DB đã tạo**\n"
      ]
    },
    {
      "cell_type": "code",
      "execution_count": 4,
      "metadata": {
        "colab": {
          "base_uri": "https://localhost:8080/"
        },
        "id": "51Df5hM9GpW3",
        "outputId": "a4ca723c-ec59-4b6c-eb8d-5f471f1f81b5"
      },
      "outputs": [
        {
          "output_type": "stream",
          "name": "stdout",
          "text": [
            "https://tutorials.arangodb.cloud:8529\n",
            "Username: TUTla8qwclaus5vyuuz7hkrv\n",
            "Password: TUTff7sjgoebtbkm9pyqroxw\n",
            "Database: TUThyzz66zrxofn5s49s6sgsn\n"
          ]
        }
      ],
      "source": [
        "print('https://{}:{}'.format(login['hostname'], login['port']))\n",
        "print('Username: ' + login['username'])\n",
        "print('Password: ' + login['password'])\n",
        "print('Database: ' + login['dbName'])\n"
      ]
    },
    {
      "cell_type": "code",
      "execution_count": 5,
      "metadata": {
        "colab": {
          "base_uri": "https://localhost:8080/"
        },
        "id": "KTG7z1VdLdnq",
        "outputId": "8ddd434a-5130-48c2-f686-762ea09378f7"
      },
      "outputs": [
        {
          "output_type": "stream",
          "name": "stdout",
          "text": [
            "<class 'dict'>\n",
            "{'dbName': 'TUThyzz66zrxofn5s49s6sgsn', 'username': 'TUTla8qwclaus5vyuuz7hkrv', 'password': 'TUTff7sjgoebtbkm9pyqroxw', 'hostname': 'tutorials.arangodb.cloud', 'port': 8529}\n"
          ]
        }
      ],
      "source": [
        "print(type(login), login, sep='\\n')"
      ]
    },
    {
      "cell_type": "markdown",
      "metadata": {
        "id": "IWKKWzl6-IGG"
      },
      "source": [
        "# 2. Tạo dữ liệu AQL"
      ]
    },
    {
      "cell_type": "markdown",
      "metadata": {
        "id": "DGNTaEik7Bc9"
      },
      "source": [
        "* **Tạo collection \"Collection\" trong DB**\n",
        "\n",
        "Các bộ sưu tập trong ArangoDB. Chúng chỉ được thao tác thông qua các ngôn ngữ Ngôn ngữ truy vấn Arango NoSQL (AQL). Các hướng dẫn bên dưới tạo ra một bộ sưu tập và có thể liên quan đến các hướng dẫn DDL của ngôn ngữ SQL. Trong ví dụ này, nhóm sẽ tạo các nhân vật trong loạt phim \"*Game of Thrones*\"."
      ]
    },
    {
      "cell_type": "code",
      "execution_count": 6,
      "metadata": {
        "id": "OyBZJOBK67ic"
      },
      "outputs": [],
      "source": [
        "collecName = 'Characters'\n",
        "if collecName not in db.collections:\n",
        "\tdb.createCollection(name=collecName)\n",
        "else:\n",
        "\tprint(f\"Collection '{collecName}' đã tồn tại\")"
      ]
    },
    {
      "cell_type": "markdown",
      "metadata": {
        "id": "aMC8ItNR78ti"
      },
      "source": [
        "* **Thêm data bằng Insert**"
      ]
    },
    {
      "cell_type": "code",
      "execution_count": 7,
      "metadata": {
        "colab": {
          "base_uri": "https://localhost:8080/"
        },
        "id": "NgXyYDEp73Cx",
        "outputId": "1145e4a1-2ce1-4bde-a7bf-1866d25ab0a6"
      },
      "outputs": [
        {
          "output_type": "execute_result",
          "data": {
            "text/plain": [
              "<pyArango.query.AQLQuery at 0x7e3e99034670>"
            ]
          },
          "metadata": {},
          "execution_count": 7
        }
      ],
      "source": [
        "insert_query = \"\"\"\n",
        "INSERT {\n",
        "    \"name\": \"Ned\",\n",
        "    \"surname\": \"Stark\",\n",
        "    \"alive\": true,\n",
        "    \"age\": 41,\n",
        "    \"traits\": [\"A\",\"H\",\"C\",\"N\",\"P\"]\n",
        "} INTO Characters\n",
        "\"\"\"\n",
        "\n",
        "db.AQLQuery(insert_query)"
      ]
    },
    {
      "cell_type": "markdown",
      "metadata": {
        "id": "frf63oEO8GtC"
      },
      "source": [
        "* Lấy tất cả các nhân vật trong bản ghi"
      ]
    },
    {
      "cell_type": "code",
      "execution_count": 8,
      "metadata": {
        "colab": {
          "base_uri": "https://localhost:8080/"
        },
        "id": "LWP-4b0B8G0P",
        "outputId": "78f23d05-816b-4c49-897b-fbe5a8ff85de"
      },
      "outputs": [
        {
          "output_type": "stream",
          "name": "stdout",
          "text": [
            "{'_key': '266272396688', '_id': 'Characters/266272396688', '_rev': '_jDBihUi---', 'name': 'Ned', 'surname': 'Stark', 'alive': True, 'age': 41, 'traits': ['A', 'H', 'C', 'N', 'P']}\n",
            "\n"
          ]
        }
      ],
      "source": [
        "all_characters = \"\"\"\n",
        "FOR c IN Characters\n",
        "    RETURN c\n",
        "\"\"\"\n",
        "\n",
        "query_result = db.AQLQuery(all_characters, rawResults=True)\n",
        "\n",
        "for doc in  query_result:\n",
        "    print(doc)\n",
        "    print()"
      ]
    },
    {
      "cell_type": "markdown",
      "metadata": {
        "id": "3qkve90S8U6K"
      },
      "source": [
        "* **Chèn các bản ghi**"
      ]
    },
    {
      "cell_type": "code",
      "execution_count": 9,
      "metadata": {
        "colab": {
          "base_uri": "https://localhost:8080/"
        },
        "id": "0pTp6W-b8ZT5",
        "outputId": "16b14f15-bc2c-473a-fa39-1b6b74574552"
      },
      "outputs": [
        {
          "output_type": "execute_result",
          "data": {
            "text/plain": [
              "<pyArango.query.AQLQuery at 0x7e3e99035060>"
            ]
          },
          "metadata": {},
          "execution_count": 9
        }
      ],
      "source": [
        "insert_query = \"\"\"\n",
        "LET data = [\n",
        "    { \"name\": \"Robert\", \"surname\": \"Baratheon\", \"alive\": false, \"traits\": [\"A\",\"H\",\"C\"] },\n",
        "    { \"name\": \"Jaime\", \"surname\": \"Lannister\", \"alive\": true, \"age\": 36, \"traits\": [\"A\",\"F\",\"B\"] },\n",
        "    { \"name\": \"Catelyn\", \"surname\": \"Stark\", \"alive\": false, \"age\": 40, \"traits\": [\"D\",\"H\",\"C\"] },\n",
        "    { \"name\": \"Cersei\", \"surname\": \"Lannister\", \"alive\": true, \"age\": 36, \"traits\": [\"H\",\"E\",\"F\"] },\n",
        "    { \"name\": \"Daenerys\", \"surname\": \"Targaryen\", \"alive\": true, \"age\": 16, \"traits\": [\"D\",\"H\",\"C\"] },\n",
        "    { \"name\": \"Jorah\", \"surname\": \"Mormont\", \"alive\": false, \"traits\": [\"A\",\"B\",\"C\",\"F\"] },\n",
        "    { \"name\": \"Petyr\", \"surname\": \"Baelish\", \"alive\": false, \"traits\": [\"E\",\"G\",\"F\"] },\n",
        "    { \"name\": \"Viserys\", \"surname\": \"Targaryen\", \"alive\": false, \"traits\": [\"O\",\"L\",\"N\"] },\n",
        "    { \"name\": \"Jon\", \"surname\": \"Snow\", \"alive\": true, \"age\": 16, \"traits\": [\"A\",\"B\",\"C\",\"F\"] },\n",
        "    { \"name\": \"Sansa\", \"surname\": \"Stark\", \"alive\": true, \"age\": 13, \"traits\": [\"D\",\"I\",\"J\"] },\n",
        "    { \"name\": \"Arya\", \"surname\": \"Stark\", \"alive\": true, \"age\": 11, \"traits\": [\"C\",\"K\",\"L\"] },\n",
        "    { \"name\": \"Robb\", \"surname\": \"Stark\", \"alive\": false, \"traits\": [\"A\",\"B\",\"C\",\"K\"] },\n",
        "    { \"name\": \"Theon\", \"surname\": \"Greyjoy\", \"alive\": true, \"age\": 16, \"traits\": [\"E\",\"R\",\"K\"] },\n",
        "    { \"name\": \"Bran\", \"surname\": \"Stark\", \"alive\": true, \"age\": 10, \"traits\": [\"L\",\"J\"] },\n",
        "    { \"name\": \"Joffrey\", \"surname\": \"Baratheon\", \"alive\": false, \"age\": 19, \"traits\": [\"I\",\"L\",\"O\"] },\n",
        "    { \"name\": \"Sandor\", \"surname\": \"Clegane\", \"alive\": true, \"traits\": [\"A\",\"P\",\"K\",\"F\"] },\n",
        "    { \"name\": \"Tyrion\", \"surname\": \"Lannister\", \"alive\": true, \"age\": 32, \"traits\": [\"F\",\"K\",\"M\",\"N\"] },\n",
        "    { \"name\": \"Khal\", \"surname\": \"Drogo\", \"alive\": false, \"traits\": [\"A\",\"C\",\"O\",\"P\"] },\n",
        "    { \"name\": \"Tywin\", \"surname\": \"Lannister\", \"alive\": false, \"traits\": [\"O\",\"M\",\"H\",\"F\"] },\n",
        "    { \"name\": \"Davos\", \"surname\": \"Seaworth\", \"alive\": true, \"age\": 49, \"traits\": [\"C\",\"K\",\"P\",\"F\"] },\n",
        "    { \"name\": \"Samwell\", \"surname\": \"Tarly\", \"alive\": true, \"age\": 17, \"traits\": [\"C\",\"L\",\"I\"] },\n",
        "    { \"name\": \"Stannis\", \"surname\": \"Baratheon\", \"alive\": false, \"traits\": [\"H\",\"O\",\"P\",\"M\"] },\n",
        "    { \"name\": \"Melisandre\", \"alive\": true, \"traits\": [\"G\",\"E\",\"H\"] },\n",
        "    { \"name\": \"Margaery\", \"surname\": \"Tyrell\", \"alive\": false, \"traits\": [\"M\",\"D\",\"B\"] },\n",
        "    { \"name\": \"Jeor\", \"surname\": \"Mormont\", \"alive\": false, \"traits\": [\"C\",\"H\",\"M\",\"P\"] },\n",
        "    { \"name\": \"Bronn\", \"alive\": true, \"traits\": [\"K\",\"E\",\"C\"] },\n",
        "    { \"name\": \"Varys\", \"alive\": true, \"traits\": [\"M\",\"F\",\"N\",\"E\"] },\n",
        "    { \"name\": \"Shae\", \"alive\": false, \"traits\": [\"M\",\"D\",\"G\"] },\n",
        "    { \"name\": \"Talisa\", \"surname\": \"Maegyr\", \"alive\": false, \"traits\": [\"D\",\"C\",\"B\"] },\n",
        "    { \"name\": \"Gendry\", \"alive\": false, \"traits\": [\"K\",\"C\",\"A\"] },\n",
        "    { \"name\": \"Ygritte\", \"alive\": false, \"traits\": [\"A\",\"P\",\"K\"] },\n",
        "    { \"name\": \"Tormund\", \"surname\": \"Giantsbane\", \"alive\": true, \"traits\": [\"C\",\"P\",\"A\",\"I\"] },\n",
        "    { \"name\": \"Gilly\", \"alive\": true, \"traits\": [\"L\",\"J\"] },\n",
        "    { \"name\": \"Brienne\", \"surname\": \"Tarth\", \"alive\": true, \"age\": 32, \"traits\": [\"P\",\"C\",\"A\",\"K\"] },\n",
        "    { \"name\": \"Ramsay\", \"surname\": \"Bolton\", \"alive\": true, \"traits\": [\"E\",\"O\",\"G\",\"A\"] },\n",
        "    { \"name\": \"Ellaria\", \"surname\": \"Sand\", \"alive\": true, \"traits\": [\"P\",\"O\",\"A\",\"E\"] },\n",
        "    { \"name\": \"Daario\", \"surname\": \"Naharis\", \"alive\": true, \"traits\": [\"K\",\"P\",\"A\"] },\n",
        "    { \"name\": \"Missandei\", \"alive\": true, \"traits\": [\"D\",\"L\",\"C\",\"M\"] },\n",
        "    { \"name\": \"Tommen\", \"surname\": \"Baratheon\", \"alive\": true, \"traits\": [\"I\",\"L\",\"B\"] },\n",
        "    { \"name\": \"Jaqen\", \"surname\": \"H'ghar\", \"alive\": true, \"traits\": [\"H\",\"F\",\"K\"] },\n",
        "    { \"name\": \"Roose\", \"surname\": \"Bolton\", \"alive\": true, \"traits\": [\"H\",\"E\",\"F\",\"A\"] },\n",
        "    { \"name\": \"The High Sparrow\", \"alive\": true, \"traits\": [\"H\",\"M\",\"F\",\"O\"] }\n",
        "]\n",
        "\n",
        "FOR d IN data\n",
        "    INSERT d INTO Characters\n",
        "\"\"\"\n",
        "\n",
        "db.AQLQuery(insert_query)"
      ]
    },
    {
      "cell_type": "markdown",
      "metadata": {
        "id": "wDDdBVIc9ZMw"
      },
      "source": [
        "* Truy vấn cơ bản"
      ]
    },
    {
      "cell_type": "code",
      "execution_count": 10,
      "metadata": {
        "colab": {
          "base_uri": "https://localhost:8080/"
        },
        "id": "-Tgzw5zd9SFZ",
        "outputId": "54517891-f34d-43ab-d0aa-6053640e115f"
      },
      "outputs": [
        {
          "output_type": "stream",
          "name": "stdout",
          "text": [
            "Ned\n",
            "Robert\n",
            "Jaime\n",
            "Catelyn\n",
            "Cersei\n",
            "Daenerys\n",
            "Jorah\n",
            "Petyr\n",
            "Viserys\n",
            "Jon\n"
          ]
        }
      ],
      "source": [
        "all_characters_names = \"\"\"\n",
        "FOR name IN Characters\n",
        "    RETURN name.name\n",
        "\"\"\"\n",
        "\n",
        "query_result = db.AQLQuery(all_characters_names, rawResults=True)\n",
        "\n",
        "# Lấy ra chỉ 10 tên\n",
        "for i in range(10):\n",
        "  print(query_result[i])"
      ]
    },
    {
      "cell_type": "code",
      "execution_count": 11,
      "metadata": {
        "colab": {
          "base_uri": "https://localhost:8080/"
        },
        "id": "Ue08pnHkbJuX",
        "outputId": "3e828150-525b-4573-c5fc-95f028f970b2"
      },
      "outputs": [
        {
          "output_type": "execute_result",
          "data": {
            "text/plain": [
              "['Ned',\n",
              " 'Robert',\n",
              " 'Jaime',\n",
              " 'Catelyn',\n",
              " 'Cersei',\n",
              " 'Daenerys',\n",
              " 'Jorah',\n",
              " 'Petyr',\n",
              " 'Viserys',\n",
              " 'Jon',\n",
              " 'Sansa',\n",
              " 'Arya',\n",
              " 'Robb',\n",
              " 'Theon',\n",
              " 'Bran',\n",
              " 'Joffrey',\n",
              " 'Sandor',\n",
              " 'Tyrion',\n",
              " 'Khal',\n",
              " 'Tywin',\n",
              " 'Davos',\n",
              " 'Samwell',\n",
              " 'Stannis',\n",
              " 'Melisandre',\n",
              " 'Margaery',\n",
              " 'Jeor',\n",
              " 'Bronn',\n",
              " 'Varys',\n",
              " 'Shae',\n",
              " 'Talisa',\n",
              " 'Gendry',\n",
              " 'Ygritte',\n",
              " 'Tormund',\n",
              " 'Gilly',\n",
              " 'Brienne',\n",
              " 'Ramsay',\n",
              " 'Ellaria',\n",
              " 'Daario',\n",
              " 'Missandei',\n",
              " 'Tommen',\n",
              " 'Jaqen',\n",
              " 'Roose',\n",
              " 'The High Sparrow']"
            ]
          },
          "metadata": {},
          "execution_count": 11
        }
      ],
      "source": [
        "list(query_result)"
      ]
    },
    {
      "cell_type": "markdown",
      "metadata": {
        "id": "kaYENPPOor5V"
      },
      "source": [
        "* **Truy vấn có điều kiện**\n"
      ]
    },
    {
      "cell_type": "code",
      "execution_count": 12,
      "metadata": {
        "colab": {
          "base_uri": "https://localhost:8080/"
        },
        "id": "EuUer1pqorTA",
        "outputId": "328b8c7c-d26c-4c41-c52a-20f1d0e51fe3"
      },
      "outputs": [
        {
          "output_type": "stream",
          "name": "stdout",
          "text": [
            "Robert\n",
            "Catelyn\n",
            "Jorah\n",
            "Petyr\n",
            "Viserys\n",
            "Robb\n",
            "Joffrey\n",
            "Khal\n",
            "Tywin\n",
            "Stannis\n",
            "Margaery\n",
            "Jeor\n",
            "Shae\n",
            "Talisa\n",
            "Gendry\n",
            "Ygritte\n"
          ]
        }
      ],
      "source": [
        "find_ned_query = \"\"\"\n",
        "FOR c IN Characters\n",
        "    FILTER c.alive == false\n",
        "    RETURN c.name\n",
        "\"\"\"\n",
        "query_result = db.AQLQuery(find_ned_query, rawResults=True)\n",
        "for doc in  query_result:\n",
        "    print(doc, sep='\\n')"
      ]
    },
    {
      "cell_type": "code",
      "execution_count": 13,
      "metadata": {
        "colab": {
          "base_uri": "https://localhost:8080/"
        },
        "id": "IyeRAJnbp6FH",
        "outputId": "532f9660-2c1c-4c71-ad3a-223ee09c9e22"
      },
      "outputs": [
        {
          "output_type": "stream",
          "name": "stdout",
          "text": [
            "Ned\n",
            "Jaime\n",
            "Cersei\n",
            "Tyrion\n",
            "Davos\n",
            "Brienne\n"
          ]
        }
      ],
      "source": [
        "find_ned_query = \"\"\"\n",
        "FOR c IN Characters\n",
        "    FILTER c.alive == true AND c.age >= 18\n",
        "    RETURN c.name\n",
        "\"\"\"\n",
        "query_result = db.AQLQuery(find_ned_query, rawResults=True)\n",
        "\n",
        "for doc in  query_result:\n",
        "    print(doc, sep='\\n')"
      ]
    },
    {
      "cell_type": "code",
      "execution_count": 14,
      "metadata": {
        "colab": {
          "base_uri": "https://localhost:8080/"
        },
        "id": "rclhqtUmqLtv",
        "outputId": "47015e48-9120-4820-d5c9-27ee0e17b2a4"
      },
      "outputs": [
        {
          "output_type": "stream",
          "name": "stdout",
          "text": [
            "{'Name': 'Catelyn', 'Surname': 'Stark', 'Age': 40}\n",
            "{'Name': 'Joffrey', 'Surname': 'Baratheon', 'Age': 19}\n"
          ]
        }
      ],
      "source": [
        "find_ned_query = \"\"\"\n",
        "FOR c IN Characters\n",
        "    FILTER c.alive == false AND c.age >= 18\n",
        "    RETURN { Name: c.name, Surname: c.surname, Age: c.age }\n",
        "\"\"\"\n",
        "query_result = db.AQLQuery(find_ned_query, rawResults=True)\n",
        "\n",
        "for doc in  query_result:\n",
        "    print(doc, sep='\\n')"
      ]
    },
    {
      "cell_type": "code",
      "execution_count": 15,
      "metadata": {
        "colab": {
          "base_uri": "https://localhost:8080/"
        },
        "id": "BueJY1kdpLEe",
        "outputId": "da7498fd-602b-4f99-f325-039c3a07ba32"
      },
      "outputs": [
        {
          "output_type": "stream",
          "name": "stdout",
          "text": [
            "{'Name': 'Ramsay', 'Surname': 'Bolton'}\n",
            "{'Name': 'Roose', 'Surname': 'Bolton'}\n"
          ]
        }
      ],
      "source": [
        "find_ned_query = \"\"\"\n",
        "FOR c IN Characters\n",
        "    FILTER c.surname == \"Bolton\"\n",
        "    RETURN {Name: c.name, Surname: c.surname}\n",
        "\"\"\"\n",
        "query_result = db.AQLQuery(find_ned_query, rawResults=True)\n",
        "for doc in  query_result:\n",
        "    print(doc, sep='\\n')"
      ]
    },
    {
      "cell_type": "code",
      "execution_count": 16,
      "metadata": {
        "colab": {
          "base_uri": "https://localhost:8080/"
        },
        "id": "ip5c4XMCq9UI",
        "outputId": "a75af430-a05a-424f-91e1-6ccb2c74b538"
      },
      "outputs": [
        {
          "output_type": "stream",
          "name": "stdout",
          "text": [
            "Ned\n",
            "Robert\n",
            "Jaime\n",
            "Catelyn\n",
            "Cersei\n",
            "Daenerys\n",
            "Jorah\n",
            "Petyr\n",
            "Viserys\n",
            "Jon\n"
          ]
        }
      ],
      "source": [
        "\n",
        "sample_chars_query = \"\"\"\n",
        "FOR c IN Characters\n",
        "    LIMIT 10\n",
        "    RETURN c.name\n",
        "\"\"\"\n",
        "\n",
        "query_result = db.AQLQuery(sample_chars_query, rawResults=True)\n",
        "\n",
        "for doc in  query_result:\n",
        "    print(doc, sep='\\n')"
      ]
    },
    {
      "cell_type": "code",
      "execution_count": 17,
      "metadata": {
        "colab": {
          "base_uri": "https://localhost:8080/"
        },
        "id": "oGpice0GrHdI",
        "outputId": "1ade0536-a0ac-42e7-b323-136808222dda"
      },
      "outputs": [
        {
          "output_type": "stream",
          "name": "stdout",
          "text": [
            "{'Name': 'Arya', 'Surname': 'Stark', 'Age': 11}\n",
            "{'Name': 'Bran', 'Surname': 'Stark', 'Age': 10}\n",
            "{'Name': 'Brienne', 'Surname': 'Tarth', 'Age': 32}\n",
            "{'Name': 'Bronn', 'Surname': None, 'Age': None}\n",
            "{'Name': 'Catelyn', 'Surname': 'Stark', 'Age': 40}\n",
            "{'Name': 'Cersei', 'Surname': 'Lannister', 'Age': 36}\n",
            "{'Name': 'Daario', 'Surname': 'Naharis', 'Age': None}\n",
            "{'Name': 'Daenerys', 'Surname': 'Targaryen', 'Age': 16}\n",
            "{'Name': 'Davos', 'Surname': 'Seaworth', 'Age': 49}\n",
            "{'Name': 'Ellaria', 'Surname': 'Sand', 'Age': None}\n"
          ]
        }
      ],
      "source": [
        "\n",
        "sample_chars_query = \"\"\"\n",
        "FOR c IN Characters\n",
        "    SORT c.name\n",
        "    LIMIT 10\n",
        "    RETURN { Name: c.name, Surname: c.surname, Age: c.age }\n",
        "\"\"\"\n",
        "\n",
        "query_result = db.AQLQuery(sample_chars_query, rawResults=True)\n",
        "\n",
        "for doc in  query_result:\n",
        "    print(doc, sep='\\n')"
      ]
    },
    {
      "cell_type": "markdown",
      "metadata": {
        "id": "krTk0NU014Yx"
      },
      "source": [
        "# 3. Tạo đồ thị"
      ]
    },
    {
      "cell_type": "markdown",
      "metadata": {
        "id": "SrvdSo0yG4zH"
      },
      "source": [
        "## Lấy data từ \"shortest path data\""
      ]
    },
    {
      "cell_type": "code",
      "execution_count": 18,
      "metadata": {
        "colab": {
          "base_uri": "https://localhost:8080/"
        },
        "id": "jMTqhbHj3JLw",
        "outputId": "07d04626-7f88-4346-fe02-afeaaf773c7c"
      },
      "outputs": [
        {
          "output_type": "stream",
          "name": "stdout",
          "text": [
            "Tạo đồ thị thành công\n"
          ]
        }
      ],
      "source": [
        "from pyArango.collection import Collection, Field, Edges\n",
        "from pyArango.graph import Graph, EdgeDefinition\n",
        "\n",
        "# Định nghĩa Collections\n",
        "class Places(Collection):\n",
        "    _fields = {\n",
        "        \"label\": Field()\n",
        "    }\n",
        "\n",
        "class Connect(Edges):\n",
        "    _fields = {\n",
        "        \"travelTime\": Field()\n",
        "    }\n",
        "\n",
        "# Định nghĩa Graph\n",
        "class TravelGraph(Graph):\n",
        "    _edgeDefinitions = [\n",
        "        EdgeDefinition(\"Connect\", fromCollections=[\"Places\"], toCollections=[\"Places\"]),\n",
        "        ]\n",
        "    _orphanedCollections = []\n",
        "\n",
        "\n",
        "if \"Places\" not in db.collections:\n",
        "    db.createCollection(className=\"Places\")\n",
        "\n",
        "if \"Connect\" not in db.collections:\n",
        "    db.createCollection(className=\"Connect\")\n",
        "\n",
        "# Tạo graph\n",
        "if \"TravelGraph\" not in db.graphs:\n",
        "    travel_graph = db.createGraph(\"TravelGraph\")\n",
        "else:\n",
        "    travel_graph = db.graphs[\"TravelGraph\"]\n",
        "\n",
        "\n",
        "import json\n",
        "\n",
        "# Đọc dữ liệu từ tệp JSON\n",
        "with open(\"./shortest_path_data/places.json\", \"r\") as f:\n",
        "    places_data = json.load(f)\n",
        "    db[\"Places\"].importBulk(places_data)\n",
        "\n",
        "\n",
        "with open(\"./shortest_path_data/connect.json\", \"r\") as f:\n",
        "    connections_data = json.load(f)\n",
        "    db[\"Connect\"].importBulk(connections_data)\n",
        "\n",
        "print(\"Tạo đồ thị thành công\")"
      ]
    },
    {
      "cell_type": "code",
      "execution_count": 19,
      "metadata": {
        "colab": {
          "base_uri": "https://localhost:8080/"
        },
        "id": "geOgI_XoD-LM",
        "outputId": "79254a06-431a-455e-d360-951039b8df11"
      },
      "outputs": [
        {
          "output_type": "stream",
          "name": "stdout",
          "text": [
            "Inverness: [('Aberdeen', 2.5), ('Edmonton', 4), ('StAndrews', 4.5)]\n",
            "Aberdeen: [('Inverness', 2.5), ('Leuchars', 1.5)]\n",
            "Leuchars: [('Aberdeen', 1.5), ('Edinburgh', 3), ('StAndrews', 0.2), ('Carlisle', 1.5)]\n",
            "StAndrews: [('Leuchars', 0.2), ('Inverness', 4.5)]\n",
            "Edinburgh: [('Leuchars', 3), ('Glasgow', 1), ('York', 4)]\n",
            "Glasgow: [('Edinburgh', 1), ('Carlisle', 1)]\n",
            "York: [('Edinburgh', 4), ('Carlisle', 2.5), ('London', 1.8)]\n",
            "Carlisle: [('Glasgow', 1), ('York', 2.5), ('Birmingham', 1), ('Leuchars', 1.5), ('Cologne', 1.25)]\n",
            "Birmingham: [('Carlisle', 1), ('London', 2.5), ('Toronto', 8.25)]\n",
            "London: [('Birmingham', 2.5), ('York', 1.8), ('Brussels', 2.5)]\n",
            "Brussels: [('London', 2.5), ('Cologne', 1.5)]\n",
            "Cologne: [('Brussels', 1.5), ('Carlisle', 1.25)]\n",
            "Toronto: [('Winnipeg', 36), ('Birmingham', 8.25)]\n",
            "Winnipeg: [('Toronto', 36), ('Saskatoon', 12), ('Vancouver', 4.75)]\n",
            "Saskatoon: [('Winnipeg', 12), ('Edmonton', 12), ('Jasper', 6)]\n",
            "Edmonton: [('Saskatoon', 12), ('Jasper', 6), ('Inverness', 4)]\n",
            "Jasper: [('Edmonton', 6), ('Vancouver', 13), ('Saskatoon', 6)]\n",
            "Vancouver: [('Jasper', 13), ('Winnipeg', 4.75)]\n"
          ]
        }
      ],
      "source": [
        "def get_graph_data(directed = False):\n",
        "    places_query = \"FOR v IN Places RETURN {key: v._key, label: v.label}\"\n",
        "    connections_query = \"FOR e IN Connect RETURN {from: e._from, to: e._to, travelTime: e.travelTime}\"\n",
        "\n",
        "    places = {doc[\"key\"]: doc[\"label\"] for doc in db.AQLQuery(places_query, rawResults=True)}\n",
        "    connections = db.AQLQuery(connections_query, rawResults=True)\n",
        "\n",
        "    # Xây dựng danh sách kề với trọng số\n",
        "    adjacency_list = {key: [] for key in places.keys()}\n",
        "    for connection in connections:\n",
        "        from_key = connection[\"from\"].split(\"/\")[-1]\n",
        "        to_key = connection[\"to\"].split(\"/\")[-1]\n",
        "        travel_time = connection[\"travelTime\"]\n",
        "        adjacency_list[from_key].append((to_key, travel_time))\n",
        "        if not directed:\n",
        "            adjacency_list[to_key].append((from_key, travel_time))\n",
        "    return adjacency_list, places\n",
        "\n",
        "adjacency_list, places = get_graph_data()\n",
        "for key, value in adjacency_list.items():\n",
        "    print(f\"{key}: {value}\")"
      ]
    },
    {
      "cell_type": "markdown",
      "metadata": {
        "id": "ofeagclwhHXK"
      },
      "source": [
        "### Đường đi ngắn nhất"
      ]
    },
    {
      "cell_type": "code",
      "execution_count": 20,
      "metadata": {
        "colab": {
          "base_uri": "https://localhost:8080/"
        },
        "id": "6V7W5WTNPAyF",
        "outputId": "22eb4091-ae1e-41e0-ad4e-3f0fee99e4ae"
      },
      "outputs": [
        {
          "output_type": "stream",
          "name": "stdout",
          "text": [
            "{'places': ['Aberdeen', 'Leuchars', 'Carlisle', 'York', 'London'], 'travelTimeTotal': 7.3}\n"
          ]
        }
      ],
      "source": [
        "query = \"\"\"\n",
        "FOR p IN OUTBOUND K_SHORTEST_PATHS 'Places/Aberdeen' TO 'Places/London'\n",
        "GRAPH 'TravelGraph'\n",
        "    LIMIT 1\n",
        "    RETURN {\n",
        "        places: p.vertices[*].label,\n",
        "        travelTimeTotal: SUM(p.edges[*].travelTime)\n",
        "    }\n",
        "\"\"\"\n",
        "\n",
        "query_result = db.AQLQuery(query, rawResults=True)\n",
        "\n",
        "for doc in query_result:\n",
        "    print(doc, sep='\\n')"
      ]
    },
    {
      "cell_type": "markdown",
      "metadata": {
        "id": "-uQWY2-m7TPb"
      },
      "source": [
        "### Thuật toán Prim"
      ]
    },
    {
      "cell_type": "code",
      "execution_count": 21,
      "metadata": {
        "colab": {
          "base_uri": "https://localhost:8080/"
        },
        "id": "nHV63OL77TPc",
        "outputId": "b27076a3-c85e-4f6e-c1d2-75da2ea67211"
      },
      "outputs": [
        {
          "output_type": "stream",
          "name": "stdout",
          "text": [
            "Cây khung nhỏ nhất: [('Inverness', 'Aberdeen', 2.5), ('Aberdeen', 'Leuchars', 1.5), ('Leuchars', 'StAndrews', 0.2), ('Leuchars', 'Carlisle', 1.5), ('Carlisle', 'Birmingham', 1), ('Carlisle', 'Glasgow', 1), ('Glasgow', 'Edinburgh', 1), ('Carlisle', 'Cologne', 1.25), ('Cologne', 'Brussels', 1.5), ('Birmingham', 'London', 2.5), ('London', 'York', 1.8), ('Inverness', 'Edmonton', 4), ('Edmonton', 'Jasper', 6), ('Jasper', 'Saskatoon', 6), ('Birmingham', 'Toronto', 8.25), ('Saskatoon', 'Winnipeg', 12), ('Winnipeg', 'Vancouver', 4.75)]\n",
            "Tổng trọng số: 56.75\n"
          ]
        }
      ],
      "source": [
        "from GraphAlgo import *\n",
        "\n",
        "start_vertex = 'Inverness'\n",
        "mst_edges, total_weight = prim(adjacency_list, start_vertex)\n",
        "\n",
        "# Hiển thị kết quả\n",
        "print(\"Cây khung nhỏ nhất:\", mst_edges)\n",
        "print(\"Tổng trọng số:\", total_weight)"
      ]
    },
    {
      "cell_type": "markdown",
      "metadata": {
        "id": "LPTw1Swx7TPd"
      },
      "source": [
        "### Thuật toán Kruskal"
      ]
    },
    {
      "cell_type": "code",
      "execution_count": 22,
      "metadata": {
        "colab": {
          "base_uri": "https://localhost:8080/"
        },
        "id": "9H9s7v4O7TPe",
        "outputId": "d668cd79-8ea4-4c3a-9cf9-29baf8ba1b39"
      },
      "outputs": [
        {
          "output_type": "stream",
          "name": "stdout",
          "text": [
            "Cây khung nhỏ nhất: [('Leuchars', 'StAndrews', 0.2), ('Edinburgh', 'Glasgow', 1), ('Glasgow', 'Carlisle', 1), ('Carlisle', 'Birmingham', 1), ('Carlisle', 'Cologne', 1.25), ('Aberdeen', 'Leuchars', 1.5), ('Leuchars', 'Carlisle', 1.5), ('Brussels', 'Cologne', 1.5), ('York', 'London', 1.8), ('Inverness', 'Aberdeen', 2.5), ('York', 'Carlisle', 2.5), ('Inverness', 'Edmonton', 4), ('Winnipeg', 'Vancouver', 4.75), ('Saskatoon', 'Jasper', 6), ('Edmonton', 'Jasper', 6), ('Birmingham', 'Toronto', 8.25), ('Winnipeg', 'Saskatoon', 12)]\n",
            "Tổng trọng số: 56.75\n"
          ]
        }
      ],
      "source": [
        "mst_edges, total_weight = kruskal(adjacency_list)\n",
        "\n",
        "# Hiển thị kết quả\n",
        "print(\"Cây khung nhỏ nhất:\", mst_edges)\n",
        "print(\"Tổng trọng số:\", total_weight)"
      ]
    },
    {
      "cell_type": "code",
      "execution_count": 23,
      "metadata": {
        "colab": {
          "base_uri": "https://localhost:8080/"
        },
        "id": "8Jxsb4jcCtpb",
        "outputId": "7a434635-ea40-4a33-e719-dce3f1e03c21"
      },
      "outputs": [
        {
          "output_type": "stream",
          "name": "stdout",
          "text": [
            "Đường đi ngắn nhất:\n",
            "Aberdeen -> Leuchars -> StAndrews\n",
            "Tổng chi phí: 1.7\n"
          ]
        }
      ],
      "source": [
        "# Đầu vào\n",
        "start = 'Aberdeen'\n",
        "end = 'StAndrews'\n",
        "\n",
        "# Gọi thuật toán Dijkstra\n",
        "shortest_path, total_cost = dijkstra(adjacency_list, start, end)\n",
        "\n",
        "# Kết quả\n",
        "if shortest_path:\n",
        "    print(\"Đường đi ngắn nhất:\")\n",
        "    print(\" -> \".join(shortest_path))\n",
        "    print(f\"Tổng chi phí: {total_cost}\")\n",
        "else:\n",
        "    print(\"Không tìm được đường đi từ\", start, \"đến\", end)"
      ]
    },
    {
      "cell_type": "markdown",
      "metadata": {
        "id": "uPb2QcXg7TPq"
      },
      "source": [
        "## Lấy data từ \"components data\""
      ]
    },
    {
      "cell_type": "code",
      "execution_count": 24,
      "metadata": {
        "colab": {
          "base_uri": "https://localhost:8080/"
        },
        "id": "bRoLOSUn7TPr",
        "outputId": "326b96aa-377f-4f06-e634-56c38577c3fe"
      },
      "outputs": [
        {
          "output_type": "stream",
          "name": "stdout",
          "text": [
            "Tạo đồ thị thành công\n"
          ]
        }
      ],
      "source": [
        "from pyArango.collection import Collection, Field, Edges\n",
        "from pyArango.graph import Graph, EdgeDefinition\n",
        "\n",
        "# Định nghĩa Collections\n",
        "class Components(Collection):\n",
        "    _fields = {\n",
        "        \"_key\": Field()\n",
        "    }\n",
        "\n",
        "class Connections(Edges):\n",
        "    pass\n",
        "\n",
        "# Định nghĩa Graph\n",
        "class ComponentsGraph(Graph):\n",
        "    _edgeDefinitions = [\n",
        "        EdgeDefinition(\"Connections\", fromCollections=[\"Components\"], toCollections=[\"Components\"]),\n",
        "        ]\n",
        "    _orphanedCollections = []\n",
        "\n",
        "\n",
        "if \"Components\" not in db.collections:\n",
        "    db.createCollection(className=\"Components\")\n",
        "\n",
        "if \"Connections\" not in db.collections:\n",
        "    db.createCollection(className=\"Connections\")\n",
        "\n",
        "# Tạo graph\n",
        "if \"ComponentsGraph\" not in db.graphs:\n",
        "    travel_graph = db.createGraph(\"ComponentsGraph\")\n",
        "else:\n",
        "    travel_graph = db.graphs[\"ComponentsGraph\"]\n",
        "\n",
        "\n",
        "import json\n",
        "\n",
        "# Đọc dữ liệu từ tệp JSON\n",
        "with open(\"./components_data/components.json\", \"r\") as f:\n",
        "    places_data = json.load(f)\n",
        "    db[\"Components\"].importBulk(places_data)\n",
        "\n",
        "\n",
        "with open(\"./components_data/connections.json\", \"r\") as f:\n",
        "    connections_data = json.load(f)\n",
        "    db[\"Connections\"].importBulk(connections_data)\n",
        "\n",
        "print(\"Tạo đồ thị thành công\")"
      ]
    },
    {
      "cell_type": "code",
      "execution_count": 25,
      "metadata": {
        "colab": {
          "base_uri": "https://localhost:8080/"
        },
        "id": "Y8grq7ql7TPr",
        "outputId": "fd25ab02-0b2f-41a4-d6c8-15fa49e10fde"
      },
      "outputs": [
        {
          "output_type": "stream",
          "name": "stdout",
          "text": [
            "B1: ['B3']\n",
            "B13: ['B12', 'B20', 'B14']\n",
            "B11: ['B10', 'B12']\n",
            "C7: ['C4', 'C5', 'C8']\n",
            "B7: ['B6', 'B8', 'B9', 'B10', 'B19']\n",
            "C5: ['C4', 'C6', 'C7']\n",
            "A2: ['A1', 'A3']\n",
            "B14: ['B13', 'B15']\n",
            "A1: ['A2', 'A4']\n",
            "B21: ['B20']\n",
            "C6: ['C5']\n",
            "C8: ['C7', 'C9', 'C10']\n",
            "B19: ['B7', 'B17']\n",
            "C3: ['C2', 'C4']\n",
            "A3: ['A2', 'A4']\n",
            "C2: ['C1', 'C3']\n",
            "C1: ['C2']\n",
            "B2: ['B4']\n",
            "B15: ['B14', 'B16', 'B17']\n",
            "A4: ['A3', 'A1']\n",
            "B10: ['B7', 'B11']\n",
            "B20: ['B13', 'B21', 'B22']\n",
            "B9: ['B7']\n",
            "B12: ['B11', 'B13']\n",
            "B4: ['B2', 'B3', 'B5']\n",
            "B6: ['B3', 'B7']\n",
            "B22: ['B20']\n",
            "B5: ['B4']\n",
            "C9: ['C8']\n",
            "B18: ['B17']\n",
            "C10: ['C8']\n",
            "B3: ['B1', 'B6', 'B4']\n",
            "B17: ['B15', 'B18', 'B19']\n",
            "B8: ['B7']\n",
            "C4: ['C3', 'C5', 'C7']\n",
            "B16: ['B15']\n"
          ]
        }
      ],
      "source": [
        "def get_graph_data(directed=False):\n",
        "    places_query = \"FOR v IN Components RETURN v._key\"\n",
        "    connections_query = \"FOR e IN Connections RETURN {from: e._from, to: e._to}\"\n",
        "\n",
        "    places = {doc for doc in db.AQLQuery(places_query, rawResults=True)}\n",
        "    connections = db.AQLQuery(connections_query, rawResults=True)\n",
        "\n",
        "    # Xây dựng danh sách kề\n",
        "    adjacency_list = {key: [] for key in places}\n",
        "    for connection in connections:\n",
        "        from_key = connection[\"from\"].split(\"/\")[-1]\n",
        "        to_key = connection[\"to\"].split(\"/\")[-1]\n",
        "        adjacency_list[from_key].append(to_key)\n",
        "        if not directed:\n",
        "            adjacency_list[to_key].append(from_key)\n",
        "    return adjacency_list, places\n",
        "\n",
        "adjacency_list, places = get_graph_data()\n",
        "for key, value in adjacency_list.items():\n",
        "    print(f\"{key}: {value}\")"
      ]
    },
    {
      "cell_type": "markdown",
      "source": [
        "### Thuật toán DFS"
      ],
      "metadata": {
        "id": "9LJ8qufk5pwu"
      }
    },
    {
      "cell_type": "code",
      "execution_count": 26,
      "metadata": {
        "colab": {
          "base_uri": "https://localhost:8080/"
        },
        "id": "ih6gF5HN7TPr",
        "outputId": "5e2803a1-f47e-4eb7-87b9-24f2bb4afcbb"
      },
      "outputs": [
        {
          "output_type": "stream",
          "name": "stdout",
          "text": [
            "Chuỗi thứ tự duyệt đồ thị từ đỉnh [A2]:\n",
            "A2 --> A1 --> A4 --> A3\n"
          ]
        }
      ],
      "source": [
        "start = 'A2'\n",
        "\n",
        "free_ser        = pd.Series(1, index = adjacency_list.keys())\n",
        "free_ser[start] = 0\n",
        "\n",
        "seq = []\n",
        "dfs(adjacency_list, free_ser, start, seq)\n",
        "seq = ' --> '.join(seq)\n",
        "print(f'Chuỗi thứ tự duyệt đồ thị từ đỉnh [{start}]:\\n{seq}')"
      ]
    },
    {
      "cell_type": "markdown",
      "source": [
        "### Tìm tất cả thành phần liên thông bằng DFS"
      ],
      "metadata": {
        "id": "YrYpveck5xdV"
      }
    },
    {
      "cell_type": "code",
      "execution_count": 27,
      "metadata": {
        "colab": {
          "base_uri": "https://localhost:8080/"
        },
        "id": "AzD6KtUu7TPs",
        "outputId": "aa0af43f-fcba-4fea-ec76-d2d19b10a1c1"
      },
      "outputs": [
        {
          "output_type": "stream",
          "name": "stdout",
          "text": [
            "Thành phần liên thông #1 = ['B1', 'B3', 'B6', 'B7', 'B8', 'B9', 'B10', 'B11', 'B12', 'B13', 'B20', 'B21', 'B22', 'B14', 'B15', 'B16', 'B17', 'B18', 'B19', 'B4', 'B2', 'B5']\n",
            "Thành phần liên thông #2 = ['C7', 'C4', 'C3', 'C2', 'C1', 'C5', 'C6', 'C8', 'C9', 'C10']\n",
            "Thành phần liên thông #3 = ['A2', 'A1', 'A4', 'A3']\n"
          ]
        }
      ],
      "source": [
        "components = dfs_all_components(adjacency_list)\n",
        "for c in components:\n",
        "    print(f'Thành phần liên thông #{components.index(c) + 1} = {c}')"
      ]
    },
    {
      "cell_type": "markdown",
      "source": [
        "### Thuật toán BFS"
      ],
      "metadata": {
        "id": "yMWH-k9p52zW"
      }
    },
    {
      "cell_type": "code",
      "execution_count": 28,
      "metadata": {
        "colab": {
          "base_uri": "https://localhost:8080/"
        },
        "id": "oRo2CPRe7TPs",
        "outputId": "8dae2354-bd62-4a3f-dddd-0f97c297568d"
      },
      "outputs": [
        {
          "output_type": "stream",
          "name": "stdout",
          "text": [
            "Thứ tự duyệt BFS :\n",
            "A2 --> A1 --> A3 --> A4\n",
            "\n",
            "Tổng số đỉnh đã duyệt: 4\n",
            "Đỉnh bắt đầu: A2\n"
          ]
        }
      ],
      "source": [
        "# Sử dụng hàm BFS\n",
        "start = 'A2'\n",
        "bfs_traversal = bfs(adjacency_list, start)\n",
        "\n",
        "# In kết quả\n",
        "print(f\"Thứ tự duyệt BFS :\")\n",
        "print(' --> '.join(bfs_traversal))\n",
        "\n",
        "# Thống kê\n",
        "print(f\"\\nTổng số đỉnh đã duyệt: {len(bfs_traversal)}\")\n",
        "print(f\"Đỉnh bắt đầu: {start}\")"
      ]
    },
    {
      "cell_type": "markdown",
      "source": [
        "## Lấy data từ \"simple graph data\""
      ],
      "metadata": {
        "id": "41Kdtf2158et"
      }
    },
    {
      "cell_type": "code",
      "execution_count": 29,
      "metadata": {
        "colab": {
          "base_uri": "https://localhost:8080/"
        },
        "id": "nu8NQgpdMxus",
        "outputId": "dde97ee4-bfc7-40b8-f951-6455bb452831"
      },
      "outputs": [
        {
          "output_type": "stream",
          "name": "stdout",
          "text": [
            "Tạo đồ thị thành công\n"
          ]
        }
      ],
      "source": [
        "from pyArango.collection import Collection, Field, Edges\n",
        "from pyArango.graph import Graph, EdgeDefinition\n",
        "\n",
        "# Định nghĩa Collections\n",
        "class Vertex(Collection):\n",
        "    _fields = {\n",
        "        \"_key\": Field()\n",
        "    }\n",
        "\n",
        "class Edge(Edges):\n",
        "    pass\n",
        "\n",
        "# Định nghĩa Graph\n",
        "class MyGraph(Graph):\n",
        "    _edgeDefinitions = [\n",
        "        EdgeDefinition(\"Edge\", fromCollections=[\"Vertex\"], toCollections=[\"Vertex\"]),\n",
        "        ]\n",
        "    _orphanedCollections = []\n",
        "\n",
        "\n",
        "if \"Vertex\" not in db.collections:\n",
        "    db.createCollection(className=\"Vertex\")\n",
        "\n",
        "if \"Edge\" not in db.collections:\n",
        "    db.createCollection(className=\"Edge\")\n",
        "\n",
        "# Tạo graph\n",
        "if \"MyGraph\" not in db.graphs:\n",
        "    travel_graph = db.createGraph(\"MyGraph\")\n",
        "else:\n",
        "    travel_graph = db.graphs[\"MyGraph\"]\n",
        "\n",
        "\n",
        "import json\n",
        "\n",
        "# Đọc dữ liệu từ tệp JSON\n",
        "with open(\"./simple_graph_data/vertex.json\", \"r\") as f:\n",
        "    places_data = json.load(f)\n",
        "    db[\"Vertex\"].importBulk(places_data)\n",
        "\n",
        "\n",
        "with open(\"./simple_graph_data/edge.json\", \"r\") as f:\n",
        "    connections_data = json.load(f)\n",
        "    db[\"Edge\"].importBulk(connections_data)\n",
        "\n",
        "print(\"Tạo đồ thị thành công\")"
      ]
    },
    {
      "cell_type": "code",
      "execution_count": 30,
      "metadata": {
        "colab": {
          "base_uri": "https://localhost:8080/"
        },
        "id": "hCe6ZKjmaSHq",
        "outputId": "76b01baf-75a1-49e2-9d93-2c4e1928818f"
      },
      "outputs": [
        {
          "output_type": "stream",
          "name": "stdout",
          "text": [
            "A1: ['A2', 'A4']\n",
            "A3: ['A2', 'A4']\n",
            "A2: ['A1', 'A3']\n",
            "A4: ['A3', 'A1']\n"
          ]
        }
      ],
      "source": [
        "def get_graph_data(directed=False):\n",
        "    places_query = \"FOR v IN Vertex RETURN v._key\"\n",
        "    connections_query = \"FOR e IN Edge RETURN {from: e._from, to: e._to}\"\n",
        "\n",
        "    places = {doc for doc in db.AQLQuery(places_query, rawResults=True)}\n",
        "    connections = db.AQLQuery(connections_query, rawResults=True)\n",
        "\n",
        "    # Xây dựng danh sách kề\n",
        "    adjacency_list = {key: [] for key in places}\n",
        "    for connection in connections:\n",
        "        from_key = connection[\"from\"].split(\"/\")[-1]\n",
        "        to_key = connection[\"to\"].split(\"/\")[-1]\n",
        "        adjacency_list[from_key].append(to_key)\n",
        "        if not directed:\n",
        "            adjacency_list[to_key].append(from_key)\n",
        "    return adjacency_list, places\n",
        "\n",
        "adjacency_list, places = get_graph_data()\n",
        "for key, value in adjacency_list.items():\n",
        "    print(f\"{key}: {value}\")"
      ]
    },
    {
      "cell_type": "markdown",
      "source": [
        "### Tìm đường đi Euler"
      ],
      "metadata": {
        "id": "4VXHW0uk6Fn0"
      }
    },
    {
      "cell_type": "code",
      "execution_count": 31,
      "metadata": {
        "colab": {
          "base_uri": "https://localhost:8080/"
        },
        "id": "uc-JV3CHZ8Bb",
        "outputId": "4e8cf784-5c1c-4f60-8d97-cc41ed424356"
      },
      "outputs": [
        {
          "output_type": "stream",
          "name": "stdout",
          "text": [
            "Đường đi Euler:\n",
            "A2 -> A1 -> A4 -> A3 -> A2\n",
            "Số đỉnh trong đường đi: 5\n",
            "Tổng số cạnh trong đồ thị: 4\n"
          ]
        }
      ],
      "source": [
        "start = 'A2'\n",
        "euler_path = find_euler_path(adjacency_list, start)\n",
        "\n",
        "print(\"Đường đi Euler:\")\n",
        "print(' -> '.join(euler_path))\n",
        "\n",
        "# In thống kê\n",
        "print(f\"Số đỉnh trong đường đi: {len(euler_path)}\")\n",
        "edges_count = sum(len(adjacency_list[v]) for v in adjacency_list) // 2\n",
        "print(f\"Tổng số cạnh trong đồ thị: {edges_count}\")"
      ]
    },
    {
      "cell_type": "markdown",
      "source": [
        "### Tìm chu trình Hamilton"
      ],
      "metadata": {
        "id": "t5LA-tpM6J5q"
      }
    },
    {
      "cell_type": "code",
      "execution_count": 32,
      "metadata": {
        "colab": {
          "base_uri": "https://localhost:8080/"
        },
        "id": "QdH8JjZFaxL8",
        "outputId": "0975ea82-8793-447e-b5ee-6c84abbff3ca"
      },
      "outputs": [
        {
          "output_type": "stream",
          "name": "stdout",
          "text": [
            "Chu trình Hamilton: A1 --> A2 --> A3 --> A4\n"
          ]
        }
      ],
      "source": [
        "start = 'A1'\n",
        "\n",
        "hamilton_cycle = find_hamilton_cycle(adjacency_list, start)\n",
        "hamilton_cycle = ' --> '.join(hamilton_cycle)\n",
        "print(f'Chu trình Hamilton: {hamilton_cycle}')"
      ]
    }
  ],
  "metadata": {
    "colab": {
      "provenance": [],
      "include_colab_link": true
    },
    "kernelspec": {
      "display_name": "Python 3",
      "language": "python",
      "name": "python3"
    },
    "language_info": {
      "codemirror_mode": {
        "name": "ipython",
        "version": 3
      },
      "file_extension": ".py",
      "mimetype": "text/x-python",
      "name": "python",
      "nbconvert_exporter": "python",
      "pygments_lexer": "ipython3",
      "version": "3.12.6"
    }
  },
  "nbformat": 4,
  "nbformat_minor": 0
}
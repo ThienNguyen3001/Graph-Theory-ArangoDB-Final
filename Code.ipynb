{
 "cells": [
  {
   "cell_type": "markdown",
   "metadata": {
    "colab_type": "text",
    "id": "view-in-github"
   },
   "source": [
    "<a href=\"https://colab.research.google.com/github/ThienNguyen3001/Graph-Theory-ArangoDB-Final/blob/main/Code.ipynb\" target=\"_parent\"><img src=\"https://colab.research.google.com/assets/colab-badge.svg\" alt=\"Open In Colab\"/></a>"
   ]
  },
  {
   "cell_type": "markdown",
   "metadata": {
    "id": "POij76PeFdjh"
   },
   "source": [
    "# 1. Chuẩn bị"
   ]
  },
  {
   "cell_type": "markdown",
   "metadata": {
    "id": "7lVullbUS8TB"
   },
   "source": [
    "* Gọi môi trường"
   ]
  },
  {
   "cell_type": "code",
   "execution_count": null,
   "metadata": {
    "id": "tti5sHrmFSZz"
   },
   "outputs": [],
   "source": [
    "%%capture\n",
    "!git clone https://github.com/ThienNguyen3001/Graph-Theory-ArangoDB-Final.git\n",
    "!rsync -av Graph-Theory-ArangoDB-Final/ ./ --exclude=.git\n",
    "!pip3 install pyarango\n",
    "!pip3 install \"python-arango>=5.0\""
   ]
  },
  {
   "cell_type": "code",
   "execution_count": 2,
   "metadata": {
    "id": "W7c4YugFFajT"
   },
   "outputs": [],
   "source": [
    "import json\n",
    "import requests\n",
    "import sys\n",
    "import time\n",
    "\n",
    "import oasis\n",
    "from pyArango.connection import *\n",
    "from arango import ArangoClient"
   ]
  },
  {
   "cell_type": "markdown",
   "metadata": {
    "id": "X-VQbcIpGlp3"
   },
   "source": [
    "* **Tạo cơ sở dữ liệu tạm thời**\n"
   ]
  },
  {
   "cell_type": "code",
   "execution_count": 3,
   "metadata": {
    "colab": {
     "base_uri": "https://localhost:8080/"
    },
    "id": "ae-W9Y89Gaxl",
    "outputId": "d9da53f3-fed1-485d-f933-d22c31623b1d"
   },
   "outputs": [
    {
     "name": "stdout",
     "output_type": "stream",
     "text": [
      "Sử dụng lại thông tin đăng nhập được lưu trong bộ nhớ đệm.\n"
     ]
    }
   ],
   "source": [
    "# Retrieve tmp credentials from ArangoDB Tutorial Service\n",
    "login = oasis.getTempCredentials(tutorialName='test',\n",
    "                                 credentialProvider='https://tutorials.arangodb.cloud:8529/_db/_system/tutorialDB/tutorialDB')\n",
    "\n",
    "# Connect to the temp database\n",
    "conn = oasis.connect(login)\n",
    "db = conn[login['dbName']]"
   ]
  },
  {
   "cell_type": "markdown",
   "metadata": {
    "id": "fxXH_B4L62V4"
   },
   "source": [
    "* **Xem thông tin DB đã tạo**\n"
   ]
  },
  {
   "cell_type": "code",
   "execution_count": 4,
   "metadata": {
    "colab": {
     "base_uri": "https://localhost:8080/"
    },
    "id": "51Df5hM9GpW3",
    "outputId": "23112d7c-9e79-4b2d-ea76-9c8dd3699c58"
   },
   "outputs": [
    {
     "name": "stdout",
     "output_type": "stream",
     "text": [
      "https://tutorials.arangodb.cloud:8529\n",
      "Username: TUTl7g60voxqjohkvrpsdvonm\n",
      "Password: TUTtm65hw88wckset5ckp4gq\n",
      "Database: TUT7dbsfgdpd4tz6qzv7o8ui\n"
     ]
    }
   ],
   "source": [
    "print('https://{}:{}'.format(login['hostname'], login['port']))\n",
    "print('Username: ' + login['username'])\n",
    "print('Password: ' + login['password'])\n",
    "print('Database: ' + login['dbName'])\n"
   ]
  },
  {
   "cell_type": "code",
   "execution_count": 5,
   "metadata": {
    "colab": {
     "base_uri": "https://localhost:8080/"
    },
    "id": "KTG7z1VdLdnq",
    "outputId": "8d9cc026-b2c0-4a8b-9c50-bc9771bdb2ab"
   },
   "outputs": [
    {
     "name": "stdout",
     "output_type": "stream",
     "text": [
      "<class 'dict'>\n",
      "{'dbName': 'TUT7dbsfgdpd4tz6qzv7o8ui', 'username': 'TUTl7g60voxqjohkvrpsdvonm', 'password': 'TUTtm65hw88wckset5ckp4gq', 'hostname': 'tutorials.arangodb.cloud', 'port': 8529}\n"
     ]
    }
   ],
   "source": [
    "print(type(login), login, sep='\\n')"
   ]
  },
  {
   "cell_type": "markdown",
   "metadata": {
    "id": "IWKKWzl6-IGG"
   },
   "source": [
    "# 2. Tạo dữ liệu AQL"
   ]
  },
  {
   "cell_type": "markdown",
   "metadata": {
    "id": "DGNTaEik7Bc9"
   },
   "source": [
    "* **Tạo collection \"Collection\" trong DB**\n",
    "\n",
    "Các bộ sưu tập trong ArangoDB. Chúng chỉ được thao tác thông qua các ngôn ngữ Ngôn ngữ truy vấn Arango NoSQL (AQL). Các hướng dẫn bên dưới tạo ra một bộ sưu tập và có thể liên quan đến các hướng dẫn DDL của ngôn ngữ SQL. Trong ví dụ này, nhóm sẽ tạo các nhân vật trong loạt phim \"*Game of Thrones*\"."
   ]
  },
  {
   "cell_type": "code",
   "execution_count": null,
   "metadata": {
    "colab": {
     "base_uri": "https://localhost:8080/"
    },
    "id": "OyBZJOBK67ic",
    "outputId": "8af959d2-a35f-4fb2-f46d-26e32ed1d2af"
   },
   "outputs": [
    {
     "name": "stdout",
     "output_type": "stream",
     "text": [
      "Collection 'Characters' already exists.\n"
     ]
    }
   ],
   "source": [
    "collecName = 'Characters'\n",
    "if collecName not in db.collections:\n",
    "\tdb.createCollection(name=collecName)\n",
    "else:\n",
    "\tprint(f\"Collection '{collecName}' đã tồn tại\")"
   ]
  },
  {
   "cell_type": "markdown",
   "metadata": {
    "id": "aMC8ItNR78ti"
   },
   "source": [
    "* **Thêm data bằng Insert**"
   ]
  },
  {
   "cell_type": "code",
   "execution_count": 7,
   "metadata": {
    "colab": {
     "base_uri": "https://localhost:8080/"
    },
    "id": "NgXyYDEp73Cx",
    "outputId": "efce5056-b360-4798-d795-3f4cb62f4e7c"
   },
   "outputs": [
    {
     "data": {
      "text/plain": [
       "<pyArango.query.AQLQuery at 0x1d12cc4b890>"
      ]
     },
     "execution_count": 7,
     "metadata": {},
     "output_type": "execute_result"
    }
   ],
   "source": [
    "insert_query = \"\"\"\n",
    "INSERT {\n",
    "    \"name\": \"Ned\",\n",
    "    \"surname\": \"Stark\",\n",
    "    \"alive\": true,\n",
    "    \"age\": 41,\n",
    "    \"traits\": [\"A\",\"H\",\"C\",\"N\",\"P\"]\n",
    "} INTO Characters\n",
    "\"\"\"\n",
    "\n",
    "db.AQLQuery(insert_query)"
   ]
  },
  {
   "cell_type": "markdown",
   "metadata": {
    "id": "frf63oEO8GtC"
   },
   "source": [
    "* Lấy tất cả các nhân vật trong bản ghi"
   ]
  },
  {
   "cell_type": "code",
   "execution_count": 8,
   "metadata": {
    "colab": {
     "base_uri": "https://localhost:8080/"
    },
    "id": "LWP-4b0B8G0P",
    "outputId": "69e2c819-abb0-4648-e52d-b152e7ce100d"
   },
   "outputs": [
    {
     "name": "stdout",
     "output_type": "stream",
     "text": [
      "{'_key': '266280094263', '_id': 'Characters/266280094263', '_rev': '_i4m-j2u---', 'name': 'Ned', 'surname': 'Stark', 'alive': True, 'age': 41, 'traits': ['A', 'H', 'C', 'N', 'P']}\n",
      "\n",
      "{'_key': '266280094265', '_id': 'Characters/266280094265', '_rev': '_i4m-kci--A', 'name': 'Robert', 'surname': 'Baratheon', 'alive': False, 'traits': ['A', 'H', 'C']}\n",
      "\n",
      "{'_key': '266280094266', '_id': 'Characters/266280094266', '_rev': '_i4m-kci--B', 'name': 'Jaime', 'surname': 'Lannister', 'alive': True, 'age': 36, 'traits': ['A', 'F', 'B']}\n",
      "\n",
      "{'_key': '266280094267', '_id': 'Characters/266280094267', '_rev': '_i4m-kci--C', 'name': 'Catelyn', 'surname': 'Stark', 'alive': False, 'age': 40, 'traits': ['D', 'H', 'C']}\n",
      "\n",
      "{'_key': '266280094268', '_id': 'Characters/266280094268', '_rev': '_i4m-kci--D', 'name': 'Cersei', 'surname': 'Lannister', 'alive': True, 'age': 36, 'traits': ['H', 'E', 'F']}\n",
      "\n",
      "{'_key': '266280094269', '_id': 'Characters/266280094269', '_rev': '_i4m-kci--E', 'name': 'Daenerys', 'surname': 'Targaryen', 'alive': True, 'age': 16, 'traits': ['D', 'H', 'C']}\n",
      "\n",
      "{'_key': '266280094270', '_id': 'Characters/266280094270', '_rev': '_i4m-kci--F', 'name': 'Jorah', 'surname': 'Mormont', 'alive': False, 'traits': ['A', 'B', 'C', 'F']}\n",
      "\n",
      "{'_key': '266280094271', '_id': 'Characters/266280094271', '_rev': '_i4m-kci--G', 'name': 'Petyr', 'surname': 'Baelish', 'alive': False, 'traits': ['E', 'G', 'F']}\n",
      "\n",
      "{'_key': '266280094272', '_id': 'Characters/266280094272', '_rev': '_i4m-kci--H', 'name': 'Viserys', 'surname': 'Targaryen', 'alive': False, 'traits': ['O', 'L', 'N']}\n",
      "\n",
      "{'_key': '266280094273', '_id': 'Characters/266280094273', '_rev': '_i4m-kci--I', 'name': 'Jon', 'surname': 'Snow', 'alive': True, 'age': 16, 'traits': ['A', 'B', 'C', 'F']}\n",
      "\n",
      "{'_key': '266280094274', '_id': 'Characters/266280094274', '_rev': '_i4m-kci--J', 'name': 'Sansa', 'surname': 'Stark', 'alive': True, 'age': 13, 'traits': ['D', 'I', 'J']}\n",
      "\n",
      "{'_key': '266280094275', '_id': 'Characters/266280094275', '_rev': '_i4m-kci--K', 'name': 'Arya', 'surname': 'Stark', 'alive': True, 'age': 11, 'traits': ['C', 'K', 'L']}\n",
      "\n",
      "{'_key': '266280094276', '_id': 'Characters/266280094276', '_rev': '_i4m-kci--L', 'name': 'Robb', 'surname': 'Stark', 'alive': False, 'traits': ['A', 'B', 'C', 'K']}\n",
      "\n",
      "{'_key': '266280094277', '_id': 'Characters/266280094277', '_rev': '_i4m-kci--M', 'name': 'Theon', 'surname': 'Greyjoy', 'alive': True, 'age': 16, 'traits': ['E', 'R', 'K']}\n",
      "\n",
      "{'_key': '266280094278', '_id': 'Characters/266280094278', '_rev': '_i4m-kci--N', 'name': 'Bran', 'surname': 'Stark', 'alive': True, 'age': 10, 'traits': ['L', 'J']}\n",
      "\n",
      "{'_key': '266280094279', '_id': 'Characters/266280094279', '_rev': '_i4m-kci--O', 'name': 'Joffrey', 'surname': 'Baratheon', 'alive': False, 'age': 19, 'traits': ['I', 'L', 'O']}\n",
      "\n",
      "{'_key': '266280094280', '_id': 'Characters/266280094280', '_rev': '_i4m-kci--P', 'name': 'Sandor', 'surname': 'Clegane', 'alive': True, 'traits': ['A', 'P', 'K', 'F']}\n",
      "\n",
      "{'_key': '266280094281', '_id': 'Characters/266280094281', '_rev': '_i4m-kci--Q', 'name': 'Tyrion', 'surname': 'Lannister', 'alive': True, 'age': 32, 'traits': ['F', 'K', 'M', 'N']}\n",
      "\n",
      "{'_key': '266280094282', '_id': 'Characters/266280094282', '_rev': '_i4m-kci--R', 'name': 'Khal', 'surname': 'Drogo', 'alive': False, 'traits': ['A', 'C', 'O', 'P']}\n",
      "\n",
      "{'_key': '266280094283', '_id': 'Characters/266280094283', '_rev': '_i4m-kci--S', 'name': 'Tywin', 'surname': 'Lannister', 'alive': False, 'traits': ['O', 'M', 'H', 'F']}\n",
      "\n",
      "{'_key': '266280094284', '_id': 'Characters/266280094284', '_rev': '_i4m-kci--T', 'name': 'Davos', 'surname': 'Seaworth', 'alive': True, 'age': 49, 'traits': ['C', 'K', 'P', 'F']}\n",
      "\n",
      "{'_key': '266280094285', '_id': 'Characters/266280094285', '_rev': '_i4m-kci--U', 'name': 'Samwell', 'surname': 'Tarly', 'alive': True, 'age': 17, 'traits': ['C', 'L', 'I']}\n",
      "\n",
      "{'_key': '266280094286', '_id': 'Characters/266280094286', '_rev': '_i4m-kci--V', 'name': 'Stannis', 'surname': 'Baratheon', 'alive': False, 'traits': ['H', 'O', 'P', 'M']}\n",
      "\n",
      "{'_key': '266280094287', '_id': 'Characters/266280094287', '_rev': '_i4m-kci--W', 'name': 'Melisandre', 'alive': True, 'traits': ['G', 'E', 'H']}\n",
      "\n",
      "{'_key': '266280094288', '_id': 'Characters/266280094288', '_rev': '_i4m-kci--X', 'name': 'Margaery', 'surname': 'Tyrell', 'alive': False, 'traits': ['M', 'D', 'B']}\n",
      "\n",
      "{'_key': '266280094289', '_id': 'Characters/266280094289', '_rev': '_i4m-kci--Y', 'name': 'Jeor', 'surname': 'Mormont', 'alive': False, 'traits': ['C', 'H', 'M', 'P']}\n",
      "\n",
      "{'_key': '266280094290', '_id': 'Characters/266280094290', '_rev': '_i4m-kci--Z', 'name': 'Bronn', 'alive': True, 'traits': ['K', 'E', 'C']}\n",
      "\n",
      "{'_key': '266280094291', '_id': 'Characters/266280094291', '_rev': '_i4m-kcm---', 'name': 'Varys', 'alive': True, 'traits': ['M', 'F', 'N', 'E']}\n",
      "\n",
      "{'_key': '266280094292', '_id': 'Characters/266280094292', '_rev': '_i4m-kcm--_', 'name': 'Shae', 'alive': False, 'traits': ['M', 'D', 'G']}\n",
      "\n",
      "{'_key': '266280094293', '_id': 'Characters/266280094293', '_rev': '_i4m-kcm--A', 'name': 'Talisa', 'surname': 'Maegyr', 'alive': False, 'traits': ['D', 'C', 'B']}\n",
      "\n",
      "{'_key': '266280094294', '_id': 'Characters/266280094294', '_rev': '_i4m-kcm--B', 'name': 'Gendry', 'alive': False, 'traits': ['K', 'C', 'A']}\n",
      "\n",
      "{'_key': '266280094295', '_id': 'Characters/266280094295', '_rev': '_i4m-kcm--C', 'name': 'Ygritte', 'alive': False, 'traits': ['A', 'P', 'K']}\n",
      "\n",
      "{'_key': '266280094296', '_id': 'Characters/266280094296', '_rev': '_i4m-kcm--D', 'name': 'Tormund', 'surname': 'Giantsbane', 'alive': True, 'traits': ['C', 'P', 'A', 'I']}\n",
      "\n",
      "{'_key': '266280094297', '_id': 'Characters/266280094297', '_rev': '_i4m-kcm--E', 'name': 'Gilly', 'alive': True, 'traits': ['L', 'J']}\n",
      "\n",
      "{'_key': '266280094298', '_id': 'Characters/266280094298', '_rev': '_i4m-kcm--F', 'name': 'Brienne', 'surname': 'Tarth', 'alive': True, 'age': 32, 'traits': ['P', 'C', 'A', 'K']}\n",
      "\n",
      "{'_key': '266280094299', '_id': 'Characters/266280094299', '_rev': '_i4m-kcm--G', 'name': 'Ramsay', 'surname': 'Bolton', 'alive': True, 'traits': ['E', 'O', 'G', 'A']}\n",
      "\n",
      "{'_key': '266280094300', '_id': 'Characters/266280094300', '_rev': '_i4m-kcm--H', 'name': 'Ellaria', 'surname': 'Sand', 'alive': True, 'traits': ['P', 'O', 'A', 'E']}\n",
      "\n",
      "{'_key': '266280094301', '_id': 'Characters/266280094301', '_rev': '_i4m-kcm--I', 'name': 'Daario', 'surname': 'Naharis', 'alive': True, 'traits': ['K', 'P', 'A']}\n",
      "\n",
      "{'_key': '266280094302', '_id': 'Characters/266280094302', '_rev': '_i4m-kcm--J', 'name': 'Missandei', 'alive': True, 'traits': ['D', 'L', 'C', 'M']}\n",
      "\n",
      "{'_key': '266280094303', '_id': 'Characters/266280094303', '_rev': '_i4m-kcm--K', 'name': 'Tommen', 'surname': 'Baratheon', 'alive': True, 'traits': ['I', 'L', 'B']}\n",
      "\n",
      "{'_key': '266280094304', '_id': 'Characters/266280094304', '_rev': '_i4m-kcm--L', 'name': 'Jaqen', 'surname': \"H'ghar\", 'alive': True, 'traits': ['H', 'F', 'K']}\n",
      "\n",
      "{'_key': '266280094305', '_id': 'Characters/266280094305', '_rev': '_i4m-kcm--M', 'name': 'Roose', 'surname': 'Bolton', 'alive': True, 'traits': ['H', 'E', 'F', 'A']}\n",
      "\n",
      "{'_key': '266280094306', '_id': 'Characters/266280094306', '_rev': '_i4m-kcm--N', 'name': 'The High Sparrow', 'alive': True, 'traits': ['H', 'M', 'F', 'O']}\n",
      "\n",
      "{'_key': '266280094605', '_id': 'Characters/266280094605', '_rev': '_i4mAMNS--_', 'name': 'Ned', 'surname': 'Stark', 'alive': True, 'age': 41, 'traits': ['A', 'H', 'C', 'N', 'P']}\n",
      "\n",
      "{'_key': '266280094607', '_id': 'Characters/266280094607', '_rev': '_i4mAM2O--_', 'name': 'Robert', 'surname': 'Baratheon', 'alive': False, 'traits': ['A', 'H', 'C']}\n",
      "\n",
      "{'_key': '266280094608', '_id': 'Characters/266280094608', '_rev': '_i4mAM2O--A', 'name': 'Jaime', 'surname': 'Lannister', 'alive': True, 'age': 36, 'traits': ['A', 'F', 'B']}\n",
      "\n",
      "{'_key': '266280094609', '_id': 'Characters/266280094609', '_rev': '_i4mAM2O--B', 'name': 'Catelyn', 'surname': 'Stark', 'alive': False, 'age': 40, 'traits': ['D', 'H', 'C']}\n",
      "\n",
      "{'_key': '266280094610', '_id': 'Characters/266280094610', '_rev': '_i4mAM2O--C', 'name': 'Cersei', 'surname': 'Lannister', 'alive': True, 'age': 36, 'traits': ['H', 'E', 'F']}\n",
      "\n",
      "{'_key': '266280094611', '_id': 'Characters/266280094611', '_rev': '_i4mAM2O--D', 'name': 'Daenerys', 'surname': 'Targaryen', 'alive': True, 'age': 16, 'traits': ['D', 'H', 'C']}\n",
      "\n",
      "{'_key': '266280094612', '_id': 'Characters/266280094612', '_rev': '_i4mAM2O--E', 'name': 'Jorah', 'surname': 'Mormont', 'alive': False, 'traits': ['A', 'B', 'C', 'F']}\n",
      "\n",
      "{'_key': '266280094613', '_id': 'Characters/266280094613', '_rev': '_i4mAM2O--F', 'name': 'Petyr', 'surname': 'Baelish', 'alive': False, 'traits': ['E', 'G', 'F']}\n",
      "\n",
      "{'_key': '266280094614', '_id': 'Characters/266280094614', '_rev': '_i4mAM2O--G', 'name': 'Viserys', 'surname': 'Targaryen', 'alive': False, 'traits': ['O', 'L', 'N']}\n",
      "\n",
      "{'_key': '266280094615', '_id': 'Characters/266280094615', '_rev': '_i4mAM2O--H', 'name': 'Jon', 'surname': 'Snow', 'alive': True, 'age': 16, 'traits': ['A', 'B', 'C', 'F']}\n",
      "\n",
      "{'_key': '266280094616', '_id': 'Characters/266280094616', '_rev': '_i4mAM2O--I', 'name': 'Sansa', 'surname': 'Stark', 'alive': True, 'age': 13, 'traits': ['D', 'I', 'J']}\n",
      "\n",
      "{'_key': '266280094617', '_id': 'Characters/266280094617', '_rev': '_i4mAM2O--J', 'name': 'Arya', 'surname': 'Stark', 'alive': True, 'age': 11, 'traits': ['C', 'K', 'L']}\n",
      "\n",
      "{'_key': '266280094618', '_id': 'Characters/266280094618', '_rev': '_i4mAM2O--K', 'name': 'Robb', 'surname': 'Stark', 'alive': False, 'traits': ['A', 'B', 'C', 'K']}\n",
      "\n",
      "{'_key': '266280094619', '_id': 'Characters/266280094619', '_rev': '_i4mAM2O--L', 'name': 'Theon', 'surname': 'Greyjoy', 'alive': True, 'age': 16, 'traits': ['E', 'R', 'K']}\n",
      "\n",
      "{'_key': '266280094620', '_id': 'Characters/266280094620', '_rev': '_i4mAM2O--M', 'name': 'Bran', 'surname': 'Stark', 'alive': True, 'age': 10, 'traits': ['L', 'J']}\n",
      "\n",
      "{'_key': '266280094621', '_id': 'Characters/266280094621', '_rev': '_i4mAM2O--N', 'name': 'Joffrey', 'surname': 'Baratheon', 'alive': False, 'age': 19, 'traits': ['I', 'L', 'O']}\n",
      "\n",
      "{'_key': '266280094622', '_id': 'Characters/266280094622', '_rev': '_i4mAM2O--O', 'name': 'Sandor', 'surname': 'Clegane', 'alive': True, 'traits': ['A', 'P', 'K', 'F']}\n",
      "\n",
      "{'_key': '266280094623', '_id': 'Characters/266280094623', '_rev': '_i4mAM2O--P', 'name': 'Tyrion', 'surname': 'Lannister', 'alive': True, 'age': 32, 'traits': ['F', 'K', 'M', 'N']}\n",
      "\n",
      "{'_key': '266280094624', '_id': 'Characters/266280094624', '_rev': '_i4mAM2O--Q', 'name': 'Khal', 'surname': 'Drogo', 'alive': False, 'traits': ['A', 'C', 'O', 'P']}\n",
      "\n",
      "{'_key': '266280094625', '_id': 'Characters/266280094625', '_rev': '_i4mAM2O--R', 'name': 'Tywin', 'surname': 'Lannister', 'alive': False, 'traits': ['O', 'M', 'H', 'F']}\n",
      "\n",
      "{'_key': '266280094626', '_id': 'Characters/266280094626', '_rev': '_i4mAM2O--S', 'name': 'Davos', 'surname': 'Seaworth', 'alive': True, 'age': 49, 'traits': ['C', 'K', 'P', 'F']}\n",
      "\n",
      "{'_key': '266280094627', '_id': 'Characters/266280094627', '_rev': '_i4mAM2O--T', 'name': 'Samwell', 'surname': 'Tarly', 'alive': True, 'age': 17, 'traits': ['C', 'L', 'I']}\n",
      "\n",
      "{'_key': '266280094628', '_id': 'Characters/266280094628', '_rev': '_i4mAM2O--U', 'name': 'Stannis', 'surname': 'Baratheon', 'alive': False, 'traits': ['H', 'O', 'P', 'M']}\n",
      "\n",
      "{'_key': '266280094629', '_id': 'Characters/266280094629', '_rev': '_i4mAM2O--V', 'name': 'Melisandre', 'alive': True, 'traits': ['G', 'E', 'H']}\n",
      "\n",
      "{'_key': '266280094630', '_id': 'Characters/266280094630', '_rev': '_i4mAM2O--W', 'name': 'Margaery', 'surname': 'Tyrell', 'alive': False, 'traits': ['M', 'D', 'B']}\n",
      "\n",
      "{'_key': '266280094631', '_id': 'Characters/266280094631', '_rev': '_i4mAM2O--X', 'name': 'Jeor', 'surname': 'Mormont', 'alive': False, 'traits': ['C', 'H', 'M', 'P']}\n",
      "\n",
      "{'_key': '266280094632', '_id': 'Characters/266280094632', '_rev': '_i4mAM2O--Y', 'name': 'Bronn', 'alive': True, 'traits': ['K', 'E', 'C']}\n",
      "\n",
      "{'_key': '266280094633', '_id': 'Characters/266280094633', '_rev': '_i4mAM2O--Z', 'name': 'Varys', 'alive': True, 'traits': ['M', 'F', 'N', 'E']}\n",
      "\n",
      "{'_key': '266280094634', '_id': 'Characters/266280094634', '_rev': '_i4mAM2O--a', 'name': 'Shae', 'alive': False, 'traits': ['M', 'D', 'G']}\n",
      "\n",
      "{'_key': '266280094635', '_id': 'Characters/266280094635', '_rev': '_i4mAM2O--b', 'name': 'Talisa', 'surname': 'Maegyr', 'alive': False, 'traits': ['D', 'C', 'B']}\n",
      "\n",
      "{'_key': '266280094636', '_id': 'Characters/266280094636', '_rev': '_i4mAM2O--c', 'name': 'Gendry', 'alive': False, 'traits': ['K', 'C', 'A']}\n",
      "\n",
      "{'_key': '266280094637', '_id': 'Characters/266280094637', '_rev': '_i4mAM2O--d', 'name': 'Ygritte', 'alive': False, 'traits': ['A', 'P', 'K']}\n",
      "\n",
      "{'_key': '266280094638', '_id': 'Characters/266280094638', '_rev': '_i4mAM2O--e', 'name': 'Tormund', 'surname': 'Giantsbane', 'alive': True, 'traits': ['C', 'P', 'A', 'I']}\n",
      "\n",
      "{'_key': '266280094639', '_id': 'Characters/266280094639', '_rev': '_i4mAM2O--f', 'name': 'Gilly', 'alive': True, 'traits': ['L', 'J']}\n",
      "\n",
      "{'_key': '266280094640', '_id': 'Characters/266280094640', '_rev': '_i4mAM2O--g', 'name': 'Brienne', 'surname': 'Tarth', 'alive': True, 'age': 32, 'traits': ['P', 'C', 'A', 'K']}\n",
      "\n",
      "{'_key': '266280094641', '_id': 'Characters/266280094641', '_rev': '_i4mAM2O--h', 'name': 'Ramsay', 'surname': 'Bolton', 'alive': True, 'traits': ['E', 'O', 'G', 'A']}\n",
      "\n",
      "{'_key': '266280094642', '_id': 'Characters/266280094642', '_rev': '_i4mAM2O--i', 'name': 'Ellaria', 'surname': 'Sand', 'alive': True, 'traits': ['P', 'O', 'A', 'E']}\n",
      "\n",
      "{'_key': '266280094643', '_id': 'Characters/266280094643', '_rev': '_i4mAM2O--j', 'name': 'Daario', 'surname': 'Naharis', 'alive': True, 'traits': ['K', 'P', 'A']}\n",
      "\n",
      "{'_key': '266280094644', '_id': 'Characters/266280094644', '_rev': '_i4mAM2O--k', 'name': 'Missandei', 'alive': True, 'traits': ['D', 'L', 'C', 'M']}\n",
      "\n",
      "{'_key': '266280094645', '_id': 'Characters/266280094645', '_rev': '_i4mAM2O--l', 'name': 'Tommen', 'surname': 'Baratheon', 'alive': True, 'traits': ['I', 'L', 'B']}\n",
      "\n",
      "{'_key': '266280094646', '_id': 'Characters/266280094646', '_rev': '_i4mAM2O--m', 'name': 'Jaqen', 'surname': \"H'ghar\", 'alive': True, 'traits': ['H', 'F', 'K']}\n",
      "\n",
      "{'_key': '266280094647', '_id': 'Characters/266280094647', '_rev': '_i4mAM2O--n', 'name': 'Roose', 'surname': 'Bolton', 'alive': True, 'traits': ['H', 'E', 'F', 'A']}\n",
      "\n",
      "{'_key': '266280094648', '_id': 'Characters/266280094648', '_rev': '_i4mAM2O--o', 'name': 'The High Sparrow', 'alive': True, 'traits': ['H', 'M', 'F', 'O']}\n",
      "\n",
      "{'_key': '266280095878', '_id': 'Characters/266280095878', '_rev': '_i4mLfTi--_', 'name': 'Ned', 'surname': 'Stark', 'alive': True, 'age': 41, 'traits': ['A', 'H', 'C', 'N', 'P']}\n",
      "\n"
     ]
    }
   ],
   "source": [
    "all_characters = \"\"\"\n",
    "FOR c IN Characters\n",
    "    RETURN c\n",
    "\"\"\"\n",
    "\n",
    "query_result = db.AQLQuery(all_characters, rawResults=True)\n",
    "\n",
    "for doc in  query_result:\n",
    "    print(doc)\n",
    "    print()"
   ]
  },
  {
   "cell_type": "markdown",
   "metadata": {
    "id": "3qkve90S8U6K"
   },
   "source": [
    "* **Chèn các bản ghi**"
   ]
  },
  {
   "cell_type": "code",
   "execution_count": 9,
   "metadata": {
    "colab": {
     "base_uri": "https://localhost:8080/"
    },
    "id": "0pTp6W-b8ZT5",
    "outputId": "c1eb11ca-754f-4b5b-ed74-a58f521e0268"
   },
   "outputs": [
    {
     "data": {
      "text/plain": [
       "<pyArango.query.AQLQuery at 0x1d12d057c20>"
      ]
     },
     "execution_count": 9,
     "metadata": {},
     "output_type": "execute_result"
    }
   ],
   "source": [
    "insert_query = \"\"\"\n",
    "LET data = [\n",
    "    { \"name\": \"Robert\", \"surname\": \"Baratheon\", \"alive\": false, \"traits\": [\"A\",\"H\",\"C\"] },\n",
    "    { \"name\": \"Jaime\", \"surname\": \"Lannister\", \"alive\": true, \"age\": 36, \"traits\": [\"A\",\"F\",\"B\"] },\n",
    "    { \"name\": \"Catelyn\", \"surname\": \"Stark\", \"alive\": false, \"age\": 40, \"traits\": [\"D\",\"H\",\"C\"] },\n",
    "    { \"name\": \"Cersei\", \"surname\": \"Lannister\", \"alive\": true, \"age\": 36, \"traits\": [\"H\",\"E\",\"F\"] },\n",
    "    { \"name\": \"Daenerys\", \"surname\": \"Targaryen\", \"alive\": true, \"age\": 16, \"traits\": [\"D\",\"H\",\"C\"] },\n",
    "    { \"name\": \"Jorah\", \"surname\": \"Mormont\", \"alive\": false, \"traits\": [\"A\",\"B\",\"C\",\"F\"] },\n",
    "    { \"name\": \"Petyr\", \"surname\": \"Baelish\", \"alive\": false, \"traits\": [\"E\",\"G\",\"F\"] },\n",
    "    { \"name\": \"Viserys\", \"surname\": \"Targaryen\", \"alive\": false, \"traits\": [\"O\",\"L\",\"N\"] },\n",
    "    { \"name\": \"Jon\", \"surname\": \"Snow\", \"alive\": true, \"age\": 16, \"traits\": [\"A\",\"B\",\"C\",\"F\"] },\n",
    "    { \"name\": \"Sansa\", \"surname\": \"Stark\", \"alive\": true, \"age\": 13, \"traits\": [\"D\",\"I\",\"J\"] },\n",
    "    { \"name\": \"Arya\", \"surname\": \"Stark\", \"alive\": true, \"age\": 11, \"traits\": [\"C\",\"K\",\"L\"] },\n",
    "    { \"name\": \"Robb\", \"surname\": \"Stark\", \"alive\": false, \"traits\": [\"A\",\"B\",\"C\",\"K\"] },\n",
    "    { \"name\": \"Theon\", \"surname\": \"Greyjoy\", \"alive\": true, \"age\": 16, \"traits\": [\"E\",\"R\",\"K\"] },\n",
    "    { \"name\": \"Bran\", \"surname\": \"Stark\", \"alive\": true, \"age\": 10, \"traits\": [\"L\",\"J\"] },\n",
    "    { \"name\": \"Joffrey\", \"surname\": \"Baratheon\", \"alive\": false, \"age\": 19, \"traits\": [\"I\",\"L\",\"O\"] },\n",
    "    { \"name\": \"Sandor\", \"surname\": \"Clegane\", \"alive\": true, \"traits\": [\"A\",\"P\",\"K\",\"F\"] },\n",
    "    { \"name\": \"Tyrion\", \"surname\": \"Lannister\", \"alive\": true, \"age\": 32, \"traits\": [\"F\",\"K\",\"M\",\"N\"] },\n",
    "    { \"name\": \"Khal\", \"surname\": \"Drogo\", \"alive\": false, \"traits\": [\"A\",\"C\",\"O\",\"P\"] },\n",
    "    { \"name\": \"Tywin\", \"surname\": \"Lannister\", \"alive\": false, \"traits\": [\"O\",\"M\",\"H\",\"F\"] },\n",
    "    { \"name\": \"Davos\", \"surname\": \"Seaworth\", \"alive\": true, \"age\": 49, \"traits\": [\"C\",\"K\",\"P\",\"F\"] },\n",
    "    { \"name\": \"Samwell\", \"surname\": \"Tarly\", \"alive\": true, \"age\": 17, \"traits\": [\"C\",\"L\",\"I\"] },\n",
    "    { \"name\": \"Stannis\", \"surname\": \"Baratheon\", \"alive\": false, \"traits\": [\"H\",\"O\",\"P\",\"M\"] },\n",
    "    { \"name\": \"Melisandre\", \"alive\": true, \"traits\": [\"G\",\"E\",\"H\"] },\n",
    "    { \"name\": \"Margaery\", \"surname\": \"Tyrell\", \"alive\": false, \"traits\": [\"M\",\"D\",\"B\"] },\n",
    "    { \"name\": \"Jeor\", \"surname\": \"Mormont\", \"alive\": false, \"traits\": [\"C\",\"H\",\"M\",\"P\"] },\n",
    "    { \"name\": \"Bronn\", \"alive\": true, \"traits\": [\"K\",\"E\",\"C\"] },\n",
    "    { \"name\": \"Varys\", \"alive\": true, \"traits\": [\"M\",\"F\",\"N\",\"E\"] },\n",
    "    { \"name\": \"Shae\", \"alive\": false, \"traits\": [\"M\",\"D\",\"G\"] },\n",
    "    { \"name\": \"Talisa\", \"surname\": \"Maegyr\", \"alive\": false, \"traits\": [\"D\",\"C\",\"B\"] },\n",
    "    { \"name\": \"Gendry\", \"alive\": false, \"traits\": [\"K\",\"C\",\"A\"] },\n",
    "    { \"name\": \"Ygritte\", \"alive\": false, \"traits\": [\"A\",\"P\",\"K\"] },\n",
    "    { \"name\": \"Tormund\", \"surname\": \"Giantsbane\", \"alive\": true, \"traits\": [\"C\",\"P\",\"A\",\"I\"] },\n",
    "    { \"name\": \"Gilly\", \"alive\": true, \"traits\": [\"L\",\"J\"] },\n",
    "    { \"name\": \"Brienne\", \"surname\": \"Tarth\", \"alive\": true, \"age\": 32, \"traits\": [\"P\",\"C\",\"A\",\"K\"] },\n",
    "    { \"name\": \"Ramsay\", \"surname\": \"Bolton\", \"alive\": true, \"traits\": [\"E\",\"O\",\"G\",\"A\"] },\n",
    "    { \"name\": \"Ellaria\", \"surname\": \"Sand\", \"alive\": true, \"traits\": [\"P\",\"O\",\"A\",\"E\"] },\n",
    "    { \"name\": \"Daario\", \"surname\": \"Naharis\", \"alive\": true, \"traits\": [\"K\",\"P\",\"A\"] },\n",
    "    { \"name\": \"Missandei\", \"alive\": true, \"traits\": [\"D\",\"L\",\"C\",\"M\"] },\n",
    "    { \"name\": \"Tommen\", \"surname\": \"Baratheon\", \"alive\": true, \"traits\": [\"I\",\"L\",\"B\"] },\n",
    "    { \"name\": \"Jaqen\", \"surname\": \"H'ghar\", \"alive\": true, \"traits\": [\"H\",\"F\",\"K\"] },\n",
    "    { \"name\": \"Roose\", \"surname\": \"Bolton\", \"alive\": true, \"traits\": [\"H\",\"E\",\"F\",\"A\"] },\n",
    "    { \"name\": \"The High Sparrow\", \"alive\": true, \"traits\": [\"H\",\"M\",\"F\",\"O\"] }\n",
    "]\n",
    "\n",
    "FOR d IN data\n",
    "    INSERT d INTO Characters\n",
    "\"\"\"\n",
    "\n",
    "db.AQLQuery(insert_query)"
   ]
  },
  {
   "cell_type": "markdown",
   "metadata": {
    "id": "wDDdBVIc9ZMw"
   },
   "source": [
    "* Truy vấn cơ bản"
   ]
  },
  {
   "cell_type": "code",
   "execution_count": 10,
   "metadata": {
    "colab": {
     "base_uri": "https://localhost:8080/"
    },
    "id": "-Tgzw5zd9SFZ",
    "outputId": "a26f12c2-c998-45b7-82c4-ef1aade8ec91"
   },
   "outputs": [
    {
     "name": "stdout",
     "output_type": "stream",
     "text": [
      "Ned\n",
      "Robert\n",
      "Jaime\n",
      "Catelyn\n",
      "Cersei\n",
      "Daenerys\n",
      "Jorah\n",
      "Petyr\n",
      "Viserys\n",
      "Jon\n"
     ]
    }
   ],
   "source": [
    "all_characters_names = \"\"\"\n",
    "FOR name IN Characters\n",
    "    RETURN name.name\n",
    "\"\"\"\n",
    "\n",
    "query_result = db.AQLQuery(all_characters_names, rawResults=True)\n",
    "\n",
    "# Lấy ra chỉ 10 tên\n",
    "for i in range(10):\n",
    "  print(query_result[i])"
   ]
  },
  {
   "cell_type": "code",
   "execution_count": 11,
   "metadata": {
    "colab": {
     "base_uri": "https://localhost:8080/"
    },
    "id": "Ue08pnHkbJuX",
    "outputId": "3651a253-cf22-4569-bcc6-e2dcb360ebe5"
   },
   "outputs": [
    {
     "data": {
      "text/plain": [
       "['Ned',\n",
       " 'Robert',\n",
       " 'Jaime',\n",
       " 'Catelyn',\n",
       " 'Cersei',\n",
       " 'Daenerys',\n",
       " 'Jorah',\n",
       " 'Petyr',\n",
       " 'Viserys',\n",
       " 'Jon',\n",
       " 'Sansa',\n",
       " 'Arya',\n",
       " 'Robb',\n",
       " 'Theon',\n",
       " 'Bran',\n",
       " 'Joffrey',\n",
       " 'Sandor',\n",
       " 'Tyrion',\n",
       " 'Khal',\n",
       " 'Tywin',\n",
       " 'Davos',\n",
       " 'Samwell',\n",
       " 'Stannis',\n",
       " 'Melisandre',\n",
       " 'Margaery',\n",
       " 'Jeor',\n",
       " 'Bronn',\n",
       " 'Varys',\n",
       " 'Shae',\n",
       " 'Talisa',\n",
       " 'Gendry',\n",
       " 'Ygritte',\n",
       " 'Tormund',\n",
       " 'Gilly',\n",
       " 'Brienne',\n",
       " 'Ramsay',\n",
       " 'Ellaria',\n",
       " 'Daario',\n",
       " 'Missandei',\n",
       " 'Tommen',\n",
       " 'Jaqen',\n",
       " 'Roose',\n",
       " 'The High Sparrow',\n",
       " 'Ned',\n",
       " 'Robert',\n",
       " 'Jaime',\n",
       " 'Catelyn',\n",
       " 'Cersei',\n",
       " 'Daenerys',\n",
       " 'Jorah',\n",
       " 'Petyr',\n",
       " 'Viserys',\n",
       " 'Jon',\n",
       " 'Sansa',\n",
       " 'Arya',\n",
       " 'Robb',\n",
       " 'Theon',\n",
       " 'Bran',\n",
       " 'Joffrey',\n",
       " 'Sandor',\n",
       " 'Tyrion',\n",
       " 'Khal',\n",
       " 'Tywin',\n",
       " 'Davos',\n",
       " 'Samwell',\n",
       " 'Stannis',\n",
       " 'Melisandre',\n",
       " 'Margaery',\n",
       " 'Jeor',\n",
       " 'Bronn',\n",
       " 'Varys',\n",
       " 'Shae',\n",
       " 'Talisa',\n",
       " 'Gendry',\n",
       " 'Ygritte',\n",
       " 'Tormund',\n",
       " 'Gilly',\n",
       " 'Brienne',\n",
       " 'Ramsay',\n",
       " 'Ellaria',\n",
       " 'Daario',\n",
       " 'Missandei',\n",
       " 'Tommen',\n",
       " 'Jaqen',\n",
       " 'Roose',\n",
       " 'The High Sparrow',\n",
       " 'Ned',\n",
       " 'Robert',\n",
       " 'Jaime',\n",
       " 'Catelyn',\n",
       " 'Cersei',\n",
       " 'Daenerys',\n",
       " 'Jorah',\n",
       " 'Petyr',\n",
       " 'Viserys',\n",
       " 'Jon',\n",
       " 'Sansa',\n",
       " 'Arya',\n",
       " 'Robb',\n",
       " 'Theon',\n",
       " 'Bran',\n",
       " 'Joffrey',\n",
       " 'Sandor',\n",
       " 'Tyrion',\n",
       " 'Khal',\n",
       " 'Tywin',\n",
       " 'Davos',\n",
       " 'Samwell',\n",
       " 'Stannis',\n",
       " 'Melisandre',\n",
       " 'Margaery',\n",
       " 'Jeor',\n",
       " 'Bronn',\n",
       " 'Varys',\n",
       " 'Shae',\n",
       " 'Talisa',\n",
       " 'Gendry',\n",
       " 'Ygritte',\n",
       " 'Tormund',\n",
       " 'Gilly',\n",
       " 'Brienne',\n",
       " 'Ramsay',\n",
       " 'Ellaria',\n",
       " 'Daario',\n",
       " 'Missandei',\n",
       " 'Tommen',\n",
       " 'Jaqen',\n",
       " 'Roose',\n",
       " 'The High Sparrow']"
      ]
     },
     "execution_count": 11,
     "metadata": {},
     "output_type": "execute_result"
    }
   ],
   "source": [
    "list(query_result)"
   ]
  },
  {
   "cell_type": "markdown",
   "metadata": {
    "id": "kaYENPPOor5V"
   },
   "source": [
    "* **Truy vấn có điều kiện**\n"
   ]
  },
  {
   "cell_type": "code",
   "execution_count": 12,
   "metadata": {
    "colab": {
     "base_uri": "https://localhost:8080/"
    },
    "id": "EuUer1pqorTA",
    "outputId": "56f4c581-f91d-425e-839a-094b4e027b0f"
   },
   "outputs": [
    {
     "name": "stdout",
     "output_type": "stream",
     "text": [
      "Robert\n",
      "Catelyn\n",
      "Jorah\n",
      "Petyr\n",
      "Viserys\n",
      "Robb\n",
      "Joffrey\n",
      "Khal\n",
      "Tywin\n",
      "Stannis\n",
      "Margaery\n",
      "Jeor\n",
      "Shae\n",
      "Talisa\n",
      "Gendry\n",
      "Ygritte\n",
      "Robert\n",
      "Catelyn\n",
      "Jorah\n",
      "Petyr\n",
      "Viserys\n",
      "Robb\n",
      "Joffrey\n",
      "Khal\n",
      "Tywin\n",
      "Stannis\n",
      "Margaery\n",
      "Jeor\n",
      "Shae\n",
      "Talisa\n",
      "Gendry\n",
      "Ygritte\n",
      "Robert\n",
      "Catelyn\n",
      "Jorah\n",
      "Petyr\n",
      "Viserys\n",
      "Robb\n",
      "Joffrey\n",
      "Khal\n",
      "Tywin\n",
      "Stannis\n",
      "Margaery\n",
      "Jeor\n",
      "Shae\n",
      "Talisa\n",
      "Gendry\n",
      "Ygritte\n"
     ]
    }
   ],
   "source": [
    "find_ned_query = \"\"\"\n",
    "FOR c IN Characters\n",
    "    FILTER c.alive == false\n",
    "    RETURN c.name\n",
    "\"\"\"\n",
    "query_result = db.AQLQuery(find_ned_query, rawResults=True)\n",
    "for doc in  query_result:\n",
    "    print(doc, sep='\\n')"
   ]
  },
  {
   "cell_type": "code",
   "execution_count": 13,
   "metadata": {
    "colab": {
     "base_uri": "https://localhost:8080/"
    },
    "id": "IyeRAJnbp6FH",
    "outputId": "f7e99911-8bff-4564-ba18-777a1334b9bb"
   },
   "outputs": [
    {
     "name": "stdout",
     "output_type": "stream",
     "text": [
      "Ned\n",
      "Jaime\n",
      "Cersei\n",
      "Tyrion\n",
      "Davos\n",
      "Brienne\n",
      "Ned\n",
      "Jaime\n",
      "Cersei\n",
      "Tyrion\n",
      "Davos\n",
      "Brienne\n",
      "Ned\n",
      "Jaime\n",
      "Cersei\n",
      "Tyrion\n",
      "Davos\n",
      "Brienne\n"
     ]
    }
   ],
   "source": [
    "find_ned_query = \"\"\"\n",
    "FOR c IN Characters\n",
    "    FILTER c.alive == true AND c.age >= 18\n",
    "    RETURN c.name\n",
    "\"\"\"\n",
    "query_result = db.AQLQuery(find_ned_query, rawResults=True)\n",
    "\n",
    "for doc in  query_result:\n",
    "    print(doc, sep='\\n')"
   ]
  },
  {
   "cell_type": "code",
   "execution_count": 14,
   "metadata": {
    "colab": {
     "base_uri": "https://localhost:8080/"
    },
    "id": "rclhqtUmqLtv",
    "outputId": "f04f17ba-f9d0-4ce0-bf05-f09c2d391677"
   },
   "outputs": [
    {
     "name": "stdout",
     "output_type": "stream",
     "text": [
      "{'Name': 'Catelyn', 'Surname': 'Stark', 'Age': 40}\n",
      "{'Name': 'Joffrey', 'Surname': 'Baratheon', 'Age': 19}\n",
      "{'Name': 'Catelyn', 'Surname': 'Stark', 'Age': 40}\n",
      "{'Name': 'Joffrey', 'Surname': 'Baratheon', 'Age': 19}\n",
      "{'Name': 'Catelyn', 'Surname': 'Stark', 'Age': 40}\n",
      "{'Name': 'Joffrey', 'Surname': 'Baratheon', 'Age': 19}\n"
     ]
    }
   ],
   "source": [
    "find_ned_query = \"\"\"\n",
    "FOR c IN Characters\n",
    "    FILTER c.alive == false AND c.age >= 18\n",
    "    RETURN { Name: c.name, Surname: c.surname, Age: c.age }\n",
    "\"\"\"\n",
    "query_result = db.AQLQuery(find_ned_query, rawResults=True)\n",
    "\n",
    "for doc in  query_result:\n",
    "    print(doc, sep='\\n')"
   ]
  },
  {
   "cell_type": "code",
   "execution_count": 15,
   "metadata": {
    "colab": {
     "base_uri": "https://localhost:8080/"
    },
    "id": "BueJY1kdpLEe",
    "outputId": "aaa8af11-18a1-4001-9934-0ab56078e282"
   },
   "outputs": [
    {
     "name": "stdout",
     "output_type": "stream",
     "text": [
      "{'Name': 'Ramsay', 'Surname': 'Bolton'}\n",
      "{'Name': 'Roose', 'Surname': 'Bolton'}\n",
      "{'Name': 'Ramsay', 'Surname': 'Bolton'}\n",
      "{'Name': 'Roose', 'Surname': 'Bolton'}\n",
      "{'Name': 'Ramsay', 'Surname': 'Bolton'}\n",
      "{'Name': 'Roose', 'Surname': 'Bolton'}\n"
     ]
    }
   ],
   "source": [
    "find_ned_query = \"\"\"\n",
    "FOR c IN Characters\n",
    "    FILTER c.surname == \"Bolton\"\n",
    "    RETURN {Name: c.name, Surname: c.surname}\n",
    "\"\"\"\n",
    "query_result = db.AQLQuery(find_ned_query, rawResults=True)\n",
    "for doc in  query_result:\n",
    "    print(doc, sep='\\n')"
   ]
  },
  {
   "cell_type": "code",
   "execution_count": 16,
   "metadata": {
    "colab": {
     "base_uri": "https://localhost:8080/"
    },
    "id": "ip5c4XMCq9UI",
    "outputId": "290866e2-c6d3-4456-f459-0f8a6a8bb79b"
   },
   "outputs": [
    {
     "name": "stdout",
     "output_type": "stream",
     "text": [
      "Ned\n",
      "Robert\n",
      "Jaime\n",
      "Catelyn\n",
      "Cersei\n",
      "Daenerys\n",
      "Jorah\n",
      "Petyr\n",
      "Viserys\n",
      "Jon\n"
     ]
    }
   ],
   "source": [
    "\n",
    "sample_chars_query = \"\"\"\n",
    "FOR c IN Characters\n",
    "    LIMIT 10\n",
    "    RETURN c.name\n",
    "\"\"\"\n",
    "\n",
    "query_result = db.AQLQuery(sample_chars_query, rawResults=True)\n",
    "\n",
    "for doc in  query_result:\n",
    "    print(doc, sep='\\n')"
   ]
  },
  {
   "cell_type": "code",
   "execution_count": 17,
   "metadata": {
    "colab": {
     "base_uri": "https://localhost:8080/"
    },
    "id": "oGpice0GrHdI",
    "outputId": "3055aae0-e252-49bc-e813-c78a5a6160ec"
   },
   "outputs": [
    {
     "name": "stdout",
     "output_type": "stream",
     "text": [
      "{'Name': 'Arya', 'Surname': 'Stark', 'Age': 11}\n",
      "{'Name': 'Arya', 'Surname': 'Stark', 'Age': 11}\n",
      "{'Name': 'Arya', 'Surname': 'Stark', 'Age': 11}\n",
      "{'Name': 'Bran', 'Surname': 'Stark', 'Age': 10}\n",
      "{'Name': 'Bran', 'Surname': 'Stark', 'Age': 10}\n",
      "{'Name': 'Bran', 'Surname': 'Stark', 'Age': 10}\n",
      "{'Name': 'Brienne', 'Surname': 'Tarth', 'Age': 32}\n",
      "{'Name': 'Brienne', 'Surname': 'Tarth', 'Age': 32}\n",
      "{'Name': 'Brienne', 'Surname': 'Tarth', 'Age': 32}\n",
      "{'Name': 'Bronn', 'Surname': None, 'Age': None}\n"
     ]
    }
   ],
   "source": [
    "\n",
    "sample_chars_query = \"\"\"\n",
    "FOR c IN Characters\n",
    "    SORT c.name\n",
    "    LIMIT 10\n",
    "    RETURN { Name: c.name, Surname: c.surname, Age: c.age }\n",
    "\"\"\"\n",
    "\n",
    "query_result = db.AQLQuery(sample_chars_query, rawResults=True)\n",
    "\n",
    "for doc in  query_result:\n",
    "    print(doc, sep='\\n')"
   ]
  },
  {
   "cell_type": "markdown",
   "metadata": {
    "id": "krTk0NU014Yx"
   },
   "source": [
    "# 3. Tạo đồ thị"
   ]
  },
  {
   "cell_type": "markdown",
   "metadata": {
    "id": "SrvdSo0yG4zH"
   },
   "source": [
    "## Lấy data từ \"shortest path data\""
   ]
  },
  {
   "cell_type": "code",
   "execution_count": 18,
   "metadata": {
    "colab": {
     "base_uri": "https://localhost:8080/"
    },
    "id": "jMTqhbHj3JLw",
    "outputId": "2637d23d-69de-4b93-c375-47f5c30f8f1e"
   },
   "outputs": [
    {
     "name": "stdout",
     "output_type": "stream",
     "text": [
      "Tạo đồ thị thành công\n"
     ]
    }
   ],
   "source": [
    "from pyArango.collection import Collection, Field, Edges\n",
    "from pyArango.graph import Graph, EdgeDefinition\n",
    "\n",
    "# Định nghĩa Collections\n",
    "class Places(Collection):\n",
    "    _fields = {\n",
    "        \"label\": Field()\n",
    "    }\n",
    "\n",
    "class Connect(Edges):\n",
    "    _fields = {\n",
    "        \"travelTime\": Field()\n",
    "    }\n",
    "\n",
    "# Định nghĩa Graph\n",
    "class TravelGraph(Graph):\n",
    "    _edgeDefinitions = [\n",
    "        EdgeDefinition(\"Connect\", fromCollections=[\"Places\"], toCollections=[\"Places\"]),\n",
    "        ]\n",
    "    _orphanedCollections = []\n",
    "\n",
    "\n",
    "if \"Places\" not in db.collections:\n",
    "    db.createCollection(className=\"Places\")\n",
    "\n",
    "if \"Connect\" not in db.collections:\n",
    "    db.createCollection(className=\"Connect\")\n",
    "\n",
    "# Tạo graph\n",
    "if \"TravelGraph\" not in db.graphs:\n",
    "    travel_graph = db.createGraph(\"TravelGraph\")\n",
    "else:\n",
    "    travel_graph = db.graphs[\"TravelGraph\"]\n",
    "\n",
    "\n",
    "import json\n",
    "\n",
    "# Đọc dữ liệu từ tệp JSON\n",
    "with open(\"./shortest_path_data/places.json\", \"r\") as f:\n",
    "    places_data = json.load(f)\n",
    "    db[\"Places\"].importBulk(places_data)\n",
    "\n",
    "\n",
    "with open(\"./shortest_path_data/connect.json\", \"r\") as f:\n",
    "    connections_data = json.load(f)\n",
    "    db[\"Connect\"].importBulk(connections_data)\n",
    "\n",
    "print(\"Tạo đồ thị thành công\")"
   ]
  },
  {
   "cell_type": "code",
   "execution_count": 19,
   "metadata": {
    "colab": {
     "base_uri": "https://localhost:8080/"
    },
    "id": "geOgI_XoD-LM",
    "outputId": "43016470-d542-45c7-d517-1664fc25a944"
   },
   "outputs": [
    {
     "name": "stdout",
     "output_type": "stream",
     "text": [
      "Inverness: [('Aberdeen', 2.5), ('Edmonton', 4), ('StAndrews', 4.5)]\n",
      "Aberdeen: [('Inverness', 2.5), ('Leuchars', 1.5)]\n",
      "Leuchars: [('Aberdeen', 1.5), ('Edinburgh', 3), ('StAndrews', 0.2), ('Carlisle', 1.5)]\n",
      "StAndrews: [('Leuchars', 0.2), ('Inverness', 4.5)]\n",
      "Edinburgh: [('Leuchars', 3), ('Glasgow', 1), ('York', 4)]\n",
      "Glasgow: [('Edinburgh', 1), ('Carlisle', 1)]\n",
      "York: [('Edinburgh', 4), ('Carlisle', 2.5), ('London', 1.8)]\n",
      "Carlisle: [('Glasgow', 1), ('York', 2.5), ('Birmingham', 1), ('Leuchars', 1.5), ('Cologne', 1.25)]\n",
      "Birmingham: [('Carlisle', 1), ('London', 2.5), ('Toronto', 8.25)]\n",
      "London: [('Birmingham', 2.5), ('York', 1.8), ('Brussels', 2.5)]\n",
      "Brussels: [('London', 2.5), ('Cologne', 1.5)]\n",
      "Cologne: [('Brussels', 1.5), ('Carlisle', 1.25)]\n",
      "Toronto: [('Winnipeg', 36), ('Birmingham', 8.25)]\n",
      "Winnipeg: [('Toronto', 36), ('Saskatoon', 12), ('Vancouver', 4.75)]\n",
      "Saskatoon: [('Winnipeg', 12), ('Edmonton', 12), ('Jasper', 6)]\n",
      "Edmonton: [('Saskatoon', 12), ('Jasper', 6), ('Inverness', 4)]\n",
      "Jasper: [('Edmonton', 6), ('Vancouver', 13), ('Saskatoon', 6)]\n",
      "Vancouver: [('Jasper', 13), ('Winnipeg', 4.75)]\n"
     ]
    }
   ],
   "source": [
    "def get_graph_data(directed = False):\n",
    "    places_query = \"FOR v IN Places RETURN {key: v._key, label: v.label}\"\n",
    "    connections_query = \"FOR e IN Connect RETURN {from: e._from, to: e._to, travelTime: e.travelTime}\"\n",
    "\n",
    "    places = {doc[\"key\"]: doc[\"label\"] for doc in db.AQLQuery(places_query, rawResults=True)}\n",
    "    connections = db.AQLQuery(connections_query, rawResults=True)\n",
    "\n",
    "    # Xây dựng danh sách kề với trọng số\n",
    "    adjacency_list = {key: [] for key in places.keys()}\n",
    "    for connection in connections:\n",
    "        from_key = connection[\"from\"].split(\"/\")[-1]\n",
    "        to_key = connection[\"to\"].split(\"/\")[-1]\n",
    "        travel_time = connection[\"travelTime\"]\n",
    "        adjacency_list[from_key].append((to_key, travel_time))\n",
    "        if not directed:\n",
    "            adjacency_list[to_key].append((from_key, travel_time))\n",
    "    return adjacency_list, places\n",
    "\n",
    "adjacency_list, places = get_graph_data()\n",
    "for key, value in adjacency_list.items():\n",
    "    print(f\"{key}: {value}\")"
   ]
  },
  {
   "cell_type": "markdown",
   "metadata": {
    "id": "ofeagclwhHXK"
   },
   "source": [
    "## Đường đi ngắn nhất"
   ]
  },
  {
   "cell_type": "code",
   "execution_count": 20,
   "metadata": {
    "colab": {
     "base_uri": "https://localhost:8080/"
    },
    "id": "6V7W5WTNPAyF",
    "outputId": "30cce7a4-4896-488e-c8f4-63295b68c410"
   },
   "outputs": [
    {
     "name": "stdout",
     "output_type": "stream",
     "text": [
      "{'places': ['Aberdeen', 'Leuchars', 'Carlisle', 'York', 'London'], 'travelTimeTotal': 7.3}\n"
     ]
    }
   ],
   "source": [
    "query = \"\"\"\n",
    "FOR p IN OUTBOUND K_SHORTEST_PATHS 'Places/Aberdeen' TO 'Places/London'\n",
    "GRAPH 'TravelGraph'\n",
    "    LIMIT 1\n",
    "    RETURN {\n",
    "        places: p.vertices[*].label,\n",
    "        travelTimeTotal: SUM(p.edges[*].travelTime)\n",
    "    }\n",
    "\"\"\"\n",
    "\n",
    "query_result = db.AQLQuery(query, rawResults=True)\n",
    "\n",
    "for doc in query_result:\n",
    "    print(doc, sep='\\n')"
   ]
  },
  {
   "cell_type": "markdown",
   "metadata": {},
   "source": [
    "## Thuật toán Prim"
   ]
  },
  {
   "cell_type": "code",
   "execution_count": 21,
   "metadata": {},
   "outputs": [
    {
     "name": "stdout",
     "output_type": "stream",
     "text": [
      "Cây khung nhỏ nhất: [('Inverness', 'Aberdeen', 2.5), ('Aberdeen', 'Leuchars', 1.5), ('Leuchars', 'StAndrews', 0.2), ('Leuchars', 'Carlisle', 1.5), ('Carlisle', 'Birmingham', 1), ('Carlisle', 'Glasgow', 1), ('Glasgow', 'Edinburgh', 1), ('Carlisle', 'Cologne', 1.25), ('Cologne', 'Brussels', 1.5), ('Birmingham', 'London', 2.5), ('London', 'York', 1.8), ('Inverness', 'Edmonton', 4), ('Edmonton', 'Jasper', 6), ('Jasper', 'Saskatoon', 6), ('Birmingham', 'Toronto', 8.25), ('Saskatoon', 'Winnipeg', 12), ('Winnipeg', 'Vancouver', 4.75)]\n",
      "Tổng trọng số: 56.75\n"
     ]
    }
   ],
   "source": [
    "from GraphAlgo import *\n",
    "\n",
    "start_vertex = 'Inverness'\n",
    "mst_edges, total_weight = prim(adjacency_list, start_vertex)\n",
    "\n",
    "# Hiển thị kết quả\n",
    "print(\"Cây khung nhỏ nhất:\", mst_edges)\n",
    "print(\"Tổng trọng số:\", total_weight)"
   ]
  },
  {
   "cell_type": "markdown",
   "metadata": {},
   "source": [
    "## Kruskal"
   ]
  },
  {
   "cell_type": "code",
   "execution_count": 22,
   "metadata": {},
   "outputs": [
    {
     "name": "stdout",
     "output_type": "stream",
     "text": [
      "Cây khung nhỏ nhất: [('Leuchars', 'StAndrews', 0.2), ('Edinburgh', 'Glasgow', 1), ('Glasgow', 'Carlisle', 1), ('Carlisle', 'Birmingham', 1), ('Carlisle', 'Cologne', 1.25), ('Aberdeen', 'Leuchars', 1.5), ('Leuchars', 'Carlisle', 1.5), ('Brussels', 'Cologne', 1.5), ('York', 'London', 1.8), ('Inverness', 'Aberdeen', 2.5), ('York', 'Carlisle', 2.5), ('Inverness', 'Edmonton', 4), ('Winnipeg', 'Vancouver', 4.75), ('Saskatoon', 'Jasper', 6), ('Edmonton', 'Jasper', 6), ('Birmingham', 'Toronto', 8.25), ('Winnipeg', 'Saskatoon', 12)]\n",
      "Tổng trọng số: 56.75\n"
     ]
    }
   ],
   "source": [
    "mst_edges, total_weight = kruskal(adjacency_list)\n",
    "\n",
    "# Hiển thị kết quả\n",
    "print(\"Cây khung nhỏ nhất:\", mst_edges)\n",
    "print(\"Tổng trọng số:\", total_weight)"
   ]
  },
  {
   "cell_type": "markdown",
   "metadata": {},
   "source": [
    "## Tô màu"
   ]
  },
  {
   "cell_type": "code",
   "execution_count": null,
   "metadata": {},
   "outputs": [],
   "source": []
  },
  {
   "cell_type": "markdown",
   "metadata": {},
   "source": [
    "## Lấy data từ \"components data\""
   ]
  },
  {
   "cell_type": "code",
   "execution_count": 23,
   "metadata": {},
   "outputs": [
    {
     "name": "stdout",
     "output_type": "stream",
     "text": [
      "Tạo đồ thị thành công\n"
     ]
    }
   ],
   "source": [
    "from pyArango.collection import Collection, Field, Edges\n",
    "from pyArango.graph import Graph, EdgeDefinition\n",
    "\n",
    "# Định nghĩa Collections\n",
    "class Components(Collection):\n",
    "    _fields = {\n",
    "        \"_key\": Field()\n",
    "    }\n",
    "\n",
    "class Connections(Edges):\n",
    "    pass\n",
    "\n",
    "# Định nghĩa Graph\n",
    "class ComponentsGraph(Graph):\n",
    "    _edgeDefinitions = [\n",
    "        EdgeDefinition(\"Connections\", fromCollections=[\"Components\"], toCollections=[\"Components\"]),\n",
    "        ]\n",
    "    _orphanedCollections = []\n",
    "\n",
    "\n",
    "if \"Components\" not in db.collections:\n",
    "    db.createCollection(className=\"Components\")\n",
    "\n",
    "if \"Connections\" not in db.collections:\n",
    "    db.createCollection(className=\"Connections\")\n",
    "\n",
    "# Tạo graph\n",
    "if \"ComponentsGraph\" not in db.graphs:\n",
    "    travel_graph = db.createGraph(\"ComponentsGraph\")\n",
    "else:\n",
    "    travel_graph = db.graphs[\"ComponentsGraph\"]\n",
    "\n",
    "\n",
    "import json\n",
    "\n",
    "# Đọc dữ liệu từ tệp JSON\n",
    "with open(\"./components_data/components.json\", \"r\") as f:\n",
    "    places_data = json.load(f)\n",
    "    db[\"Components\"].importBulk(places_data)\n",
    "\n",
    "\n",
    "with open(\"./components_data/connections.json\", \"r\") as f:\n",
    "    connections_data = json.load(f)\n",
    "    db[\"Connections\"].importBulk(connections_data)\n",
    "\n",
    "print(\"Tạo đồ thị thành công\")"
   ]
  },
  {
   "cell_type": "code",
   "execution_count": 24,
   "metadata": {},
   "outputs": [
    {
     "name": "stdout",
     "output_type": "stream",
     "text": [
      "B4: ['B2', 'B3', 'B5']\n",
      "C7: ['C4', 'C5', 'C8']\n",
      "A2: ['A1', 'A3']\n",
      "A1: ['A2', 'A4']\n",
      "B17: ['B15', 'B18', 'B19']\n",
      "C3: ['C2', 'C4']\n",
      "C4: ['C3', 'C5', 'C7']\n",
      "B21: ['B20']\n",
      "B12: ['B11', 'B13']\n",
      "C10: ['C8']\n",
      "B22: ['B20']\n",
      "B6: ['B3', 'B7']\n",
      "C5: ['C4', 'C6', 'C7']\n",
      "B13: ['B12', 'B20', 'B14']\n",
      "B20: ['B13', 'B21', 'B22']\n",
      "B8: ['B7']\n",
      "B14: ['B13', 'B15']\n",
      "C8: ['C7', 'C9', 'C10']\n",
      "B3: ['B1', 'B6', 'B4']\n",
      "C1: ['C2']\n",
      "B10: ['B7', 'B11']\n",
      "B16: ['B15']\n",
      "A3: ['A2', 'A4']\n",
      "B15: ['B14', 'B16', 'B17']\n",
      "B7: ['B6', 'B8', 'B9', 'B10', 'B19']\n",
      "B9: ['B7']\n",
      "C6: ['C5']\n",
      "C9: ['C8']\n",
      "B11: ['B10', 'B12']\n",
      "A4: ['A3', 'A1']\n",
      "B5: ['B4']\n",
      "B19: ['B7', 'B17']\n",
      "C2: ['C1', 'C3']\n",
      "B2: ['B4']\n",
      "B18: ['B17']\n",
      "B1: ['B3']\n"
     ]
    }
   ],
   "source": [
    "def get_graph_data(directed=False):\n",
    "    places_query = \"FOR v IN Components RETURN v._key\"\n",
    "    connections_query = \"FOR e IN Connections RETURN {from: e._from, to: e._to}\"\n",
    "\n",
    "    places = {doc for doc in db.AQLQuery(places_query, rawResults=True)}\n",
    "    connections = db.AQLQuery(connections_query, rawResults=True)\n",
    "\n",
    "    # Xây dựng danh sách kề\n",
    "    adjacency_list = {key: [] for key in places}\n",
    "    for connection in connections:\n",
    "        from_key = connection[\"from\"].split(\"/\")[-1]\n",
    "        to_key = connection[\"to\"].split(\"/\")[-1]\n",
    "        adjacency_list[from_key].append(to_key)\n",
    "        if not directed:\n",
    "            adjacency_list[to_key].append(from_key)\n",
    "    return adjacency_list, places\n",
    "\n",
    "adjacency_list, places = get_graph_data()\n",
    "for key, value in adjacency_list.items():\n",
    "    print(f\"{key}: {value}\")"
   ]
  },
  {
   "cell_type": "code",
   "execution_count": 25,
   "metadata": {},
   "outputs": [
    {
     "name": "stdout",
     "output_type": "stream",
     "text": [
      "Chuỗi thứ tự duyệt đồ thị từ đỉnh [A2]:\n",
      "A2 --> A1 --> A4 --> A3\n"
     ]
    }
   ],
   "source": [
    "start = 'A2'\n",
    "\n",
    "free_ser        = pd.Series(1, index = adjacency_list.keys())\n",
    "free_ser[start] = 0\n",
    "\n",
    "seq = []\n",
    "dfs(adjacency_list, free_ser, start, seq)\n",
    "seq = ' --> '.join(seq)\n",
    "print(f'Chuỗi thứ tự duyệt đồ thị từ đỉnh [{start}]:\\n{seq}')"
   ]
  },
  {
   "cell_type": "code",
   "execution_count": 26,
   "metadata": {},
   "outputs": [
    {
     "name": "stdout",
     "output_type": "stream",
     "text": [
      "Thành phần liên thông #1 = ['B4', 'B2', 'B3', 'B1', 'B6', 'B7', 'B8', 'B9', 'B10', 'B11', 'B12', 'B13', 'B20', 'B21', 'B22', 'B14', 'B15', 'B16', 'B17', 'B18', 'B19', 'B5']\n",
      "Thành phần liên thông #2 = ['C7', 'C4', 'C3', 'C2', 'C1', 'C5', 'C6', 'C8', 'C9', 'C10']\n",
      "Thành phần liên thông #3 = ['A2', 'A1', 'A4', 'A3']\n"
     ]
    }
   ],
   "source": [
    "components = dfs_all_components(adjacency_list)\n",
    "for c in components:\n",
    "    print(f'Thành phần liên thông #{components.index(c) + 1} = {c}')"
   ]
  },
  {
   "cell_type": "code",
   "execution_count": 27,
   "metadata": {},
   "outputs": [
    {
     "name": "stdout",
     "output_type": "stream",
     "text": [
      "Không tìm thấy chu trình Hamilton bắt đầu từ đỉnh [C1]\n"
     ]
    }
   ],
   "source": [
    "# Sử dụng hàm\n",
    "start = 'C1'\n",
    "hamilton_cycle = find_hamilton_cycle(adjacency_list, start)\n",
    "\n",
    "# In kết quả\n",
    "if hamilton_cycle:\n",
    "    print(f\"Chu trình Hamilton bắt đầu từ đỉnh [{start}]:\")\n",
    "    print(' --> '.join(hamilton_cycle))\n",
    "    print(f\"\\nĐộ dài chu trình: {len(hamilton_cycle)} đỉnh\")\n",
    "else:\n",
    "    print(f\"Không tìm thấy chu trình Hamilton bắt đầu từ đỉnh [{start}]\")\n",
    "\n",
    "# Kiểm tra tính hợp lệ của chu trình\n",
    "if hamilton_cycle:\n",
    "    is_valid = is_valid_hamilton_cycle(hamilton_cycle, adjacency_list)\n",
    "    print(f\"\\nChu trình Hamilton hợp lệ: {is_valid}\")"
   ]
  },
  {
   "cell_type": "code",
   "execution_count": 28,
   "metadata": {},
   "outputs": [
    {
     "name": "stdout",
     "output_type": "stream",
     "text": [
      "Đường đi Euler:\n",
      "A2 -> A1 -> A4 -> A3 -> A2\n",
      "Số đỉnh trong đường đi: 5\n",
      "Tổng số cạnh trong đồ thị: 36\n"
     ]
    }
   ],
   "source": [
    "# Tìm đường đi Euler\n",
    "start = 'A2'\n",
    "euler_path = find_euler_path(adjacency_list, start)\n",
    "\n",
    "print(\"Đường đi Euler:\")\n",
    "print(' -> '.join(euler_path))\n",
    "\n",
    "# In thống kê\n",
    "print(f\"Số đỉnh trong đường đi: {len(euler_path)}\")\n",
    "edges_count = sum(len(adjacency_list[v]) for v in adjacency_list) // 2\n",
    "print(f\"Tổng số cạnh trong đồ thị: {edges_count}\")"
   ]
  },
  {
   "cell_type": "code",
   "execution_count": 29,
   "metadata": {},
   "outputs": [
    {
     "name": "stdout",
     "output_type": "stream",
     "text": [
      "Thứ tự duyệt BFS :\n",
      "A2 --> A1 --> A3 --> A4\n",
      "\n",
      "Tổng số đỉnh đã duyệt: 4\n",
      "Đỉnh bắt đầu: A2\n"
     ]
    }
   ],
   "source": [
    "# Sử dụng hàm BFS\n",
    "start = 'A2'\n",
    "bfs_traversal = bfs(adjacency_list, start)\n",
    "\n",
    "# In kết quả\n",
    "print(f\"Thứ tự duyệt BFS :\")\n",
    "print(' --> '.join(bfs_traversal))\n",
    "\n",
    "# Thống kê\n",
    "print(f\"\\nTổng số đỉnh đã duyệt: {len(bfs_traversal)}\")\n",
    "print(f\"Đỉnh bắt đầu: {start}\")"
   ]
  }
 ],
 "metadata": {
  "colab": {
   "include_colab_link": true,
   "provenance": []
  },
  "kernelspec": {
   "display_name": "Python 3",
   "language": "python",
   "name": "python3"
  },
  "language_info": {
   "codemirror_mode": {
    "name": "ipython",
    "version": 3
   },
   "file_extension": ".py",
   "mimetype": "text/x-python",
   "name": "python",
   "nbconvert_exporter": "python",
   "pygments_lexer": "ipython3",
   "version": "3.12.2"
  }
 },
 "nbformat": 4,
 "nbformat_minor": 0
}

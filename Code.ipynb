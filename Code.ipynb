{
  "cells": [
    {
      "cell_type": "markdown",
      "metadata": {
        "id": "view-in-github",
        "colab_type": "text"
      },
      "source": [
        "<a href=\"https://colab.research.google.com/github/ThienNguyen3001/Graph-Theory-ArangoDB-Final/blob/main/Code.ipynb\" target=\"_parent\"><img src=\"https://colab.research.google.com/assets/colab-badge.svg\" alt=\"Open In Colab\"/></a>"
      ]
    },
    {
      "cell_type": "markdown",
      "metadata": {
        "id": "POij76PeFdjh"
      },
      "source": [
        "# 1. Chuẩn bị"
      ]
    },
    {
      "cell_type": "markdown",
      "metadata": {
        "id": "7lVullbUS8TB"
      },
      "source": [
        "* Gọi môi trường"
      ]
    },
    {
      "cell_type": "code",
      "execution_count": 24,
      "metadata": {
        "id": "tti5sHrmFSZz"
      },
      "outputs": [],
      "source": [
        "%%capture\n",
        "!git clone https://github.com/ThienNguyen3001/Graph-Theory-ArangoDB-Final.git\n",
        "!rsync -av Graph-Theory-ArangoDB-Final/ ./ --exclude=.git\n",
        "!pip3 install pyarango\n",
        "!pip3 install \"python-arango>=5.0\""
      ]
    },
    {
      "cell_type": "code",
      "execution_count": 25,
      "metadata": {
        "id": "W7c4YugFFajT"
      },
      "outputs": [],
      "source": [
        "import json\n",
        "import requests\n",
        "import sys\n",
        "import time\n",
        "\n",
        "import oasis\n",
        "from pyArango.connection import *\n",
        "from arango import ArangoClient"
      ]
    },
    {
      "cell_type": "markdown",
      "metadata": {
        "id": "X-VQbcIpGlp3"
      },
      "source": [
        "* **Tạo cơ sở dữ liệu tạm thời**\n"
      ]
    },
    {
      "cell_type": "code",
      "execution_count": 26,
      "metadata": {
        "colab": {
          "base_uri": "https://localhost:8080/"
        },
        "id": "ae-W9Y89Gaxl",
        "outputId": "41142461-97ad-4ccd-ac03-afca19719887"
      },
      "outputs": [
        {
          "output_type": "stream",
          "name": "stdout",
          "text": [
            "Yêu cầu thông tin xác thực tạm thời mới.\n",
            "Cơ sở dữ liệu tạm thời đã sẵn sàng để sử dụng.\n"
          ]
        }
      ],
      "source": [
        "# Retrieve tmp credentials from ArangoDB Tutorial Service\n",
        "login = oasis.getTempCredentials(tutorialName='test',\n",
        "                                 credentialProvider='https://tutorials.arangodb.cloud:8529/_db/_system/tutorialDB/tutorialDB')\n",
        "\n",
        "# Connect to the temp database\n",
        "conn = oasis.connect(login)\n",
        "db = conn[login['dbName']]"
      ]
    },
    {
      "cell_type": "markdown",
      "metadata": {
        "id": "fxXH_B4L62V4"
      },
      "source": [
        "* **Xem thông tin DB đã tạo**\n"
      ]
    },
    {
      "cell_type": "code",
      "execution_count": 27,
      "metadata": {
        "colab": {
          "base_uri": "https://localhost:8080/"
        },
        "id": "51Df5hM9GpW3",
        "outputId": "2dea1a41-cbd8-450d-8fdc-f72cf0b0a775"
      },
      "outputs": [
        {
          "output_type": "stream",
          "name": "stdout",
          "text": [
            "https://tutorials.arangodb.cloud:8529\n",
            "Username: TUTrrq17lqyx7ocjvtvotoc\n",
            "Password: TUTyl19trgcuxfvvnd2zcen\n",
            "Database: TUTdxfwbzyp1kmu5p248oo37i\n"
          ]
        }
      ],
      "source": [
        "print('https://{}:{}'.format(login['hostname'], login['port']))\n",
        "print('Username: ' + login['username'])\n",
        "print('Password: ' + login['password'])\n",
        "print('Database: ' + login['dbName'])\n"
      ]
    },
    {
      "cell_type": "code",
      "execution_count": 28,
      "metadata": {
        "colab": {
          "base_uri": "https://localhost:8080/"
        },
        "id": "KTG7z1VdLdnq",
        "outputId": "d980c717-bd5c-4bea-807b-c6102bbf1c97"
      },
      "outputs": [
        {
          "output_type": "stream",
          "name": "stdout",
          "text": [
            "<class 'dict'>\n",
            "{'dbName': 'TUTdxfwbzyp1kmu5p248oo37i', 'username': 'TUTrrq17lqyx7ocjvtvotoc', 'password': 'TUTyl19trgcuxfvvnd2zcen', 'hostname': 'tutorials.arangodb.cloud', 'port': 8529}\n"
          ]
        }
      ],
      "source": [
        "print(type(login), login, sep='\\n')"
      ]
    },
    {
      "cell_type": "markdown",
      "metadata": {
        "id": "IWKKWzl6-IGG"
      },
      "source": [
        "# 2. Tạo dữ liệu AQL"
      ]
    },
    {
      "cell_type": "markdown",
      "metadata": {
        "id": "DGNTaEik7Bc9"
      },
      "source": [
        "* **Tạo collection \"Collection\" trong DB**\n",
        "\n",
        "Các bộ sưu tập trong ArangoDB. Chúng chỉ được thao tác thông qua các ngôn ngữ Ngôn ngữ truy vấn Arango NoSQL (AQL). Các hướng dẫn bên dưới tạo ra một bộ sưu tập và có thể liên quan đến các hướng dẫn DDL của ngôn ngữ SQL. Trong ví dụ này, nhóm sẽ tạo các nhân vật trong loạt phim \"*Game of Thrones*\"."
      ]
    },
    {
      "cell_type": "code",
      "execution_count": 29,
      "metadata": {
        "id": "OyBZJOBK67ic"
      },
      "outputs": [],
      "source": [
        "collecName = 'Characters'\n",
        "if collecName not in db.collections:\n",
        "\tdb.createCollection(name=collecName)\n",
        "else:\n",
        "\tprint(f\"Collection '{collecName}' đã tồn tại\")"
      ]
    },
    {
      "cell_type": "markdown",
      "metadata": {
        "id": "aMC8ItNR78ti"
      },
      "source": [
        "* **Thêm data bằng Insert**"
      ]
    },
    {
      "cell_type": "code",
      "execution_count": 30,
      "metadata": {
        "colab": {
          "base_uri": "https://localhost:8080/"
        },
        "id": "NgXyYDEp73Cx",
        "outputId": "97dce634-8723-44a7-deae-5cbe77a13230"
      },
      "outputs": [
        {
          "output_type": "execute_result",
          "data": {
            "text/plain": [
              "<pyArango.query.AQLQuery at 0x7d04c8f6d420>"
            ]
          },
          "metadata": {},
          "execution_count": 30
        }
      ],
      "source": [
        "insert_query = \"\"\"\n",
        "INSERT {\n",
        "    \"name\": \"Ned\",\n",
        "    \"surname\": \"Stark\",\n",
        "    \"alive\": true,\n",
        "    \"age\": 41,\n",
        "    \"traits\": [\"A\",\"H\",\"C\",\"N\",\"P\"]\n",
        "} INTO Characters\n",
        "\"\"\"\n",
        "\n",
        "db.AQLQuery(insert_query)"
      ]
    },
    {
      "cell_type": "markdown",
      "metadata": {
        "id": "frf63oEO8GtC"
      },
      "source": [
        "* Lấy tất cả các nhân vật trong bản ghi"
      ]
    },
    {
      "cell_type": "code",
      "execution_count": 31,
      "metadata": {
        "colab": {
          "base_uri": "https://localhost:8080/"
        },
        "id": "LWP-4b0B8G0P",
        "outputId": "38c59011-9570-4d49-a25b-2c8ddaaaa162"
      },
      "outputs": [
        {
          "output_type": "stream",
          "name": "stdout",
          "text": [
            "{'_key': '266280424890', '_id': 'Characters/266280424890', '_rev': '_i5WJ0P6---', 'name': 'Ned', 'surname': 'Stark', 'alive': True, 'age': 41, 'traits': ['A', 'H', 'C', 'N', 'P']}\n",
            "\n"
          ]
        }
      ],
      "source": [
        "all_characters = \"\"\"\n",
        "FOR c IN Characters\n",
        "    RETURN c\n",
        "\"\"\"\n",
        "\n",
        "query_result = db.AQLQuery(all_characters, rawResults=True)\n",
        "\n",
        "for doc in  query_result:\n",
        "    print(doc)\n",
        "    print()"
      ]
    },
    {
      "cell_type": "markdown",
      "metadata": {
        "id": "3qkve90S8U6K"
      },
      "source": [
        "* **Chèn các bản ghi**"
      ]
    },
    {
      "cell_type": "code",
      "execution_count": 32,
      "metadata": {
        "colab": {
          "base_uri": "https://localhost:8080/"
        },
        "id": "0pTp6W-b8ZT5",
        "outputId": "403d10c4-973e-4a71-fcae-28ef545be8ab"
      },
      "outputs": [
        {
          "output_type": "execute_result",
          "data": {
            "text/plain": [
              "<pyArango.query.AQLQuery at 0x7d04c86e6260>"
            ]
          },
          "metadata": {},
          "execution_count": 32
        }
      ],
      "source": [
        "insert_query = \"\"\"\n",
        "LET data = [\n",
        "    { \"name\": \"Robert\", \"surname\": \"Baratheon\", \"alive\": false, \"traits\": [\"A\",\"H\",\"C\"] },\n",
        "    { \"name\": \"Jaime\", \"surname\": \"Lannister\", \"alive\": true, \"age\": 36, \"traits\": [\"A\",\"F\",\"B\"] },\n",
        "    { \"name\": \"Catelyn\", \"surname\": \"Stark\", \"alive\": false, \"age\": 40, \"traits\": [\"D\",\"H\",\"C\"] },\n",
        "    { \"name\": \"Cersei\", \"surname\": \"Lannister\", \"alive\": true, \"age\": 36, \"traits\": [\"H\",\"E\",\"F\"] },\n",
        "    { \"name\": \"Daenerys\", \"surname\": \"Targaryen\", \"alive\": true, \"age\": 16, \"traits\": [\"D\",\"H\",\"C\"] },\n",
        "    { \"name\": \"Jorah\", \"surname\": \"Mormont\", \"alive\": false, \"traits\": [\"A\",\"B\",\"C\",\"F\"] },\n",
        "    { \"name\": \"Petyr\", \"surname\": \"Baelish\", \"alive\": false, \"traits\": [\"E\",\"G\",\"F\"] },\n",
        "    { \"name\": \"Viserys\", \"surname\": \"Targaryen\", \"alive\": false, \"traits\": [\"O\",\"L\",\"N\"] },\n",
        "    { \"name\": \"Jon\", \"surname\": \"Snow\", \"alive\": true, \"age\": 16, \"traits\": [\"A\",\"B\",\"C\",\"F\"] },\n",
        "    { \"name\": \"Sansa\", \"surname\": \"Stark\", \"alive\": true, \"age\": 13, \"traits\": [\"D\",\"I\",\"J\"] },\n",
        "    { \"name\": \"Arya\", \"surname\": \"Stark\", \"alive\": true, \"age\": 11, \"traits\": [\"C\",\"K\",\"L\"] },\n",
        "    { \"name\": \"Robb\", \"surname\": \"Stark\", \"alive\": false, \"traits\": [\"A\",\"B\",\"C\",\"K\"] },\n",
        "    { \"name\": \"Theon\", \"surname\": \"Greyjoy\", \"alive\": true, \"age\": 16, \"traits\": [\"E\",\"R\",\"K\"] },\n",
        "    { \"name\": \"Bran\", \"surname\": \"Stark\", \"alive\": true, \"age\": 10, \"traits\": [\"L\",\"J\"] },\n",
        "    { \"name\": \"Joffrey\", \"surname\": \"Baratheon\", \"alive\": false, \"age\": 19, \"traits\": [\"I\",\"L\",\"O\"] },\n",
        "    { \"name\": \"Sandor\", \"surname\": \"Clegane\", \"alive\": true, \"traits\": [\"A\",\"P\",\"K\",\"F\"] },\n",
        "    { \"name\": \"Tyrion\", \"surname\": \"Lannister\", \"alive\": true, \"age\": 32, \"traits\": [\"F\",\"K\",\"M\",\"N\"] },\n",
        "    { \"name\": \"Khal\", \"surname\": \"Drogo\", \"alive\": false, \"traits\": [\"A\",\"C\",\"O\",\"P\"] },\n",
        "    { \"name\": \"Tywin\", \"surname\": \"Lannister\", \"alive\": false, \"traits\": [\"O\",\"M\",\"H\",\"F\"] },\n",
        "    { \"name\": \"Davos\", \"surname\": \"Seaworth\", \"alive\": true, \"age\": 49, \"traits\": [\"C\",\"K\",\"P\",\"F\"] },\n",
        "    { \"name\": \"Samwell\", \"surname\": \"Tarly\", \"alive\": true, \"age\": 17, \"traits\": [\"C\",\"L\",\"I\"] },\n",
        "    { \"name\": \"Stannis\", \"surname\": \"Baratheon\", \"alive\": false, \"traits\": [\"H\",\"O\",\"P\",\"M\"] },\n",
        "    { \"name\": \"Melisandre\", \"alive\": true, \"traits\": [\"G\",\"E\",\"H\"] },\n",
        "    { \"name\": \"Margaery\", \"surname\": \"Tyrell\", \"alive\": false, \"traits\": [\"M\",\"D\",\"B\"] },\n",
        "    { \"name\": \"Jeor\", \"surname\": \"Mormont\", \"alive\": false, \"traits\": [\"C\",\"H\",\"M\",\"P\"] },\n",
        "    { \"name\": \"Bronn\", \"alive\": true, \"traits\": [\"K\",\"E\",\"C\"] },\n",
        "    { \"name\": \"Varys\", \"alive\": true, \"traits\": [\"M\",\"F\",\"N\",\"E\"] },\n",
        "    { \"name\": \"Shae\", \"alive\": false, \"traits\": [\"M\",\"D\",\"G\"] },\n",
        "    { \"name\": \"Talisa\", \"surname\": \"Maegyr\", \"alive\": false, \"traits\": [\"D\",\"C\",\"B\"] },\n",
        "    { \"name\": \"Gendry\", \"alive\": false, \"traits\": [\"K\",\"C\",\"A\"] },\n",
        "    { \"name\": \"Ygritte\", \"alive\": false, \"traits\": [\"A\",\"P\",\"K\"] },\n",
        "    { \"name\": \"Tormund\", \"surname\": \"Giantsbane\", \"alive\": true, \"traits\": [\"C\",\"P\",\"A\",\"I\"] },\n",
        "    { \"name\": \"Gilly\", \"alive\": true, \"traits\": [\"L\",\"J\"] },\n",
        "    { \"name\": \"Brienne\", \"surname\": \"Tarth\", \"alive\": true, \"age\": 32, \"traits\": [\"P\",\"C\",\"A\",\"K\"] },\n",
        "    { \"name\": \"Ramsay\", \"surname\": \"Bolton\", \"alive\": true, \"traits\": [\"E\",\"O\",\"G\",\"A\"] },\n",
        "    { \"name\": \"Ellaria\", \"surname\": \"Sand\", \"alive\": true, \"traits\": [\"P\",\"O\",\"A\",\"E\"] },\n",
        "    { \"name\": \"Daario\", \"surname\": \"Naharis\", \"alive\": true, \"traits\": [\"K\",\"P\",\"A\"] },\n",
        "    { \"name\": \"Missandei\", \"alive\": true, \"traits\": [\"D\",\"L\",\"C\",\"M\"] },\n",
        "    { \"name\": \"Tommen\", \"surname\": \"Baratheon\", \"alive\": true, \"traits\": [\"I\",\"L\",\"B\"] },\n",
        "    { \"name\": \"Jaqen\", \"surname\": \"H'ghar\", \"alive\": true, \"traits\": [\"H\",\"F\",\"K\"] },\n",
        "    { \"name\": \"Roose\", \"surname\": \"Bolton\", \"alive\": true, \"traits\": [\"H\",\"E\",\"F\",\"A\"] },\n",
        "    { \"name\": \"The High Sparrow\", \"alive\": true, \"traits\": [\"H\",\"M\",\"F\",\"O\"] }\n",
        "]\n",
        "\n",
        "FOR d IN data\n",
        "    INSERT d INTO Characters\n",
        "\"\"\"\n",
        "\n",
        "db.AQLQuery(insert_query)"
      ]
    },
    {
      "cell_type": "markdown",
      "metadata": {
        "id": "wDDdBVIc9ZMw"
      },
      "source": [
        "* Truy vấn cơ bản"
      ]
    },
    {
      "cell_type": "code",
      "execution_count": 33,
      "metadata": {
        "colab": {
          "base_uri": "https://localhost:8080/"
        },
        "id": "-Tgzw5zd9SFZ",
        "outputId": "6fcf537e-94f9-4cfb-bb23-91ad65727efe"
      },
      "outputs": [
        {
          "output_type": "stream",
          "name": "stdout",
          "text": [
            "Ned\n",
            "Robert\n",
            "Jaime\n",
            "Catelyn\n",
            "Cersei\n",
            "Daenerys\n",
            "Jorah\n",
            "Petyr\n",
            "Viserys\n",
            "Jon\n"
          ]
        }
      ],
      "source": [
        "all_characters_names = \"\"\"\n",
        "FOR name IN Characters\n",
        "    RETURN name.name\n",
        "\"\"\"\n",
        "\n",
        "query_result = db.AQLQuery(all_characters_names, rawResults=True)\n",
        "\n",
        "# Lấy ra chỉ 10 tên\n",
        "for i in range(10):\n",
        "  print(query_result[i])"
      ]
    },
    {
      "cell_type": "code",
      "execution_count": 34,
      "metadata": {
        "colab": {
          "base_uri": "https://localhost:8080/"
        },
        "id": "Ue08pnHkbJuX",
        "outputId": "d76f8129-ff81-4341-c228-387331fd224d"
      },
      "outputs": [
        {
          "output_type": "execute_result",
          "data": {
            "text/plain": [
              "['Ned',\n",
              " 'Robert',\n",
              " 'Jaime',\n",
              " 'Catelyn',\n",
              " 'Cersei',\n",
              " 'Daenerys',\n",
              " 'Jorah',\n",
              " 'Petyr',\n",
              " 'Viserys',\n",
              " 'Jon',\n",
              " 'Sansa',\n",
              " 'Arya',\n",
              " 'Robb',\n",
              " 'Theon',\n",
              " 'Bran',\n",
              " 'Joffrey',\n",
              " 'Sandor',\n",
              " 'Tyrion',\n",
              " 'Khal',\n",
              " 'Tywin',\n",
              " 'Davos',\n",
              " 'Samwell',\n",
              " 'Stannis',\n",
              " 'Melisandre',\n",
              " 'Margaery',\n",
              " 'Jeor',\n",
              " 'Bronn',\n",
              " 'Varys',\n",
              " 'Shae',\n",
              " 'Talisa',\n",
              " 'Gendry',\n",
              " 'Ygritte',\n",
              " 'Tormund',\n",
              " 'Gilly',\n",
              " 'Brienne',\n",
              " 'Ramsay',\n",
              " 'Ellaria',\n",
              " 'Daario',\n",
              " 'Missandei',\n",
              " 'Tommen',\n",
              " 'Jaqen',\n",
              " 'Roose',\n",
              " 'The High Sparrow']"
            ]
          },
          "metadata": {},
          "execution_count": 34
        }
      ],
      "source": [
        "list(query_result)"
      ]
    },
    {
      "cell_type": "markdown",
      "metadata": {
        "id": "kaYENPPOor5V"
      },
      "source": [
        "* **Truy vấn có điều kiện**\n"
      ]
    },
    {
      "cell_type": "code",
      "execution_count": 35,
      "metadata": {
        "colab": {
          "base_uri": "https://localhost:8080/"
        },
        "id": "EuUer1pqorTA",
        "outputId": "25fafe98-fe37-45c4-a1a9-7f1503496713"
      },
      "outputs": [
        {
          "output_type": "stream",
          "name": "stdout",
          "text": [
            "Robert\n",
            "Catelyn\n",
            "Jorah\n",
            "Petyr\n",
            "Viserys\n",
            "Robb\n",
            "Joffrey\n",
            "Khal\n",
            "Tywin\n",
            "Stannis\n",
            "Margaery\n",
            "Jeor\n",
            "Shae\n",
            "Talisa\n",
            "Gendry\n",
            "Ygritte\n"
          ]
        }
      ],
      "source": [
        "find_ned_query = \"\"\"\n",
        "FOR c IN Characters\n",
        "    FILTER c.alive == false\n",
        "    RETURN c.name\n",
        "\"\"\"\n",
        "query_result = db.AQLQuery(find_ned_query, rawResults=True)\n",
        "for doc in  query_result:\n",
        "    print(doc, sep='\\n')"
      ]
    },
    {
      "cell_type": "code",
      "execution_count": 36,
      "metadata": {
        "colab": {
          "base_uri": "https://localhost:8080/"
        },
        "id": "IyeRAJnbp6FH",
        "outputId": "15e28a97-77ca-4a3d-9b55-2bdec30b0957"
      },
      "outputs": [
        {
          "output_type": "stream",
          "name": "stdout",
          "text": [
            "Ned\n",
            "Jaime\n",
            "Cersei\n",
            "Tyrion\n",
            "Davos\n",
            "Brienne\n"
          ]
        }
      ],
      "source": [
        "find_ned_query = \"\"\"\n",
        "FOR c IN Characters\n",
        "    FILTER c.alive == true AND c.age >= 18\n",
        "    RETURN c.name\n",
        "\"\"\"\n",
        "query_result = db.AQLQuery(find_ned_query, rawResults=True)\n",
        "\n",
        "for doc in  query_result:\n",
        "    print(doc, sep='\\n')"
      ]
    },
    {
      "cell_type": "code",
      "execution_count": 37,
      "metadata": {
        "colab": {
          "base_uri": "https://localhost:8080/"
        },
        "id": "rclhqtUmqLtv",
        "outputId": "a74561f8-6659-47d0-ec20-e1fadb1a9994"
      },
      "outputs": [
        {
          "output_type": "stream",
          "name": "stdout",
          "text": [
            "{'Name': 'Catelyn', 'Surname': 'Stark', 'Age': 40}\n",
            "{'Name': 'Joffrey', 'Surname': 'Baratheon', 'Age': 19}\n"
          ]
        }
      ],
      "source": [
        "find_ned_query = \"\"\"\n",
        "FOR c IN Characters\n",
        "    FILTER c.alive == false AND c.age >= 18\n",
        "    RETURN { Name: c.name, Surname: c.surname, Age: c.age }\n",
        "\"\"\"\n",
        "query_result = db.AQLQuery(find_ned_query, rawResults=True)\n",
        "\n",
        "for doc in  query_result:\n",
        "    print(doc, sep='\\n')"
      ]
    },
    {
      "cell_type": "code",
      "execution_count": 38,
      "metadata": {
        "colab": {
          "base_uri": "https://localhost:8080/"
        },
        "id": "BueJY1kdpLEe",
        "outputId": "5eb54bbc-ef0d-4cce-e7f6-caaaadfb4018"
      },
      "outputs": [
        {
          "output_type": "stream",
          "name": "stdout",
          "text": [
            "{'Name': 'Ramsay', 'Surname': 'Bolton'}\n",
            "{'Name': 'Roose', 'Surname': 'Bolton'}\n"
          ]
        }
      ],
      "source": [
        "find_ned_query = \"\"\"\n",
        "FOR c IN Characters\n",
        "    FILTER c.surname == \"Bolton\"\n",
        "    RETURN {Name: c.name, Surname: c.surname}\n",
        "\"\"\"\n",
        "query_result = db.AQLQuery(find_ned_query, rawResults=True)\n",
        "for doc in  query_result:\n",
        "    print(doc, sep='\\n')"
      ]
    },
    {
      "cell_type": "code",
      "execution_count": 39,
      "metadata": {
        "colab": {
          "base_uri": "https://localhost:8080/"
        },
        "id": "ip5c4XMCq9UI",
        "outputId": "656e9dff-0102-49bd-ecc4-599db62db41d"
      },
      "outputs": [
        {
          "output_type": "stream",
          "name": "stdout",
          "text": [
            "Ned\n",
            "Robert\n",
            "Jaime\n",
            "Catelyn\n",
            "Cersei\n",
            "Daenerys\n",
            "Jorah\n",
            "Petyr\n",
            "Viserys\n",
            "Jon\n"
          ]
        }
      ],
      "source": [
        "\n",
        "sample_chars_query = \"\"\"\n",
        "FOR c IN Characters\n",
        "    LIMIT 10\n",
        "    RETURN c.name\n",
        "\"\"\"\n",
        "\n",
        "query_result = db.AQLQuery(sample_chars_query, rawResults=True)\n",
        "\n",
        "for doc in  query_result:\n",
        "    print(doc, sep='\\n')"
      ]
    },
    {
      "cell_type": "code",
      "execution_count": 40,
      "metadata": {
        "colab": {
          "base_uri": "https://localhost:8080/"
        },
        "id": "oGpice0GrHdI",
        "outputId": "c1dad727-a3eb-48a9-b199-0c5a0be4d273"
      },
      "outputs": [
        {
          "output_type": "stream",
          "name": "stdout",
          "text": [
            "{'Name': 'Arya', 'Surname': 'Stark', 'Age': 11}\n",
            "{'Name': 'Bran', 'Surname': 'Stark', 'Age': 10}\n",
            "{'Name': 'Brienne', 'Surname': 'Tarth', 'Age': 32}\n",
            "{'Name': 'Bronn', 'Surname': None, 'Age': None}\n",
            "{'Name': 'Catelyn', 'Surname': 'Stark', 'Age': 40}\n",
            "{'Name': 'Cersei', 'Surname': 'Lannister', 'Age': 36}\n",
            "{'Name': 'Daario', 'Surname': 'Naharis', 'Age': None}\n",
            "{'Name': 'Daenerys', 'Surname': 'Targaryen', 'Age': 16}\n",
            "{'Name': 'Davos', 'Surname': 'Seaworth', 'Age': 49}\n",
            "{'Name': 'Ellaria', 'Surname': 'Sand', 'Age': None}\n"
          ]
        }
      ],
      "source": [
        "\n",
        "sample_chars_query = \"\"\"\n",
        "FOR c IN Characters\n",
        "    SORT c.name\n",
        "    LIMIT 10\n",
        "    RETURN { Name: c.name, Surname: c.surname, Age: c.age }\n",
        "\"\"\"\n",
        "\n",
        "query_result = db.AQLQuery(sample_chars_query, rawResults=True)\n",
        "\n",
        "for doc in  query_result:\n",
        "    print(doc, sep='\\n')"
      ]
    },
    {
      "cell_type": "markdown",
      "metadata": {
        "id": "krTk0NU014Yx"
      },
      "source": [
        "# 3. Tạo đồ thị"
      ]
    },
    {
      "cell_type": "markdown",
      "metadata": {
        "id": "SrvdSo0yG4zH"
      },
      "source": [
        "## Lấy data từ \"shortest path data\""
      ]
    },
    {
      "cell_type": "code",
      "execution_count": 41,
      "metadata": {
        "colab": {
          "base_uri": "https://localhost:8080/"
        },
        "id": "jMTqhbHj3JLw",
        "outputId": "32f76562-fbdf-4049-ade4-bc60f74525cd"
      },
      "outputs": [
        {
          "output_type": "stream",
          "name": "stdout",
          "text": [
            "Tạo đồ thị thành công\n"
          ]
        }
      ],
      "source": [
        "from pyArango.collection import Collection, Field, Edges\n",
        "from pyArango.graph import Graph, EdgeDefinition\n",
        "\n",
        "# Định nghĩa Collections\n",
        "class Places(Collection):\n",
        "    _fields = {\n",
        "        \"label\": Field()\n",
        "    }\n",
        "\n",
        "class Connect(Edges):\n",
        "    _fields = {\n",
        "        \"travelTime\": Field()\n",
        "    }\n",
        "\n",
        "# Định nghĩa Graph\n",
        "class TravelGraph(Graph):\n",
        "    _edgeDefinitions = [\n",
        "        EdgeDefinition(\"Connect\", fromCollections=[\"Places\"], toCollections=[\"Places\"]),\n",
        "        ]\n",
        "    _orphanedCollections = []\n",
        "\n",
        "\n",
        "if \"Places\" not in db.collections:\n",
        "    db.createCollection(className=\"Places\")\n",
        "\n",
        "if \"Connect\" not in db.collections:\n",
        "    db.createCollection(className=\"Connect\")\n",
        "\n",
        "# Tạo graph\n",
        "if \"TravelGraph\" not in db.graphs:\n",
        "    travel_graph = db.createGraph(\"TravelGraph\")\n",
        "else:\n",
        "    travel_graph = db.graphs[\"TravelGraph\"]\n",
        "\n",
        "\n",
        "import json\n",
        "\n",
        "# Đọc dữ liệu từ tệp JSON\n",
        "with open(\"./shortest_path_data/places.json\", \"r\") as f:\n",
        "    places_data = json.load(f)\n",
        "    db[\"Places\"].importBulk(places_data)\n",
        "\n",
        "\n",
        "with open(\"./shortest_path_data/connect.json\", \"r\") as f:\n",
        "    connections_data = json.load(f)\n",
        "    db[\"Connect\"].importBulk(connections_data)\n",
        "\n",
        "print(\"Tạo đồ thị thành công\")"
      ]
    },
    {
      "cell_type": "code",
      "execution_count": 42,
      "metadata": {
        "colab": {
          "base_uri": "https://localhost:8080/"
        },
        "id": "geOgI_XoD-LM",
        "outputId": "28466c01-1552-4ecd-af75-92e5b08feaa2"
      },
      "outputs": [
        {
          "output_type": "stream",
          "name": "stdout",
          "text": [
            "Inverness: [('Aberdeen', 2.5), ('Edmonton', 4), ('StAndrews', 4.5)]\n",
            "Aberdeen: [('Inverness', 2.5), ('Leuchars', 1.5)]\n",
            "Leuchars: [('Aberdeen', 1.5), ('Edinburgh', 3), ('StAndrews', 0.2), ('Carlisle', 1.5)]\n",
            "StAndrews: [('Leuchars', 0.2), ('Inverness', 4.5)]\n",
            "Edinburgh: [('Leuchars', 3), ('Glasgow', 1), ('York', 4)]\n",
            "Glasgow: [('Edinburgh', 1), ('Carlisle', 1)]\n",
            "York: [('Edinburgh', 4), ('Carlisle', 2.5), ('London', 1.8)]\n",
            "Carlisle: [('Glasgow', 1), ('York', 2.5), ('Birmingham', 1), ('Leuchars', 1.5), ('Cologne', 1.25)]\n",
            "Birmingham: [('Carlisle', 1), ('London', 2.5), ('Toronto', 8.25)]\n",
            "London: [('Birmingham', 2.5), ('York', 1.8), ('Brussels', 2.5)]\n",
            "Brussels: [('London', 2.5), ('Cologne', 1.5)]\n",
            "Cologne: [('Brussels', 1.5), ('Carlisle', 1.25)]\n",
            "Toronto: [('Winnipeg', 36), ('Birmingham', 8.25)]\n",
            "Winnipeg: [('Toronto', 36), ('Saskatoon', 12), ('Vancouver', 4.75)]\n",
            "Saskatoon: [('Winnipeg', 12), ('Edmonton', 12), ('Jasper', 6)]\n",
            "Edmonton: [('Saskatoon', 12), ('Jasper', 6), ('Inverness', 4)]\n",
            "Jasper: [('Edmonton', 6), ('Vancouver', 13), ('Saskatoon', 6)]\n",
            "Vancouver: [('Jasper', 13), ('Winnipeg', 4.75)]\n"
          ]
        }
      ],
      "source": [
        "def get_graph_data(directed = False):\n",
        "    places_query = \"FOR v IN Places RETURN {key: v._key, label: v.label}\"\n",
        "    connections_query = \"FOR e IN Connect RETURN {from: e._from, to: e._to, travelTime: e.travelTime}\"\n",
        "\n",
        "    places = {doc[\"key\"]: doc[\"label\"] for doc in db.AQLQuery(places_query, rawResults=True)}\n",
        "    connections = db.AQLQuery(connections_query, rawResults=True)\n",
        "\n",
        "    # Xây dựng danh sách kề với trọng số\n",
        "    adjacency_list = {key: [] for key in places.keys()}\n",
        "    for connection in connections:\n",
        "        from_key = connection[\"from\"].split(\"/\")[-1]\n",
        "        to_key = connection[\"to\"].split(\"/\")[-1]\n",
        "        travel_time = connection[\"travelTime\"]\n",
        "        adjacency_list[from_key].append((to_key, travel_time))\n",
        "        if not directed:\n",
        "            adjacency_list[to_key].append((from_key, travel_time))\n",
        "    return adjacency_list, places\n",
        "\n",
        "adjacency_list, places = get_graph_data()\n",
        "for key, value in adjacency_list.items():\n",
        "    print(f\"{key}: {value}\")"
      ]
    },
    {
      "cell_type": "markdown",
      "metadata": {
        "id": "ofeagclwhHXK"
      },
      "source": [
        "## Đường đi ngắn nhất"
      ]
    },
    {
      "cell_type": "code",
      "execution_count": 43,
      "metadata": {
        "colab": {
          "base_uri": "https://localhost:8080/"
        },
        "id": "6V7W5WTNPAyF",
        "outputId": "d2564152-497a-4878-f0ff-ffb3a35faa1c"
      },
      "outputs": [
        {
          "output_type": "stream",
          "name": "stdout",
          "text": [
            "{'places': ['Aberdeen', 'Leuchars', 'Carlisle', 'York', 'London'], 'travelTimeTotal': 7.3}\n"
          ]
        }
      ],
      "source": [
        "query = \"\"\"\n",
        "FOR p IN OUTBOUND K_SHORTEST_PATHS 'Places/Aberdeen' TO 'Places/London'\n",
        "GRAPH 'TravelGraph'\n",
        "    LIMIT 1\n",
        "    RETURN {\n",
        "        places: p.vertices[*].label,\n",
        "        travelTimeTotal: SUM(p.edges[*].travelTime)\n",
        "    }\n",
        "\"\"\"\n",
        "\n",
        "query_result = db.AQLQuery(query, rawResults=True)\n",
        "\n",
        "for doc in query_result:\n",
        "    print(doc, sep='\\n')"
      ]
    },
    {
      "cell_type": "markdown",
      "metadata": {
        "id": "-uQWY2-m7TPb"
      },
      "source": [
        "## Thuật toán Prim"
      ]
    },
    {
      "cell_type": "code",
      "execution_count": 44,
      "metadata": {
        "id": "nHV63OL77TPc",
        "outputId": "975654fa-54bd-44c0-b293-145f205f6ab8",
        "colab": {
          "base_uri": "https://localhost:8080/"
        }
      },
      "outputs": [
        {
          "output_type": "stream",
          "name": "stdout",
          "text": [
            "Cây khung nhỏ nhất: [('Inverness', 'Aberdeen', 2.5), ('Aberdeen', 'Leuchars', 1.5), ('Leuchars', 'StAndrews', 0.2), ('Leuchars', 'Carlisle', 1.5), ('Carlisle', 'Birmingham', 1), ('Carlisle', 'Glasgow', 1), ('Glasgow', 'Edinburgh', 1), ('Carlisle', 'Cologne', 1.25), ('Cologne', 'Brussels', 1.5), ('Birmingham', 'London', 2.5), ('London', 'York', 1.8), ('Inverness', 'Edmonton', 4), ('Edmonton', 'Jasper', 6), ('Jasper', 'Saskatoon', 6), ('Birmingham', 'Toronto', 8.25), ('Saskatoon', 'Winnipeg', 12), ('Winnipeg', 'Vancouver', 4.75)]\n",
            "Tổng trọng số: 56.75\n"
          ]
        }
      ],
      "source": [
        "from GraphAlgo import *\n",
        "\n",
        "start_vertex = 'Inverness'\n",
        "mst_edges, total_weight = prim(adjacency_list, start_vertex)\n",
        "\n",
        "# Hiển thị kết quả\n",
        "print(\"Cây khung nhỏ nhất:\", mst_edges)\n",
        "print(\"Tổng trọng số:\", total_weight)"
      ]
    },
    {
      "cell_type": "markdown",
      "metadata": {
        "id": "LPTw1Swx7TPd"
      },
      "source": [
        "## Kruskal"
      ]
    },
    {
      "cell_type": "code",
      "execution_count": 45,
      "metadata": {
        "id": "9H9s7v4O7TPe",
        "outputId": "fc580abe-05d8-4780-c4ea-a23abd333abe",
        "colab": {
          "base_uri": "https://localhost:8080/"
        }
      },
      "outputs": [
        {
          "output_type": "stream",
          "name": "stdout",
          "text": [
            "Cây khung nhỏ nhất: [('Leuchars', 'StAndrews', 0.2), ('Edinburgh', 'Glasgow', 1), ('Glasgow', 'Carlisle', 1), ('Carlisle', 'Birmingham', 1), ('Carlisle', 'Cologne', 1.25), ('Aberdeen', 'Leuchars', 1.5), ('Leuchars', 'Carlisle', 1.5), ('Brussels', 'Cologne', 1.5), ('York', 'London', 1.8), ('Inverness', 'Aberdeen', 2.5), ('York', 'Carlisle', 2.5), ('Inverness', 'Edmonton', 4), ('Winnipeg', 'Vancouver', 4.75), ('Saskatoon', 'Jasper', 6), ('Edmonton', 'Jasper', 6), ('Birmingham', 'Toronto', 8.25), ('Winnipeg', 'Saskatoon', 12)]\n",
            "Tổng trọng số: 56.75\n"
          ]
        }
      ],
      "source": [
        "mst_edges, total_weight = kruskal(adjacency_list)\n",
        "\n",
        "# Hiển thị kết quả\n",
        "print(\"Cây khung nhỏ nhất:\", mst_edges)\n",
        "print(\"Tổng trọng số:\", total_weight)"
      ]
    },
    {
      "cell_type": "code",
      "source": [
        "import heapq\n",
        "\n",
        "def dijkstra(shortest_path, start, end):\n",
        "    # Priority queue để lưu các điểm cần duyệt\n",
        "    priority_queue = []\n",
        "    heapq.heappush(priority_queue, (0, start))  # (distance, node)\n",
        "\n",
        "    # Khoảng cách ngắn nhất từ start đến từng đỉnh\n",
        "    distances = {key: float('inf') for key in shortest_path}\n",
        "    distances[start] = 0\n",
        "\n",
        "    # Để theo dõi đường đi\n",
        "    previous_nodes = {key: None for key in shortest_path}\n",
        "\n",
        "    while priority_queue:\n",
        "        current_distance, current_node = heapq.heappop(priority_queue)\n",
        "\n",
        "        # Nếu tìm thấy end, thoát vòng lặp\n",
        "        if current_node == end:\n",
        "            break\n",
        "\n",
        "        # Nếu khoảng cách hiện tại lớn hơn khoảng cách đã lưu, bỏ qua\n",
        "        if current_distance > distances[current_node]:\n",
        "            continue\n",
        "\n",
        "        # Duyệt tất cả các nút kề\n",
        "        for neighbor, weight in shortest_path[current_node]: # Unpack the neighbor and weight\n",
        "            distance = current_distance + weight  # Use the weight of the edge\n",
        "            if distance < distances[neighbor]:\n",
        "                distances[neighbor] = distance\n",
        "                previous_nodes[neighbor] = current_node\n",
        "                heapq.heappush(priority_queue, (distance, neighbor))\n",
        "\n",
        "    # Truy vết đường đi\n",
        "    path = []\n",
        "    current = end\n",
        "    while current is not None:\n",
        "        path.append(current)\n",
        "        current = previous_nodes[current]\n",
        "\n",
        "    path.reverse()  # Đảo ngược đường đi\n",
        "\n",
        "    # Trả về kết quả\n",
        "    return path, distances[end] if distances[end] != float('inf') else None"
      ],
      "metadata": {
        "id": "vF4V5-PACiph"
      },
      "execution_count": 50,
      "outputs": []
    },
    {
      "cell_type": "code",
      "source": [
        "# Đầu vào\n",
        "start = 'Aberdeen'\n",
        "end = 'StAndrews'\n",
        "\n",
        "# Gọi thuật toán Dijkstra\n",
        "shortest_path, total_cost = dijkstra(adjacency_list, start, end)\n",
        "\n",
        "# Kết quả\n",
        "if shortest_path:\n",
        "    print(\"Đường đi ngắn nhất:\")\n",
        "    print(\" -> \".join(shortest_path))\n",
        "    print(f\"Tổng chi phí: {total_cost}\")\n",
        "else:\n",
        "    print(\"Không tìm được đường đi từ\", start, \"đến\", end)"
      ],
      "metadata": {
        "id": "8Jxsb4jcCtpb",
        "outputId": "feb384d4-33a0-46be-96ba-27695cba9ec6",
        "colab": {
          "base_uri": "https://localhost:8080/"
        }
      },
      "execution_count": 52,
      "outputs": [
        {
          "output_type": "stream",
          "name": "stdout",
          "text": [
            "Đường đi ngắn nhất:\n",
            "Aberdeen -> Leuchars -> StAndrews\n",
            "Tổng chi phí: 1.7\n"
          ]
        }
      ]
    },
    {
      "cell_type": "markdown",
      "metadata": {
        "id": "976LiMYr7TPf"
      },
      "source": [
        "## Tô màu"
      ]
    },
    {
      "cell_type": "code",
      "execution_count": 23,
      "metadata": {
        "id": "P6D96Pcs7TPq"
      },
      "outputs": [],
      "source": []
    },
    {
      "cell_type": "markdown",
      "metadata": {
        "id": "uPb2QcXg7TPq"
      },
      "source": [
        "## Lấy data từ \"components data\""
      ]
    },
    {
      "cell_type": "code",
      "execution_count": 24,
      "metadata": {
        "id": "bRoLOSUn7TPr",
        "outputId": "95ee0fc1-37ef-4214-d8a6-e7f958feb9b5",
        "colab": {
          "base_uri": "https://localhost:8080/"
        }
      },
      "outputs": [
        {
          "output_type": "stream",
          "name": "stdout",
          "text": [
            "Tạo đồ thị thành công\n"
          ]
        }
      ],
      "source": [
        "from pyArango.collection import Collection, Field, Edges\n",
        "from pyArango.graph import Graph, EdgeDefinition\n",
        "\n",
        "# Định nghĩa Collections\n",
        "class Components(Collection):\n",
        "    _fields = {\n",
        "        \"_key\": Field()\n",
        "    }\n",
        "\n",
        "class Connections(Edges):\n",
        "    pass\n",
        "\n",
        "# Định nghĩa Graph\n",
        "class ComponentsGraph(Graph):\n",
        "    _edgeDefinitions = [\n",
        "        EdgeDefinition(\"Connections\", fromCollections=[\"Components\"], toCollections=[\"Components\"]),\n",
        "        ]\n",
        "    _orphanedCollections = []\n",
        "\n",
        "\n",
        "if \"Components\" not in db.collections:\n",
        "    db.createCollection(className=\"Components\")\n",
        "\n",
        "if \"Connections\" not in db.collections:\n",
        "    db.createCollection(className=\"Connections\")\n",
        "\n",
        "# Tạo graph\n",
        "if \"ComponentsGraph\" not in db.graphs:\n",
        "    travel_graph = db.createGraph(\"ComponentsGraph\")\n",
        "else:\n",
        "    travel_graph = db.graphs[\"ComponentsGraph\"]\n",
        "\n",
        "\n",
        "import json\n",
        "\n",
        "# Đọc dữ liệu từ tệp JSON\n",
        "with open(\"./components_data/components.json\", \"r\") as f:\n",
        "    places_data = json.load(f)\n",
        "    db[\"Components\"].importBulk(places_data)\n",
        "\n",
        "\n",
        "with open(\"./components_data/connections.json\", \"r\") as f:\n",
        "    connections_data = json.load(f)\n",
        "    db[\"Connections\"].importBulk(connections_data)\n",
        "\n",
        "print(\"Tạo đồ thị thành công\")"
      ]
    },
    {
      "cell_type": "code",
      "execution_count": 25,
      "metadata": {
        "id": "Y8grq7ql7TPr",
        "outputId": "38eb29e0-c508-4c3c-d59f-64ef96221957",
        "colab": {
          "base_uri": "https://localhost:8080/"
        }
      },
      "outputs": [
        {
          "output_type": "stream",
          "name": "stdout",
          "text": [
            "A4: ['A3', 'A1']\n",
            "C2: ['C1', 'C3']\n",
            "C8: ['C7', 'C9', 'C10']\n",
            "B21: ['B20']\n",
            "C6: ['C5']\n",
            "B8: ['B7']\n",
            "B15: ['B14', 'B16', 'B17']\n",
            "A1: ['A2', 'A4']\n",
            "C9: ['C8']\n",
            "C4: ['C3', 'C5', 'C7']\n",
            "B6: ['B3', 'B7']\n",
            "B11: ['B10', 'B12']\n",
            "B22: ['B20']\n",
            "B14: ['B13', 'B15']\n",
            "A2: ['A1', 'A3']\n",
            "B2: ['B4']\n",
            "B19: ['B7', 'B17']\n",
            "B16: ['B15']\n",
            "B1: ['B3']\n",
            "C5: ['C4', 'C6', 'C7']\n",
            "B9: ['B7']\n",
            "B13: ['B12', 'B20', 'B14']\n",
            "C3: ['C2', 'C4']\n",
            "B10: ['B7', 'B11']\n",
            "C7: ['C4', 'C5', 'C8']\n",
            "B18: ['B17']\n",
            "C1: ['C2']\n",
            "B17: ['B15', 'B18', 'B19']\n",
            "B5: ['B4']\n",
            "B20: ['B13', 'B21', 'B22']\n",
            "B4: ['B2', 'B3', 'B5']\n",
            "A3: ['A2', 'A4']\n",
            "B12: ['B11', 'B13']\n",
            "B3: ['B1', 'B6', 'B4']\n",
            "B7: ['B6', 'B8', 'B9', 'B10', 'B19']\n",
            "C10: ['C8']\n"
          ]
        }
      ],
      "source": [
        "def get_graph_data(directed=False):\n",
        "    places_query = \"FOR v IN Components RETURN v._key\"\n",
        "    connections_query = \"FOR e IN Connections RETURN {from: e._from, to: e._to}\"\n",
        "\n",
        "    places = {doc for doc in db.AQLQuery(places_query, rawResults=True)}\n",
        "    connections = db.AQLQuery(connections_query, rawResults=True)\n",
        "\n",
        "    # Xây dựng danh sách kề\n",
        "    adjacency_list = {key: [] for key in places}\n",
        "    for connection in connections:\n",
        "        from_key = connection[\"from\"].split(\"/\")[-1]\n",
        "        to_key = connection[\"to\"].split(\"/\")[-1]\n",
        "        adjacency_list[from_key].append(to_key)\n",
        "        if not directed:\n",
        "            adjacency_list[to_key].append(from_key)\n",
        "    return adjacency_list, places\n",
        "\n",
        "adjacency_list, places = get_graph_data()\n",
        "for key, value in adjacency_list.items():\n",
        "    print(f\"{key}: {value}\")"
      ]
    },
    {
      "cell_type": "code",
      "execution_count": 26,
      "metadata": {
        "id": "ih6gF5HN7TPr",
        "outputId": "0a290028-8817-42f7-cec7-1dedde023985",
        "colab": {
          "base_uri": "https://localhost:8080/"
        }
      },
      "outputs": [
        {
          "output_type": "stream",
          "name": "stdout",
          "text": [
            "Chuỗi thứ tự duyệt đồ thị từ đỉnh [A2]:\n",
            "A2 --> A1 --> A4 --> A3\n"
          ]
        }
      ],
      "source": [
        "start = 'A2'\n",
        "\n",
        "free_ser        = pd.Series(1, index = adjacency_list.keys())\n",
        "free_ser[start] = 0\n",
        "\n",
        "seq = []\n",
        "dfs(adjacency_list, free_ser, start, seq)\n",
        "seq = ' --> '.join(seq)\n",
        "print(f'Chuỗi thứ tự duyệt đồ thị từ đỉnh [{start}]:\\n{seq}')"
      ]
    },
    {
      "cell_type": "code",
      "execution_count": 27,
      "metadata": {
        "id": "AzD6KtUu7TPs",
        "outputId": "7d2c900f-c4e6-4378-fe24-0371b3a56514",
        "colab": {
          "base_uri": "https://localhost:8080/"
        }
      },
      "outputs": [
        {
          "output_type": "stream",
          "name": "stdout",
          "text": [
            "Thành phần liên thông #1 = ['A4', 'A3', 'A2', 'A1']\n",
            "Thành phần liên thông #2 = ['C2', 'C1', 'C3', 'C4', 'C5', 'C6', 'C7', 'C8', 'C9', 'C10']\n",
            "Thành phần liên thông #3 = ['B21', 'B20', 'B13', 'B12', 'B11', 'B10', 'B7', 'B6', 'B3', 'B1', 'B4', 'B2', 'B5', 'B8', 'B9', 'B19', 'B17', 'B15', 'B14', 'B16', 'B18', 'B22']\n"
          ]
        }
      ],
      "source": [
        "components = dfs_all_components(adjacency_list)\n",
        "for c in components:\n",
        "    print(f'Thành phần liên thông #{components.index(c) + 1} = {c}')"
      ]
    },
    {
      "cell_type": "code",
      "execution_count": 28,
      "metadata": {
        "id": "2bkPbARd7TPs",
        "outputId": "b5ad1d3d-79df-465d-f615-a3ec2a04eecf",
        "colab": {
          "base_uri": "https://localhost:8080/"
        }
      },
      "outputs": [
        {
          "output_type": "stream",
          "name": "stdout",
          "text": [
            "Backtracking path: ['A1']\n",
            "Backtracking path: ['A1', 'A2']\n",
            "Backtracking path: ['A1', 'A2', 'A3']\n",
            "Backtracking path: ['A1', 'A2', 'A3', 'A4']\n",
            "Backtracking path: ['A1', 'A4']\n",
            "Backtracking path: ['A1', 'A4', 'A3']\n",
            "Backtracking path: ['A1', 'A4', 'A3', 'A2']\n"
          ]
        }
      ],
      "source": [
        "def find_hamilton_cycle(adjacency_list, start):\n",
        "    def backtrack(path):\n",
        "        print(f\"Backtracking path: {path}\")\n",
        "        if len(path) == len(adjacency_list) and start in adjacency_list[path[-1]]:\n",
        "            print(f\"Found Hamiltonian cycle: {path + [start]}\")\n",
        "            return path + [start]  # Thêm đỉnh quay về\n",
        "        for next_vertex in adjacency_list[path[-1]]:\n",
        "            if next_vertex not in path:\n",
        "                result = backtrack(path + [next_vertex])\n",
        "                if result:\n",
        "                    return result\n",
        "        return None\n",
        "\n",
        "    return backtrack([start])\n",
        "# khởi điểm\n",
        "start = 'A1'\n",
        "\n",
        "# Tìm chu trình Hamilton\n",
        "hamilton_cycle = find_hamilton_cycle(adjacency_list, start)\n",
        "\n"
      ]
    },
    {
      "cell_type": "code",
      "execution_count": 29,
      "metadata": {
        "id": "tyK2qyLG7TPs",
        "outputId": "cd066175-cad0-49f7-d781-761fdf01984e",
        "colab": {
          "base_uri": "https://localhost:8080/"
        }
      },
      "outputs": [
        {
          "output_type": "stream",
          "name": "stdout",
          "text": [
            "Đường đi Euler:\n",
            "A2 -> A1 -> A4 -> A3 -> A2\n",
            "Số đỉnh trong đường đi: 5\n",
            "Tổng số cạnh trong đồ thị: 36\n"
          ]
        }
      ],
      "source": [
        "# Tìm đường đi Euler\n",
        "start = 'A2'\n",
        "euler_path = find_euler_path(adjacency_list, start)\n",
        "\n",
        "print(\"Đường đi Euler:\")\n",
        "print(' -> '.join(euler_path))\n",
        "\n",
        "# In thống kê\n",
        "print(f\"Số đỉnh trong đường đi: {len(euler_path)}\")\n",
        "edges_count = sum(len(adjacency_list[v]) for v in adjacency_list) // 2\n",
        "print(f\"Tổng số cạnh trong đồ thị: {edges_count}\")"
      ]
    },
    {
      "cell_type": "code",
      "execution_count": 30,
      "metadata": {
        "id": "oRo2CPRe7TPs",
        "outputId": "76e96818-ec54-4667-98e8-3dae97e36716",
        "colab": {
          "base_uri": "https://localhost:8080/"
        }
      },
      "outputs": [
        {
          "output_type": "stream",
          "name": "stdout",
          "text": [
            "Thứ tự duyệt BFS :\n",
            "A2 --> A1 --> A3 --> A4\n",
            "\n",
            "Tổng số đỉnh đã duyệt: 4\n",
            "Đỉnh bắt đầu: A2\n"
          ]
        }
      ],
      "source": [
        "# Sử dụng hàm BFS\n",
        "start = 'A2'\n",
        "bfs_traversal = bfs(adjacency_list, start)\n",
        "\n",
        "# In kết quả\n",
        "print(f\"Thứ tự duyệt BFS :\")\n",
        "print(' --> '.join(bfs_traversal))\n",
        "\n",
        "# Thống kê\n",
        "print(f\"\\nTổng số đỉnh đã duyệt: {len(bfs_traversal)}\")\n",
        "print(f\"Đỉnh bắt đầu: {start}\")"
      ]
    }
  ],
  "metadata": {
    "colab": {
      "provenance": [],
      "include_colab_link": true
    },
    "kernelspec": {
      "display_name": "Python 3",
      "language": "python",
      "name": "python3"
    },
    "language_info": {
      "codemirror_mode": {
        "name": "ipython",
        "version": 3
      },
      "file_extension": ".py",
      "mimetype": "text/x-python",
      "name": "python",
      "nbconvert_exporter": "python",
      "pygments_lexer": "ipython3",
      "version": "3.12.6"
    }
  },
  "nbformat": 4,
  "nbformat_minor": 0
}
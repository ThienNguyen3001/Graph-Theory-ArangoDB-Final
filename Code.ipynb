{
  "nbformat": 4,
  "nbformat_minor": 0,
  "metadata": {
    "colab": {
      "provenance": [],
      "include_colab_link": true
    },
    "kernelspec": {
      "name": "python3",
      "display_name": "Python 3"
    },
    "language_info": {
      "name": "python"
    }
  },
  "cells": [
    {
      "cell_type": "markdown",
      "metadata": {
        "id": "view-in-github",
        "colab_type": "text"
      },
      "source": [
        "<a href=\"https://colab.research.google.com/github/ThienNguyen3001/Graph-Theory-ArangoDB-Final/blob/main/Code.ipynb\" target=\"_parent\"><img src=\"https://colab.research.google.com/assets/colab-badge.svg\" alt=\"Open In Colab\"/></a>"
      ]
    },
    {
      "cell_type": "markdown",
      "metadata": {
        "id": "POij76PeFdjh"
      },
      "source": [
        "#1. Chuẩn bị"
      ]
    },
    {
      "cell_type": "markdown",
      "source": [
        "* Gọi môi trường"
      ],
      "metadata": {
        "id": "7lVullbUS8TB"
      }
    },
    {
      "cell_type": "code",
      "metadata": {
        "id": "tti5sHrmFSZz"
      },
      "source": [
        "%%capture\n",
        "!git clone https://github.com/ThienNguyen3001/Graph-Theory-ArangoDB-Final.git\n",
        "!rsync -av Graph-Theory-ArangoDB-Final/ ./ --exclude=.git\n",
        "!pip3 install pyarango\n",
        "!pip3 install \"python-arango>=5.0\""
      ],
      "execution_count": 1,
      "outputs": []
    },
    {
      "cell_type": "code",
      "metadata": {
        "id": "W7c4YugFFajT"
      },
      "source": [
        "import json\n",
        "import requests\n",
        "import sys\n",
        "import time\n",
        "\n",
        "import oasis\n",
        "from pyArango.connection import *\n",
        "from arango import ArangoClient"
      ],
      "execution_count": 2,
      "outputs": []
    },
    {
      "cell_type": "markdown",
      "metadata": {
        "id": "X-VQbcIpGlp3"
      },
      "source": [
        "* **Tạo cơ sở dữ liệu tạm thời**\n"
      ]
    },
    {
      "cell_type": "code",
      "metadata": {
        "colab": {
          "base_uri": "https://localhost:8080/"
        },
        "id": "ae-W9Y89Gaxl",
        "outputId": "55411d87-8a00-4f6a-eac0-13974ae6526b"
      },
      "source": [
        "# Retrieve tmp credentials from ArangoDB Tutorial Service\n",
        "login = oasis.getTempCredentials(tutorialName='test',\n",
        "                                 credentialProvider='https://tutorials.arangodb.cloud:8529/_db/_system/tutorialDB/tutorialDB')\n",
        "\n",
        "# Connect to the temp database\n",
        "conn = oasis.connect(login)\n",
        "db = conn[login['dbName']]"
      ],
      "execution_count": 3,
      "outputs": [
        {
          "output_type": "stream",
          "name": "stdout",
          "text": [
            "Requesting new temp credentials.\n",
            "Temp database ready to use.\n"
          ]
        }
      ]
    },
    {
      "cell_type": "markdown",
      "metadata": {
        "id": "fxXH_B4L62V4"
      },
      "source": [
        "* **Xem thông tin DB đã tạo**\n"
      ]
    },
    {
      "cell_type": "code",
      "metadata": {
        "id": "51Df5hM9GpW3",
        "colab": {
          "base_uri": "https://localhost:8080/"
        },
        "outputId": "116c1b09-20db-41a8-93da-55170c7b2d48"
      },
      "source": [
        "print('https://{}:{}'.format(login['hostname'], login['port']))\n",
        "print('Username: ' + login['username'])\n",
        "print('Password: ' + login['password'])\n",
        "print('Database: ' + login['dbName'])\n"
      ],
      "execution_count": 4,
      "outputs": [
        {
          "output_type": "stream",
          "name": "stdout",
          "text": [
            "https://tutorials.arangodb.cloud:8529\n",
            "Username: TUTziqq77m84ogv6ogp0iv5ne\n",
            "Password: TUTlis7gteznwrvy2zzawc0m\n",
            "Database: TUTsgeosw2elzb39vjqt0enul\n"
          ]
        }
      ]
    },
    {
      "cell_type": "code",
      "metadata": {
        "colab": {
          "base_uri": "https://localhost:8080/"
        },
        "id": "KTG7z1VdLdnq",
        "outputId": "0bafa9eb-3963-4688-fe73-2900f31482a4"
      },
      "source": [
        "print(type(login), login, sep='\\n')"
      ],
      "execution_count": 5,
      "outputs": [
        {
          "output_type": "stream",
          "name": "stdout",
          "text": [
            "<class 'dict'>\n",
            "{'dbName': 'TUTsgeosw2elzb39vjqt0enul', 'username': 'TUTziqq77m84ogv6ogp0iv5ne', 'password': 'TUTlis7gteznwrvy2zzawc0m', 'hostname': 'tutorials.arangodb.cloud', 'port': 8529}\n"
          ]
        }
      ]
    },
    {
      "cell_type": "markdown",
      "metadata": {
        "id": "IWKKWzl6-IGG"
      },
      "source": [
        "#2 Tạo dữ liệu AQL"
      ]
    },
    {
      "cell_type": "markdown",
      "metadata": {
        "id": "DGNTaEik7Bc9"
      },
      "source": [
        "* **Tạo collection \"Collection\" trong DB**\n",
        "\n",
        "Các bộ sưu tập trong ArangoDB. Chúng chỉ được thao tác thông qua các ngôn ngữ Ngôn ngữ truy vấn Arango NoSQL (AQL). Các hướng dẫn bên dưới tạo ra một bộ sưu tập và có thể liên quan đến các hướng dẫn DDL của ngôn ngữ SQL. Trong ví dụ này, nhóm sẽ tạo các nhân vật trong loạt phim \"*Game of Thrones*\"."
      ]
    },
    {
      "cell_type": "code",
      "metadata": {
        "colab": {
          "base_uri": "https://localhost:8080/"
        },
        "id": "OyBZJOBK67ic",
        "outputId": "edd5c648-3dd4-4695-e3dc-3900d1a40c3b"
      },
      "source": [
        "collecName = 'Characters'\n",
        "db.createCollection(name=collecName)"
      ],
      "execution_count": 6,
      "outputs": [
        {
          "output_type": "execute_result",
          "data": {
            "text/plain": [
              "ArangoDB collection name: Characters, id: 676648981, type: document, status: loaded"
            ]
          },
          "metadata": {},
          "execution_count": 6
        }
      ]
    },
    {
      "cell_type": "markdown",
      "metadata": {
        "id": "aMC8ItNR78ti"
      },
      "source": [
        "* **Thêm data bằng Insert**"
      ]
    },
    {
      "cell_type": "code",
      "metadata": {
        "colab": {
          "base_uri": "https://localhost:8080/"
        },
        "id": "NgXyYDEp73Cx",
        "outputId": "fe176a4f-6c4c-4f6b-cfbf-07527495214f"
      },
      "source": [
        "insert_query = \"\"\"\n",
        "INSERT {\n",
        "    \"name\": \"Ned\",\n",
        "    \"surname\": \"Stark\",\n",
        "    \"alive\": true,\n",
        "    \"age\": 41,\n",
        "    \"traits\": [\"A\",\"H\",\"C\",\"N\",\"P\"]\n",
        "} INTO Characters\n",
        "\"\"\"\n",
        "\n",
        "db.AQLQuery(insert_query)"
      ],
      "execution_count": 7,
      "outputs": [
        {
          "output_type": "execute_result",
          "data": {
            "text/plain": [
              "<pyArango.query.AQLQuery at 0x78b6d8c33790>"
            ]
          },
          "metadata": {},
          "execution_count": 7
        }
      ]
    },
    {
      "cell_type": "markdown",
      "metadata": {
        "id": "frf63oEO8GtC"
      },
      "source": [
        "* Lấy tất cả các nhân vật trong bản ghi"
      ]
    },
    {
      "cell_type": "code",
      "metadata": {
        "colab": {
          "base_uri": "https://localhost:8080/"
        },
        "id": "LWP-4b0B8G0P",
        "outputId": "0c6314e5-9884-4ddf-f038-13a949f91137"
      },
      "source": [
        "all_characters = \"\"\"\n",
        "FOR c IN Characters\n",
        "    RETURN c\n",
        "\"\"\"\n",
        "\n",
        "query_result = db.AQLQuery(all_characters, rawResults=True)\n",
        "\n",
        "for doc in  query_result:\n",
        "    print(doc)\n",
        "    print()"
      ],
      "execution_count": 8,
      "outputs": [
        {
          "output_type": "stream",
          "name": "stdout",
          "text": [
            "{'_key': '266279477221', '_id': 'Characters/266279477221', '_rev': '_i3-NIoS---', 'name': 'Ned', 'surname': 'Stark', 'alive': True, 'age': 41, 'traits': ['A', 'H', 'C', 'N', 'P']}\n",
            "\n"
          ]
        }
      ]
    },
    {
      "cell_type": "markdown",
      "metadata": {
        "id": "3qkve90S8U6K"
      },
      "source": [
        "* **Chèn các bản ghi**"
      ]
    },
    {
      "cell_type": "code",
      "metadata": {
        "colab": {
          "base_uri": "https://localhost:8080/"
        },
        "id": "0pTp6W-b8ZT5",
        "outputId": "e4d9ec4c-c659-4536-f031-943318cd17a2"
      },
      "source": [
        "insert_query = \"\"\"\n",
        "LET data = [\n",
        "    { \"name\": \"Robert\", \"surname\": \"Baratheon\", \"alive\": false, \"traits\": [\"A\",\"H\",\"C\"] },\n",
        "    { \"name\": \"Jaime\", \"surname\": \"Lannister\", \"alive\": true, \"age\": 36, \"traits\": [\"A\",\"F\",\"B\"] },\n",
        "    { \"name\": \"Catelyn\", \"surname\": \"Stark\", \"alive\": false, \"age\": 40, \"traits\": [\"D\",\"H\",\"C\"] },\n",
        "    { \"name\": \"Cersei\", \"surname\": \"Lannister\", \"alive\": true, \"age\": 36, \"traits\": [\"H\",\"E\",\"F\"] },\n",
        "    { \"name\": \"Daenerys\", \"surname\": \"Targaryen\", \"alive\": true, \"age\": 16, \"traits\": [\"D\",\"H\",\"C\"] },\n",
        "    { \"name\": \"Jorah\", \"surname\": \"Mormont\", \"alive\": false, \"traits\": [\"A\",\"B\",\"C\",\"F\"] },\n",
        "    { \"name\": \"Petyr\", \"surname\": \"Baelish\", \"alive\": false, \"traits\": [\"E\",\"G\",\"F\"] },\n",
        "    { \"name\": \"Viserys\", \"surname\": \"Targaryen\", \"alive\": false, \"traits\": [\"O\",\"L\",\"N\"] },\n",
        "    { \"name\": \"Jon\", \"surname\": \"Snow\", \"alive\": true, \"age\": 16, \"traits\": [\"A\",\"B\",\"C\",\"F\"] },\n",
        "    { \"name\": \"Sansa\", \"surname\": \"Stark\", \"alive\": true, \"age\": 13, \"traits\": [\"D\",\"I\",\"J\"] },\n",
        "    { \"name\": \"Arya\", \"surname\": \"Stark\", \"alive\": true, \"age\": 11, \"traits\": [\"C\",\"K\",\"L\"] },\n",
        "    { \"name\": \"Robb\", \"surname\": \"Stark\", \"alive\": false, \"traits\": [\"A\",\"B\",\"C\",\"K\"] },\n",
        "    { \"name\": \"Theon\", \"surname\": \"Greyjoy\", \"alive\": true, \"age\": 16, \"traits\": [\"E\",\"R\",\"K\"] },\n",
        "    { \"name\": \"Bran\", \"surname\": \"Stark\", \"alive\": true, \"age\": 10, \"traits\": [\"L\",\"J\"] },\n",
        "    { \"name\": \"Joffrey\", \"surname\": \"Baratheon\", \"alive\": false, \"age\": 19, \"traits\": [\"I\",\"L\",\"O\"] },\n",
        "    { \"name\": \"Sandor\", \"surname\": \"Clegane\", \"alive\": true, \"traits\": [\"A\",\"P\",\"K\",\"F\"] },\n",
        "    { \"name\": \"Tyrion\", \"surname\": \"Lannister\", \"alive\": true, \"age\": 32, \"traits\": [\"F\",\"K\",\"M\",\"N\"] },\n",
        "    { \"name\": \"Khal\", \"surname\": \"Drogo\", \"alive\": false, \"traits\": [\"A\",\"C\",\"O\",\"P\"] },\n",
        "    { \"name\": \"Tywin\", \"surname\": \"Lannister\", \"alive\": false, \"traits\": [\"O\",\"M\",\"H\",\"F\"] },\n",
        "    { \"name\": \"Davos\", \"surname\": \"Seaworth\", \"alive\": true, \"age\": 49, \"traits\": [\"C\",\"K\",\"P\",\"F\"] },\n",
        "    { \"name\": \"Samwell\", \"surname\": \"Tarly\", \"alive\": true, \"age\": 17, \"traits\": [\"C\",\"L\",\"I\"] },\n",
        "    { \"name\": \"Stannis\", \"surname\": \"Baratheon\", \"alive\": false, \"traits\": [\"H\",\"O\",\"P\",\"M\"] },\n",
        "    { \"name\": \"Melisandre\", \"alive\": true, \"traits\": [\"G\",\"E\",\"H\"] },\n",
        "    { \"name\": \"Margaery\", \"surname\": \"Tyrell\", \"alive\": false, \"traits\": [\"M\",\"D\",\"B\"] },\n",
        "    { \"name\": \"Jeor\", \"surname\": \"Mormont\", \"alive\": false, \"traits\": [\"C\",\"H\",\"M\",\"P\"] },\n",
        "    { \"name\": \"Bronn\", \"alive\": true, \"traits\": [\"K\",\"E\",\"C\"] },\n",
        "    { \"name\": \"Varys\", \"alive\": true, \"traits\": [\"M\",\"F\",\"N\",\"E\"] },\n",
        "    { \"name\": \"Shae\", \"alive\": false, \"traits\": [\"M\",\"D\",\"G\"] },\n",
        "    { \"name\": \"Talisa\", \"surname\": \"Maegyr\", \"alive\": false, \"traits\": [\"D\",\"C\",\"B\"] },\n",
        "    { \"name\": \"Gendry\", \"alive\": false, \"traits\": [\"K\",\"C\",\"A\"] },\n",
        "    { \"name\": \"Ygritte\", \"alive\": false, \"traits\": [\"A\",\"P\",\"K\"] },\n",
        "    { \"name\": \"Tormund\", \"surname\": \"Giantsbane\", \"alive\": true, \"traits\": [\"C\",\"P\",\"A\",\"I\"] },\n",
        "    { \"name\": \"Gilly\", \"alive\": true, \"traits\": [\"L\",\"J\"] },\n",
        "    { \"name\": \"Brienne\", \"surname\": \"Tarth\", \"alive\": true, \"age\": 32, \"traits\": [\"P\",\"C\",\"A\",\"K\"] },\n",
        "    { \"name\": \"Ramsay\", \"surname\": \"Bolton\", \"alive\": true, \"traits\": [\"E\",\"O\",\"G\",\"A\"] },\n",
        "    { \"name\": \"Ellaria\", \"surname\": \"Sand\", \"alive\": true, \"traits\": [\"P\",\"O\",\"A\",\"E\"] },\n",
        "    { \"name\": \"Daario\", \"surname\": \"Naharis\", \"alive\": true, \"traits\": [\"K\",\"P\",\"A\"] },\n",
        "    { \"name\": \"Missandei\", \"alive\": true, \"traits\": [\"D\",\"L\",\"C\",\"M\"] },\n",
        "    { \"name\": \"Tommen\", \"surname\": \"Baratheon\", \"alive\": true, \"traits\": [\"I\",\"L\",\"B\"] },\n",
        "    { \"name\": \"Jaqen\", \"surname\": \"H'ghar\", \"alive\": true, \"traits\": [\"H\",\"F\",\"K\"] },\n",
        "    { \"name\": \"Roose\", \"surname\": \"Bolton\", \"alive\": true, \"traits\": [\"H\",\"E\",\"F\",\"A\"] },\n",
        "    { \"name\": \"The High Sparrow\", \"alive\": true, \"traits\": [\"H\",\"M\",\"F\",\"O\"] }\n",
        "]\n",
        "\n",
        "FOR d IN data\n",
        "    INSERT d INTO Characters\n",
        "\"\"\"\n",
        "\n",
        "db.AQLQuery(insert_query)"
      ],
      "execution_count": 9,
      "outputs": [
        {
          "output_type": "execute_result",
          "data": {
            "text/plain": [
              "<pyArango.query.AQLQuery at 0x78b6d8c33340>"
            ]
          },
          "metadata": {},
          "execution_count": 9
        }
      ]
    },
    {
      "cell_type": "markdown",
      "metadata": {
        "id": "wDDdBVIc9ZMw"
      },
      "source": [
        "* Truy vấn cơ bản"
      ]
    },
    {
      "cell_type": "code",
      "metadata": {
        "colab": {
          "base_uri": "https://localhost:8080/"
        },
        "id": "-Tgzw5zd9SFZ",
        "outputId": "6cd29bd2-a3a2-4154-9837-c93ad41ff828"
      },
      "source": [
        "all_characters_names = \"\"\"\n",
        "FOR name IN Characters\n",
        "    RETURN name.name\n",
        "\"\"\"\n",
        "\n",
        "query_result = db.AQLQuery(all_characters_names, rawResults=True)\n",
        "\n",
        "# Lấy ra chỉ 10 tên\n",
        "for i in range(10):\n",
        "  print(query_result[i])"
      ],
      "execution_count": 10,
      "outputs": [
        {
          "output_type": "stream",
          "name": "stdout",
          "text": [
            "Ned\n",
            "Robert\n",
            "Jaime\n",
            "Catelyn\n",
            "Cersei\n",
            "Daenerys\n",
            "Jorah\n",
            "Petyr\n",
            "Viserys\n",
            "Jon\n"
          ]
        }
      ]
    },
    {
      "cell_type": "code",
      "source": [
        "list(query_result)"
      ],
      "metadata": {
        "colab": {
          "base_uri": "https://localhost:8080/"
        },
        "id": "Ue08pnHkbJuX",
        "outputId": "9cc7acf6-4c58-4a99-a42a-752fa15ecd5e"
      },
      "execution_count": 11,
      "outputs": [
        {
          "output_type": "execute_result",
          "data": {
            "text/plain": [
              "['Ned',\n",
              " 'Robert',\n",
              " 'Jaime',\n",
              " 'Catelyn',\n",
              " 'Cersei',\n",
              " 'Daenerys',\n",
              " 'Jorah',\n",
              " 'Petyr',\n",
              " 'Viserys',\n",
              " 'Jon',\n",
              " 'Sansa',\n",
              " 'Arya',\n",
              " 'Robb',\n",
              " 'Theon',\n",
              " 'Bran',\n",
              " 'Joffrey',\n",
              " 'Sandor',\n",
              " 'Tyrion',\n",
              " 'Khal',\n",
              " 'Tywin',\n",
              " 'Davos',\n",
              " 'Samwell',\n",
              " 'Stannis',\n",
              " 'Melisandre',\n",
              " 'Margaery',\n",
              " 'Jeor',\n",
              " 'Bronn',\n",
              " 'Varys',\n",
              " 'Shae',\n",
              " 'Talisa',\n",
              " 'Gendry',\n",
              " 'Ygritte',\n",
              " 'Tormund',\n",
              " 'Gilly',\n",
              " 'Brienne',\n",
              " 'Ramsay',\n",
              " 'Ellaria',\n",
              " 'Daario',\n",
              " 'Missandei',\n",
              " 'Tommen',\n",
              " 'Jaqen',\n",
              " 'Roose',\n",
              " 'The High Sparrow']"
            ]
          },
          "metadata": {},
          "execution_count": 11
        }
      ]
    },
    {
      "cell_type": "markdown",
      "metadata": {
        "id": "kaYENPPOor5V"
      },
      "source": [
        "* **Truy vấn có điều kiện**\n"
      ]
    },
    {
      "cell_type": "code",
      "metadata": {
        "colab": {
          "base_uri": "https://localhost:8080/"
        },
        "id": "EuUer1pqorTA",
        "outputId": "d17ff05b-caf5-46f2-addd-c608c63cfe8b"
      },
      "source": [
        "find_ned_query = \"\"\"\n",
        "FOR c IN Characters\n",
        "    FILTER c.alive == false\n",
        "    RETURN c.name\n",
        "\"\"\"\n",
        "query_result = db.AQLQuery(find_ned_query, rawResults=True)\n",
        "for doc in  query_result:\n",
        "    print(doc, sep='\\n')"
      ],
      "execution_count": 12,
      "outputs": [
        {
          "output_type": "stream",
          "name": "stdout",
          "text": [
            "Robert\n",
            "Catelyn\n",
            "Jorah\n",
            "Petyr\n",
            "Viserys\n",
            "Robb\n",
            "Joffrey\n",
            "Khal\n",
            "Tywin\n",
            "Stannis\n",
            "Margaery\n",
            "Jeor\n",
            "Shae\n",
            "Talisa\n",
            "Gendry\n",
            "Ygritte\n"
          ]
        }
      ]
    },
    {
      "cell_type": "code",
      "metadata": {
        "colab": {
          "base_uri": "https://localhost:8080/"
        },
        "id": "IyeRAJnbp6FH",
        "outputId": "800c6d1a-300a-4de6-ca61-0dfb474953be"
      },
      "source": [
        "find_ned_query = \"\"\"\n",
        "FOR c IN Characters\n",
        "    FILTER c.alive == true AND c.age >= 18\n",
        "    RETURN c.name\n",
        "\"\"\"\n",
        "query_result = db.AQLQuery(find_ned_query, rawResults=True)\n",
        "\n",
        "for doc in  query_result:\n",
        "    print(doc, sep='\\n')"
      ],
      "execution_count": 13,
      "outputs": [
        {
          "output_type": "stream",
          "name": "stdout",
          "text": [
            "Ned\n",
            "Jaime\n",
            "Cersei\n",
            "Tyrion\n",
            "Davos\n",
            "Brienne\n"
          ]
        }
      ]
    },
    {
      "cell_type": "code",
      "metadata": {
        "colab": {
          "base_uri": "https://localhost:8080/"
        },
        "id": "rclhqtUmqLtv",
        "outputId": "5e87dd2e-d44a-4cff-8e30-d2f6fc4a7183"
      },
      "source": [
        "find_ned_query = \"\"\"\n",
        "FOR c IN Characters\n",
        "    FILTER c.alive == false AND c.age >= 18\n",
        "    RETURN { Name: c.name, Surname: c.surname, Age: c.age }\n",
        "\"\"\"\n",
        "query_result = db.AQLQuery(find_ned_query, rawResults=True)\n",
        "\n",
        "for doc in  query_result:\n",
        "    print(doc, sep='\\n')"
      ],
      "execution_count": 14,
      "outputs": [
        {
          "output_type": "stream",
          "name": "stdout",
          "text": [
            "{'Name': 'Catelyn', 'Surname': 'Stark', 'Age': 40}\n",
            "{'Name': 'Joffrey', 'Surname': 'Baratheon', 'Age': 19}\n"
          ]
        }
      ]
    },
    {
      "cell_type": "code",
      "metadata": {
        "colab": {
          "base_uri": "https://localhost:8080/"
        },
        "id": "BueJY1kdpLEe",
        "outputId": "e23db275-0a0f-427c-b796-2ad87d378e99"
      },
      "source": [
        "find_ned_query = \"\"\"\n",
        "FOR c IN Characters\n",
        "    FILTER c.surname == \"Bolton\"\n",
        "    RETURN {Name: c.name, Surname: c.surname}\n",
        "\"\"\"\n",
        "query_result = db.AQLQuery(find_ned_query, rawResults=True)\n",
        "for doc in  query_result:\n",
        "    print(doc, sep='\\n')"
      ],
      "execution_count": 15,
      "outputs": [
        {
          "output_type": "stream",
          "name": "stdout",
          "text": [
            "{'Name': 'Ramsay', 'Surname': 'Bolton'}\n",
            "{'Name': 'Roose', 'Surname': 'Bolton'}\n"
          ]
        }
      ]
    },
    {
      "cell_type": "code",
      "metadata": {
        "colab": {
          "base_uri": "https://localhost:8080/"
        },
        "id": "ip5c4XMCq9UI",
        "outputId": "c4724a97-3815-4d2b-fa4c-b10248dd0a25"
      },
      "source": [
        "\n",
        "sample_chars_query = \"\"\"\n",
        "FOR c IN Characters\n",
        "    LIMIT 10\n",
        "    RETURN c.name\n",
        "\"\"\"\n",
        "\n",
        "query_result = db.AQLQuery(sample_chars_query, rawResults=True)\n",
        "\n",
        "for doc in  query_result:\n",
        "    print(doc, sep='\\n')"
      ],
      "execution_count": 16,
      "outputs": [
        {
          "output_type": "stream",
          "name": "stdout",
          "text": [
            "Ned\n",
            "Robert\n",
            "Jaime\n",
            "Catelyn\n",
            "Cersei\n",
            "Daenerys\n",
            "Jorah\n",
            "Petyr\n",
            "Viserys\n",
            "Jon\n"
          ]
        }
      ]
    },
    {
      "cell_type": "code",
      "metadata": {
        "colab": {
          "base_uri": "https://localhost:8080/"
        },
        "id": "oGpice0GrHdI",
        "outputId": "6b83cff1-56ac-4be6-b2e0-4930da68e0f4"
      },
      "source": [
        "\n",
        "sample_chars_query = \"\"\"\n",
        "FOR c IN Characters\n",
        "    SORT c.name\n",
        "    LIMIT 10\n",
        "    RETURN { Name: c.name, Surname: c.surname, Age: c.age }\n",
        "\"\"\"\n",
        "\n",
        "query_result = db.AQLQuery(sample_chars_query, rawResults=True)\n",
        "\n",
        "for doc in  query_result:\n",
        "    print(doc, sep='\\n')"
      ],
      "execution_count": 17,
      "outputs": [
        {
          "output_type": "stream",
          "name": "stdout",
          "text": [
            "{'Name': 'Arya', 'Surname': 'Stark', 'Age': 11}\n",
            "{'Name': 'Bran', 'Surname': 'Stark', 'Age': 10}\n",
            "{'Name': 'Brienne', 'Surname': 'Tarth', 'Age': 32}\n",
            "{'Name': 'Bronn', 'Surname': None, 'Age': None}\n",
            "{'Name': 'Catelyn', 'Surname': 'Stark', 'Age': 40}\n",
            "{'Name': 'Cersei', 'Surname': 'Lannister', 'Age': 36}\n",
            "{'Name': 'Daario', 'Surname': 'Naharis', 'Age': None}\n",
            "{'Name': 'Daenerys', 'Surname': 'Targaryen', 'Age': 16}\n",
            "{'Name': 'Davos', 'Surname': 'Seaworth', 'Age': 49}\n",
            "{'Name': 'Ellaria', 'Surname': 'Sand', 'Age': None}\n"
          ]
        }
      ]
    },
    {
      "cell_type": "markdown",
      "source": [
        "# 3. Tạo đồ thị"
      ],
      "metadata": {
        "id": "krTk0NU014Yx"
      }
    },
    {
      "cell_type": "markdown",
      "source": [
        "## Lấy data từ \"shortest path data\""
      ],
      "metadata": {
        "id": "SrvdSo0yG4zH"
      }
    },
    {
      "cell_type": "code",
      "source": [
        "from pyArango.collection import Collection, Field, Edges\n",
        "from pyArango.graph import Graph, EdgeDefinition\n",
        "\n",
        "# Định nghĩa Collections\n",
        "class Places(Collection):\n",
        "    _fields = {\n",
        "        \"label\": Field()\n",
        "    }\n",
        "\n",
        "class Connect(Edges):\n",
        "    _fields = {\n",
        "        \"travelTime\": Field()\n",
        "    }\n",
        "\n",
        "# Định nghĩa Graph\n",
        "class TravelGraph(Graph):\n",
        "    _edgeDefinitions = [\n",
        "        EdgeDefinition(\"Connect\", fromCollections=[\"Places\"], toCollections=[\"Places\"]),\n",
        "        ]\n",
        "    _orphanedCollections = []\n",
        "\n",
        "\n",
        "if \"Places\" not in db.collections:\n",
        "    db.createCollection(className=\"Places\")\n",
        "\n",
        "if \"Connect\" not in db.collections:\n",
        "    db.createCollection(className=\"Connect\")\n",
        "\n",
        "# Tạo graph\n",
        "if \"TravelGraph\" not in db.graphs:\n",
        "    travel_graph = db.createGraph(\"TravelGraph\")\n",
        "else:\n",
        "    travel_graph = db.graphs[\"TravelGraph\"]\n",
        "\n",
        "\n",
        "import json\n",
        "\n",
        "# Đọc dữ liệu từ tệp JSON\n",
        "with open(\"./shortest_path_data/places.json\", \"r\") as f:\n",
        "    places_data = json.load(f)\n",
        "    db[\"Places\"].importBulk(places_data)\n",
        "\n",
        "\n",
        "with open(\"./shortest_path_data/connect.json\", \"r\") as f:\n",
        "    connections_data = json.load(f)\n",
        "    db[\"Connect\"].importBulk(connections_data)\n",
        "\n",
        "print(\"Tạo đồ thị thành công\")"
      ],
      "metadata": {
        "colab": {
          "base_uri": "https://localhost:8080/"
        },
        "id": "jMTqhbHj3JLw",
        "outputId": "852f4217-981c-4be5-f49f-244b62461e98"
      },
      "execution_count": 18,
      "outputs": [
        {
          "output_type": "stream",
          "name": "stdout",
          "text": [
            "Tạo đồ thị thành công\n"
          ]
        }
      ]
    },
    {
      "cell_type": "code",
      "source": [
        "def get_graph_data():\n",
        "    places_query = \"FOR v IN Places RETURN {key: v._key, label: v.label}\"\n",
        "    connections_query = \"FOR e IN Connect RETURN {from: e._from, to: e._to}\"\n",
        "\n",
        "    places = {doc[\"key\"]: doc[\"label\"] for doc in db.AQLQuery(places_query, rawResults=True)}\n",
        "    connections = db.AQLQuery(connections_query, rawResults=True)\n",
        "\n",
        "    # Xây dựng danh sách kề\n",
        "    adjacency_list = {key: [] for key in places.keys()}\n",
        "    for connection in connections:\n",
        "        from_key = connection[\"from\"].split(\"/\")[-1]\n",
        "        to_key = connection[\"to\"].split(\"/\")[-1]\n",
        "        adjacency_list[from_key].append(to_key)\n",
        "    return adjacency_list, places\n",
        "adjacency_list, places = get_graph_data()\n",
        "for key, value in adjacency_list.items():\n",
        "    print(f\"{key}: {value}\")"
      ],
      "metadata": {
        "id": "geOgI_XoD-LM",
        "outputId": "a103511b-2b18-4668-cf5b-98524f524c88",
        "colab": {
          "base_uri": "https://localhost:8080/"
        }
      },
      "execution_count": 22,
      "outputs": [
        {
          "output_type": "stream",
          "name": "stdout",
          "text": [
            "Inverness: ['Aberdeen']\n",
            "Aberdeen: ['Inverness', 'Leuchars']\n",
            "Leuchars: ['Aberdeen', 'Edinburgh', 'StAndrews']\n",
            "StAndrews: ['Leuchars']\n",
            "Edinburgh: ['Leuchars', 'Glasgow', 'York']\n",
            "Glasgow: ['Edinburgh', 'Carlisle']\n",
            "York: ['Edinburgh', 'Carlisle', 'London']\n",
            "Carlisle: ['Glasgow', 'York', 'Birmingham']\n",
            "Birmingham: ['Carlisle', 'London']\n",
            "London: ['Birmingham', 'York', 'Brussels']\n",
            "Brussels: ['London', 'Cologne']\n",
            "Cologne: ['Brussels']\n",
            "Toronto: ['Winnipeg']\n",
            "Winnipeg: ['Toronto', 'Saskatoon']\n",
            "Saskatoon: ['Winnipeg', 'Edmonton']\n",
            "Edmonton: ['Saskatoon', 'Jasper']\n",
            "Jasper: ['Edmonton', 'Vancouver']\n",
            "Vancouver: ['Jasper']\n"
          ]
        }
      ]
    },
    {
      "cell_type": "markdown",
      "source": [
        "## Đường đi ngắn nhất"
      ],
      "metadata": {
        "id": "ofeagclwhHXK"
      }
    },
    {
      "cell_type": "code",
      "source": [
        "query = \"\"\"\n",
        "FOR p IN OUTBOUND K_SHORTEST_PATHS 'Places/Aberdeen' TO 'Places/London'\n",
        "GRAPH 'TravelGraph'\n",
        "    LIMIT 1\n",
        "    RETURN {\n",
        "        places: p.vertices[*].label,\n",
        "        travelTimeTotal: SUM(p.edges[*].travelTime)\n",
        "    }\n",
        "\"\"\"\n",
        "\n",
        "query_result = db.AQLQuery(query, rawResults=True)\n",
        "\n",
        "for doc in query_result:\n",
        "    print(doc, sep='\\n')"
      ],
      "metadata": {
        "id": "6V7W5WTNPAyF",
        "colab": {
          "base_uri": "https://localhost:8080/"
        },
        "outputId": "0afe59f2-e589-4d71-da24-7640be0873d1"
      },
      "execution_count": 19,
      "outputs": [
        {
          "output_type": "stream",
          "name": "stdout",
          "text": [
            "{'places': ['Aberdeen', 'Leuchars', 'Edinburgh', 'York', 'London'], 'travelTimeTotal': 8.3}\n"
          ]
        }
      ]
    },
    {
      "cell_type": "markdown",
      "source": [
        "## Test bfs"
      ],
      "metadata": {
        "id": "HwsZcGAhHAnE"
      }
    },
    {
      "cell_type": "code",
      "source": [
        "query = \"\"\"\n",
        "FOR v, e, p IN 2..3 OUTBOUND \"Places/London\" GRAPH \"TravelGraph\"\n",
        "\n",
        "  OPTIONS { uniqueVertices: \"path\", bfs: true}\n",
        "  RETURN CONCAT_SEPARATOR(\" -- \", p.vertices[*].label)\n",
        "\"\"\"\n",
        "\n",
        "query_result = db.AQLQuery(query, rawResults=True)\n",
        "\n",
        "for doc in query_result:\n",
        "    print(doc, sep='\\n')"
      ],
      "metadata": {
        "colab": {
          "base_uri": "https://localhost:8080/"
        },
        "id": "KitN7gOr2pDg",
        "outputId": "55366525-1a1c-4a7f-80b0-b2b8b442a165"
      },
      "execution_count": 20,
      "outputs": [
        {
          "output_type": "stream",
          "name": "stdout",
          "text": [
            "London -- Birmingham -- Carlisle\n",
            "London -- York -- Edinburgh\n",
            "London -- York -- Carlisle\n",
            "London -- Brussels -- Cologne\n",
            "London -- Birmingham -- Carlisle -- Glasgow\n",
            "London -- Birmingham -- Carlisle -- York\n",
            "London -- York -- Edinburgh -- Leuchars\n",
            "London -- York -- Edinburgh -- Glasgow\n",
            "London -- York -- Carlisle -- Glasgow\n",
            "London -- York -- Carlisle -- Birmingham\n"
          ]
        }
      ]
    }
  ]
}
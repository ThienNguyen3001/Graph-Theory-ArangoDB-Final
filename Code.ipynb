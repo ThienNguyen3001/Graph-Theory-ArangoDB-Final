{
 "cells": [
  {
   "cell_type": "markdown",
   "metadata": {
    "colab_type": "text",
    "id": "view-in-github"
   },
   "source": [
    "<a href=\"https://colab.research.google.com/github/ThienNguyen3001/Graph-Theory-ArangoDB-Final/blob/main/Code.ipynb\" target=\"_parent\"><img src=\"https://colab.research.google.com/assets/colab-badge.svg\" alt=\"Open In Colab\"/></a>"
   ]
  },
  {
   "cell_type": "markdown",
   "metadata": {
    "id": "POij76PeFdjh"
   },
   "source": [
    "#1. Chuẩn bị"
   ]
  },
  {
   "cell_type": "markdown",
   "metadata": {
    "id": "7lVullbUS8TB"
   },
   "source": [
    "* Gọi môi trường"
   ]
  },
  {
   "cell_type": "code",
   "execution_count": 2,
   "metadata": {
    "id": "tti5sHrmFSZz"
   },
   "outputs": [],
   "source": [
    "%%capture\n",
    "!pip3 install pyarango\n",
    "!pip3 install \"python-arango>=5.0\""
   ]
  },
  {
   "cell_type": "code",
   "execution_count": 3,
   "metadata": {
    "id": "W7c4YugFFajT"
   },
   "outputs": [],
   "source": [
    "import json\n",
    "import requests\n",
    "import sys\n",
    "import time\n",
    "\n",
    "import oasis\n",
    "from pyArango.connection import *\n",
    "from arango import ArangoClient"
   ]
  },
  {
   "cell_type": "markdown",
   "metadata": {
    "id": "X-VQbcIpGlp3"
   },
   "source": [
    "* **Tạo cơ sở dữ liệu tạm thời**\n"
   ]
  },
  {
   "cell_type": "code",
   "execution_count": 4,
   "metadata": {
    "colab": {
     "base_uri": "https://localhost:8080/"
    },
    "id": "ae-W9Y89Gaxl",
    "outputId": "d9da53f3-fed1-485d-f933-d22c31623b1d"
   },
   "outputs": [
    {
     "name": "stdout",
     "output_type": "stream",
     "text": [
      "Requesting new temp credentials.\n",
      "Temp database ready to use.\n"
     ]
    }
   ],
   "source": [
    "# Retrieve tmp credentials from ArangoDB Tutorial Service\n",
    "login = oasis.getTempCredentials(tutorialName='test',\n",
    "                                 credentialProvider='https://tutorials.arangodb.cloud:8529/_db/_system/tutorialDB/tutorialDB')\n",
    "\n",
    "# Connect to the temp database\n",
    "conn = oasis.connect(login)\n",
    "db = conn[login['dbName']]"
   ]
  },
  {
   "cell_type": "markdown",
   "metadata": {
    "id": "fxXH_B4L62V4"
   },
   "source": [
    "* **Xem thông tin DB đã tạo**\n"
   ]
  },
  {
   "cell_type": "code",
   "execution_count": 5,
   "metadata": {
    "colab": {
     "base_uri": "https://localhost:8080/"
    },
    "id": "51Df5hM9GpW3",
    "outputId": "23112d7c-9e79-4b2d-ea76-9c8dd3699c58"
   },
   "outputs": [
    {
     "name": "stdout",
     "output_type": "stream",
     "text": [
      "https://tutorials.arangodb.cloud:8529\n",
      "Username: TUT2uy25jmblvelawcn0wvsun\n",
      "Password: TUTcas2sfq7kvu9tm06ruzxoi\n",
      "Database: TUTzleugou3t4mpq6xr3x2ria\n"
     ]
    }
   ],
   "source": [
    "print('https://{}:{}'.format(login['hostname'], login['port']))\n",
    "print('Username: ' + login['username'])\n",
    "print('Password: ' + login['password'])\n",
    "print('Database: ' + login['dbName'])\n"
   ]
  },
  {
   "cell_type": "code",
   "execution_count": 6,
   "metadata": {
    "colab": {
     "base_uri": "https://localhost:8080/"
    },
    "id": "KTG7z1VdLdnq",
    "outputId": "8d9cc026-b2c0-4a8b-9c50-bc9771bdb2ab"
   },
   "outputs": [
    {
     "name": "stdout",
     "output_type": "stream",
     "text": [
      "<class 'dict'>\n",
      "{'dbName': 'TUTzleugou3t4mpq6xr3x2ria', 'username': 'TUT2uy25jmblvelawcn0wvsun', 'password': 'TUTcas2sfq7kvu9tm06ruzxoi', 'hostname': 'tutorials.arangodb.cloud', 'port': 8529}\n"
     ]
    }
   ],
   "source": [
    "print(type(login), login, sep='\\n')"
   ]
  },
  {
   "cell_type": "markdown",
   "metadata": {
    "id": "IWKKWzl6-IGG"
   },
   "source": [
    "#2 Tạo dữ liệu AQL"
   ]
  },
  {
   "cell_type": "markdown",
   "metadata": {
    "id": "DGNTaEik7Bc9"
   },
   "source": [
    "* **Tạo collection \"Collection\" trong DB**\n",
    "\n",
    "Các bộ sưu tập trong ArangoDB. Chúng chỉ được thao tác thông qua các ngôn ngữ Ngôn ngữ truy vấn Arango NoSQL (AQL). Các hướng dẫn bên dưới tạo ra một bộ sưu tập và có thể liên quan đến các hướng dẫn DDL của ngôn ngữ SQL. Trong ví dụ này, nhóm sẽ tạo các nhân vật trong loạt phim \"*Game of Thrones*\"."
   ]
  },
  {
   "cell_type": "code",
   "execution_count": 7,
   "metadata": {
    "colab": {
     "base_uri": "https://localhost:8080/"
    },
    "id": "OyBZJOBK67ic",
    "outputId": "8af959d2-a35f-4fb2-f46d-26e32ed1d2af"
   },
   "outputs": [
    {
     "data": {
      "text/plain": [
       "ArangoDB collection name: Characters, id: 678648427, type: document, status: loaded"
      ]
     },
     "execution_count": 7,
     "metadata": {},
     "output_type": "execute_result"
    }
   ],
   "source": [
    "collecName = 'Characters'\n",
    "db.createCollection(name=collecName)"
   ]
  },
  {
   "cell_type": "markdown",
   "metadata": {
    "id": "aMC8ItNR78ti"
   },
   "source": [
    "* **Thêm data bằng Insert**"
   ]
  },
  {
   "cell_type": "code",
   "execution_count": 8,
   "metadata": {
    "colab": {
     "base_uri": "https://localhost:8080/"
    },
    "id": "NgXyYDEp73Cx",
    "outputId": "efce5056-b360-4798-d795-3f4cb62f4e7c"
   },
   "outputs": [
    {
     "data": {
      "text/plain": [
       "<pyArango.query.AQLQuery at 0x27a40419760>"
      ]
     },
     "execution_count": 8,
     "metadata": {},
     "output_type": "execute_result"
    }
   ],
   "source": [
    "insert_query = \"\"\"\n",
    "INSERT {\n",
    "    \"name\": \"Ned\",\n",
    "    \"surname\": \"Stark\",\n",
    "    \"alive\": true,\n",
    "    \"age\": 41,\n",
    "    \"traits\": [\"A\",\"H\",\"C\",\"N\",\"P\"]\n",
    "} INTO Characters\n",
    "\"\"\"\n",
    "\n",
    "db.AQLQuery(insert_query)"
   ]
  },
  {
   "cell_type": "markdown",
   "metadata": {
    "id": "frf63oEO8GtC"
   },
   "source": [
    "* Lấy tất cả các nhân vật trong bản ghi"
   ]
  },
  {
   "cell_type": "code",
   "execution_count": 9,
   "metadata": {
    "colab": {
     "base_uri": "https://localhost:8080/"
    },
    "id": "LWP-4b0B8G0P",
    "outputId": "69e2c819-abb0-4648-e52d-b152e7ce100d"
   },
   "outputs": [
    {
     "name": "stdout",
     "output_type": "stream",
     "text": [
      "{'_key': '266274536989', '_id': 'Characters/266274536989', '_rev': '_i3oE_hi---', 'name': 'Ned', 'surname': 'Stark', 'alive': True, 'age': 41, 'traits': ['A', 'H', 'C', 'N', 'P']}\n",
      "\n"
     ]
    }
   ],
   "source": [
    "all_characters = \"\"\"\n",
    "FOR c IN Characters\n",
    "    RETURN c\n",
    "\"\"\"\n",
    "\n",
    "query_result = db.AQLQuery(all_characters, rawResults=True)\n",
    "\n",
    "for doc in  query_result:\n",
    "    print(doc)\n",
    "    print()"
   ]
  },
  {
   "cell_type": "markdown",
   "metadata": {
    "id": "3qkve90S8U6K"
   },
   "source": [
    "* **Chèn các bản ghi**"
   ]
  },
  {
   "cell_type": "code",
   "execution_count": 10,
   "metadata": {
    "colab": {
     "base_uri": "https://localhost:8080/"
    },
    "id": "0pTp6W-b8ZT5",
    "outputId": "c1eb11ca-754f-4b5b-ed74-a58f521e0268"
   },
   "outputs": [
    {
     "data": {
      "text/plain": [
       "<pyArango.query.AQLQuery at 0x27a40bd82f0>"
      ]
     },
     "execution_count": 10,
     "metadata": {},
     "output_type": "execute_result"
    }
   ],
   "source": [
    "insert_query = \"\"\"\n",
    "LET data = [\n",
    "    { \"name\": \"Robert\", \"surname\": \"Baratheon\", \"alive\": false, \"traits\": [\"A\",\"H\",\"C\"] },\n",
    "    { \"name\": \"Jaime\", \"surname\": \"Lannister\", \"alive\": true, \"age\": 36, \"traits\": [\"A\",\"F\",\"B\"] },\n",
    "    { \"name\": \"Catelyn\", \"surname\": \"Stark\", \"alive\": false, \"age\": 40, \"traits\": [\"D\",\"H\",\"C\"] },\n",
    "    { \"name\": \"Cersei\", \"surname\": \"Lannister\", \"alive\": true, \"age\": 36, \"traits\": [\"H\",\"E\",\"F\"] },\n",
    "    { \"name\": \"Daenerys\", \"surname\": \"Targaryen\", \"alive\": true, \"age\": 16, \"traits\": [\"D\",\"H\",\"C\"] },\n",
    "    { \"name\": \"Jorah\", \"surname\": \"Mormont\", \"alive\": false, \"traits\": [\"A\",\"B\",\"C\",\"F\"] },\n",
    "    { \"name\": \"Petyr\", \"surname\": \"Baelish\", \"alive\": false, \"traits\": [\"E\",\"G\",\"F\"] },\n",
    "    { \"name\": \"Viserys\", \"surname\": \"Targaryen\", \"alive\": false, \"traits\": [\"O\",\"L\",\"N\"] },\n",
    "    { \"name\": \"Jon\", \"surname\": \"Snow\", \"alive\": true, \"age\": 16, \"traits\": [\"A\",\"B\",\"C\",\"F\"] },\n",
    "    { \"name\": \"Sansa\", \"surname\": \"Stark\", \"alive\": true, \"age\": 13, \"traits\": [\"D\",\"I\",\"J\"] },\n",
    "    { \"name\": \"Arya\", \"surname\": \"Stark\", \"alive\": true, \"age\": 11, \"traits\": [\"C\",\"K\",\"L\"] },\n",
    "    { \"name\": \"Robb\", \"surname\": \"Stark\", \"alive\": false, \"traits\": [\"A\",\"B\",\"C\",\"K\"] },\n",
    "    { \"name\": \"Theon\", \"surname\": \"Greyjoy\", \"alive\": true, \"age\": 16, \"traits\": [\"E\",\"R\",\"K\"] },\n",
    "    { \"name\": \"Bran\", \"surname\": \"Stark\", \"alive\": true, \"age\": 10, \"traits\": [\"L\",\"J\"] },\n",
    "    { \"name\": \"Joffrey\", \"surname\": \"Baratheon\", \"alive\": false, \"age\": 19, \"traits\": [\"I\",\"L\",\"O\"] },\n",
    "    { \"name\": \"Sandor\", \"surname\": \"Clegane\", \"alive\": true, \"traits\": [\"A\",\"P\",\"K\",\"F\"] },\n",
    "    { \"name\": \"Tyrion\", \"surname\": \"Lannister\", \"alive\": true, \"age\": 32, \"traits\": [\"F\",\"K\",\"M\",\"N\"] },\n",
    "    { \"name\": \"Khal\", \"surname\": \"Drogo\", \"alive\": false, \"traits\": [\"A\",\"C\",\"O\",\"P\"] },\n",
    "    { \"name\": \"Tywin\", \"surname\": \"Lannister\", \"alive\": false, \"traits\": [\"O\",\"M\",\"H\",\"F\"] },\n",
    "    { \"name\": \"Davos\", \"surname\": \"Seaworth\", \"alive\": true, \"age\": 49, \"traits\": [\"C\",\"K\",\"P\",\"F\"] },\n",
    "    { \"name\": \"Samwell\", \"surname\": \"Tarly\", \"alive\": true, \"age\": 17, \"traits\": [\"C\",\"L\",\"I\"] },\n",
    "    { \"name\": \"Stannis\", \"surname\": \"Baratheon\", \"alive\": false, \"traits\": [\"H\",\"O\",\"P\",\"M\"] },\n",
    "    { \"name\": \"Melisandre\", \"alive\": true, \"traits\": [\"G\",\"E\",\"H\"] },\n",
    "    { \"name\": \"Margaery\", \"surname\": \"Tyrell\", \"alive\": false, \"traits\": [\"M\",\"D\",\"B\"] },\n",
    "    { \"name\": \"Jeor\", \"surname\": \"Mormont\", \"alive\": false, \"traits\": [\"C\",\"H\",\"M\",\"P\"] },\n",
    "    { \"name\": \"Bronn\", \"alive\": true, \"traits\": [\"K\",\"E\",\"C\"] },\n",
    "    { \"name\": \"Varys\", \"alive\": true, \"traits\": [\"M\",\"F\",\"N\",\"E\"] },\n",
    "    { \"name\": \"Shae\", \"alive\": false, \"traits\": [\"M\",\"D\",\"G\"] },\n",
    "    { \"name\": \"Talisa\", \"surname\": \"Maegyr\", \"alive\": false, \"traits\": [\"D\",\"C\",\"B\"] },\n",
    "    { \"name\": \"Gendry\", \"alive\": false, \"traits\": [\"K\",\"C\",\"A\"] },\n",
    "    { \"name\": \"Ygritte\", \"alive\": false, \"traits\": [\"A\",\"P\",\"K\"] },\n",
    "    { \"name\": \"Tormund\", \"surname\": \"Giantsbane\", \"alive\": true, \"traits\": [\"C\",\"P\",\"A\",\"I\"] },\n",
    "    { \"name\": \"Gilly\", \"alive\": true, \"traits\": [\"L\",\"J\"] },\n",
    "    { \"name\": \"Brienne\", \"surname\": \"Tarth\", \"alive\": true, \"age\": 32, \"traits\": [\"P\",\"C\",\"A\",\"K\"] },\n",
    "    { \"name\": \"Ramsay\", \"surname\": \"Bolton\", \"alive\": true, \"traits\": [\"E\",\"O\",\"G\",\"A\"] },\n",
    "    { \"name\": \"Ellaria\", \"surname\": \"Sand\", \"alive\": true, \"traits\": [\"P\",\"O\",\"A\",\"E\"] },\n",
    "    { \"name\": \"Daario\", \"surname\": \"Naharis\", \"alive\": true, \"traits\": [\"K\",\"P\",\"A\"] },\n",
    "    { \"name\": \"Missandei\", \"alive\": true, \"traits\": [\"D\",\"L\",\"C\",\"M\"] },\n",
    "    { \"name\": \"Tommen\", \"surname\": \"Baratheon\", \"alive\": true, \"traits\": [\"I\",\"L\",\"B\"] },\n",
    "    { \"name\": \"Jaqen\", \"surname\": \"H'ghar\", \"alive\": true, \"traits\": [\"H\",\"F\",\"K\"] },\n",
    "    { \"name\": \"Roose\", \"surname\": \"Bolton\", \"alive\": true, \"traits\": [\"H\",\"E\",\"F\",\"A\"] },\n",
    "    { \"name\": \"The High Sparrow\", \"alive\": true, \"traits\": [\"H\",\"M\",\"F\",\"O\"] }\n",
    "]\n",
    "\n",
    "FOR d IN data\n",
    "    INSERT d INTO Characters\n",
    "\"\"\"\n",
    "\n",
    "db.AQLQuery(insert_query)"
   ]
  },
  {
   "cell_type": "markdown",
   "metadata": {
    "id": "wDDdBVIc9ZMw"
   },
   "source": [
    "* Truy vấn cơ bản"
   ]
  },
  {
   "cell_type": "code",
   "execution_count": 11,
   "metadata": {
    "colab": {
     "base_uri": "https://localhost:8080/"
    },
    "id": "-Tgzw5zd9SFZ",
    "outputId": "a26f12c2-c998-45b7-82c4-ef1aade8ec91"
   },
   "outputs": [
    {
     "name": "stdout",
     "output_type": "stream",
     "text": [
      "Ned\n",
      "Robert\n",
      "Jaime\n",
      "Catelyn\n",
      "Cersei\n",
      "Daenerys\n",
      "Jorah\n",
      "Petyr\n",
      "Viserys\n",
      "Jon\n"
     ]
    }
   ],
   "source": [
    "all_characters_names = \"\"\"\n",
    "FOR name IN Characters\n",
    "    RETURN name.name\n",
    "\"\"\"\n",
    "\n",
    "query_result = db.AQLQuery(all_characters_names, rawResults=True)\n",
    "\n",
    "# Lấy ra chỉ 10 tên\n",
    "for i in range(10):\n",
    "  print(query_result[i])"
   ]
  },
  {
   "cell_type": "code",
   "execution_count": 12,
   "metadata": {
    "colab": {
     "base_uri": "https://localhost:8080/"
    },
    "id": "Ue08pnHkbJuX",
    "outputId": "3651a253-cf22-4569-bcc6-e2dcb360ebe5"
   },
   "outputs": [
    {
     "data": {
      "text/plain": [
       "['Ned',\n",
       " 'Robert',\n",
       " 'Jaime',\n",
       " 'Catelyn',\n",
       " 'Cersei',\n",
       " 'Daenerys',\n",
       " 'Jorah',\n",
       " 'Petyr',\n",
       " 'Viserys',\n",
       " 'Jon',\n",
       " 'Sansa',\n",
       " 'Arya',\n",
       " 'Robb',\n",
       " 'Theon',\n",
       " 'Bran',\n",
       " 'Joffrey',\n",
       " 'Sandor',\n",
       " 'Tyrion',\n",
       " 'Khal',\n",
       " 'Tywin',\n",
       " 'Davos',\n",
       " 'Samwell',\n",
       " 'Stannis',\n",
       " 'Melisandre',\n",
       " 'Margaery',\n",
       " 'Jeor',\n",
       " 'Bronn',\n",
       " 'Varys',\n",
       " 'Shae',\n",
       " 'Talisa',\n",
       " 'Gendry',\n",
       " 'Ygritte',\n",
       " 'Tormund',\n",
       " 'Gilly',\n",
       " 'Brienne',\n",
       " 'Ramsay',\n",
       " 'Ellaria',\n",
       " 'Daario',\n",
       " 'Missandei',\n",
       " 'Tommen',\n",
       " 'Jaqen',\n",
       " 'Roose',\n",
       " 'The High Sparrow']"
      ]
     },
     "execution_count": 12,
     "metadata": {},
     "output_type": "execute_result"
    }
   ],
   "source": [
    "list(query_result)"
   ]
  },
  {
   "cell_type": "markdown",
   "metadata": {
    "id": "kaYENPPOor5V"
   },
   "source": [
    "* **Truy vấn có điều kiện**\n"
   ]
  },
  {
   "cell_type": "code",
   "execution_count": 13,
   "metadata": {
    "colab": {
     "base_uri": "https://localhost:8080/"
    },
    "id": "EuUer1pqorTA",
    "outputId": "56f4c581-f91d-425e-839a-094b4e027b0f"
   },
   "outputs": [
    {
     "name": "stdout",
     "output_type": "stream",
     "text": [
      "Robert\n",
      "Catelyn\n",
      "Jorah\n",
      "Petyr\n",
      "Viserys\n",
      "Robb\n",
      "Joffrey\n",
      "Khal\n",
      "Tywin\n",
      "Stannis\n",
      "Margaery\n",
      "Jeor\n",
      "Shae\n",
      "Talisa\n",
      "Gendry\n",
      "Ygritte\n"
     ]
    }
   ],
   "source": [
    "find_ned_query = \"\"\"\n",
    "FOR c IN Characters\n",
    "    FILTER c.alive == false\n",
    "    RETURN c.name\n",
    "\"\"\"\n",
    "query_result = db.AQLQuery(find_ned_query, rawResults=True)\n",
    "for doc in  query_result:\n",
    "    print(doc, sep='\\n')"
   ]
  },
  {
   "cell_type": "code",
   "execution_count": 14,
   "metadata": {
    "colab": {
     "base_uri": "https://localhost:8080/"
    },
    "id": "IyeRAJnbp6FH",
    "outputId": "f7e99911-8bff-4564-ba18-777a1334b9bb"
   },
   "outputs": [
    {
     "name": "stdout",
     "output_type": "stream",
     "text": [
      "Ned\n",
      "Jaime\n",
      "Cersei\n",
      "Tyrion\n",
      "Davos\n",
      "Brienne\n"
     ]
    }
   ],
   "source": [
    "find_ned_query = \"\"\"\n",
    "FOR c IN Characters\n",
    "    FILTER c.alive == true AND c.age >= 18\n",
    "    RETURN c.name\n",
    "\"\"\"\n",
    "query_result = db.AQLQuery(find_ned_query, rawResults=True)\n",
    "\n",
    "for doc in  query_result:\n",
    "    print(doc, sep='\\n')"
   ]
  },
  {
   "cell_type": "code",
   "execution_count": 15,
   "metadata": {
    "colab": {
     "base_uri": "https://localhost:8080/"
    },
    "id": "rclhqtUmqLtv",
    "outputId": "f04f17ba-f9d0-4ce0-bf05-f09c2d391677"
   },
   "outputs": [
    {
     "name": "stdout",
     "output_type": "stream",
     "text": [
      "{'Name': 'Catelyn', 'Surname': 'Stark', 'Age': 40}\n",
      "{'Name': 'Joffrey', 'Surname': 'Baratheon', 'Age': 19}\n"
     ]
    }
   ],
   "source": [
    "find_ned_query = \"\"\"\n",
    "FOR c IN Characters\n",
    "    FILTER c.alive == false AND c.age >= 18\n",
    "    RETURN { Name: c.name, Surname: c.surname, Age: c.age }\n",
    "\"\"\"\n",
    "query_result = db.AQLQuery(find_ned_query, rawResults=True)\n",
    "\n",
    "for doc in  query_result:\n",
    "    print(doc, sep='\\n')"
   ]
  },
  {
   "cell_type": "code",
   "execution_count": 16,
   "metadata": {
    "colab": {
     "base_uri": "https://localhost:8080/"
    },
    "id": "BueJY1kdpLEe",
    "outputId": "aaa8af11-18a1-4001-9934-0ab56078e282"
   },
   "outputs": [
    {
     "name": "stdout",
     "output_type": "stream",
     "text": [
      "{'Name': 'Ramsay', 'Surname': 'Bolton'}\n",
      "{'Name': 'Roose', 'Surname': 'Bolton'}\n"
     ]
    }
   ],
   "source": [
    "find_ned_query = \"\"\"\n",
    "FOR c IN Characters\n",
    "    FILTER c.surname == \"Bolton\"\n",
    "    RETURN {Name: c.name, Surname: c.surname}\n",
    "\"\"\"\n",
    "query_result = db.AQLQuery(find_ned_query, rawResults=True)\n",
    "for doc in  query_result:\n",
    "    print(doc, sep='\\n')"
   ]
  },
  {
   "cell_type": "code",
   "execution_count": 17,
   "metadata": {
    "colab": {
     "base_uri": "https://localhost:8080/"
    },
    "id": "ip5c4XMCq9UI",
    "outputId": "290866e2-c6d3-4456-f459-0f8a6a8bb79b"
   },
   "outputs": [
    {
     "name": "stdout",
     "output_type": "stream",
     "text": [
      "Ned\n",
      "Robert\n",
      "Jaime\n",
      "Catelyn\n",
      "Cersei\n",
      "Daenerys\n",
      "Jorah\n",
      "Petyr\n",
      "Viserys\n",
      "Jon\n"
     ]
    }
   ],
   "source": [
    "\n",
    "sample_chars_query = \"\"\"\n",
    "FOR c IN Characters\n",
    "    LIMIT 10\n",
    "    RETURN c.name\n",
    "\"\"\"\n",
    "\n",
    "query_result = db.AQLQuery(sample_chars_query, rawResults=True)\n",
    "\n",
    "for doc in  query_result:\n",
    "    print(doc, sep='\\n')"
   ]
  },
  {
   "cell_type": "code",
   "execution_count": 18,
   "metadata": {
    "colab": {
     "base_uri": "https://localhost:8080/"
    },
    "id": "oGpice0GrHdI",
    "outputId": "3055aae0-e252-49bc-e813-c78a5a6160ec"
   },
   "outputs": [
    {
     "name": "stdout",
     "output_type": "stream",
     "text": [
      "{'Name': 'Arya', 'Surname': 'Stark', 'Age': 11}\n",
      "{'Name': 'Bran', 'Surname': 'Stark', 'Age': 10}\n",
      "{'Name': 'Brienne', 'Surname': 'Tarth', 'Age': 32}\n",
      "{'Name': 'Bronn', 'Surname': None, 'Age': None}\n",
      "{'Name': 'Catelyn', 'Surname': 'Stark', 'Age': 40}\n",
      "{'Name': 'Cersei', 'Surname': 'Lannister', 'Age': 36}\n",
      "{'Name': 'Daario', 'Surname': 'Naharis', 'Age': None}\n",
      "{'Name': 'Daenerys', 'Surname': 'Targaryen', 'Age': 16}\n",
      "{'Name': 'Davos', 'Surname': 'Seaworth', 'Age': 49}\n",
      "{'Name': 'Ellaria', 'Surname': 'Sand', 'Age': None}\n"
     ]
    }
   ],
   "source": [
    "\n",
    "sample_chars_query = \"\"\"\n",
    "FOR c IN Characters\n",
    "    SORT c.name\n",
    "    LIMIT 10\n",
    "    RETURN { Name: c.name, Surname: c.surname, Age: c.age }\n",
    "\"\"\"\n",
    "\n",
    "query_result = db.AQLQuery(sample_chars_query, rawResults=True)\n",
    "\n",
    "for doc in  query_result:\n",
    "    print(doc, sep='\\n')"
   ]
  },
  {
   "cell_type": "markdown",
   "metadata": {
    "id": "krTk0NU014Yx"
   },
   "source": [
    "# 3. Tạo đồ thị"
   ]
  },
  {
   "cell_type": "markdown",
   "metadata": {
    "id": "SrvdSo0yG4zH"
   },
   "source": [
    "## Lấy data từ \"shortest path data\""
   ]
  },
  {
   "cell_type": "code",
   "execution_count": 53,
   "metadata": {
    "colab": {
     "base_uri": "https://localhost:8080/"
    },
    "id": "jMTqhbHj3JLw",
    "outputId": "2637d23d-69de-4b93-c375-47f5c30f8f1e"
   },
   "outputs": [
    {
     "name": "stdout",
     "output_type": "stream",
     "text": [
      "Tạo đồ thị thành công\n"
     ]
    }
   ],
   "source": [
    "from pyArango.collection import Collection, Field, Edges\n",
    "from pyArango.graph import Graph, EdgeDefinition\n",
    "\n",
    "# Định nghĩa Collections\n",
    "class Places(Collection):\n",
    "    _fields = {\n",
    "        \"label\": Field()\n",
    "    }\n",
    "\n",
    "class Connect(Edges):\n",
    "    _fields = {\n",
    "        \"travelTime\": Field()\n",
    "    }\n",
    "\n",
    "# Định nghĩa Graph\n",
    "class TravelGraph(Graph):\n",
    "    _edgeDefinitions = [\n",
    "        EdgeDefinition(\"Connect\", fromCollections=[\"Places\"], toCollections=[\"Places\"]),\n",
    "        ]\n",
    "    _orphanedCollections = []\n",
    "\n",
    "\n",
    "if \"Places\" not in db.collections:\n",
    "    db.createCollection(className=\"Places\")\n",
    "\n",
    "if \"Connect\" not in db.collections:\n",
    "    db.createCollection(className=\"Connect\")\n",
    "\n",
    "# Tạo graph\n",
    "if \"TravelGraph\" not in db.graphs:\n",
    "    travel_graph = db.createGraph(\"TravelGraph\")\n",
    "else:\n",
    "    travel_graph = db.graphs[\"TravelGraph\"]\n",
    "\n",
    "\n",
    "import json\n",
    "\n",
    "# Đọc dữ liệu từ tệp JSON\n",
    "with open(\"./shortest_path_data/places.json\", \"r\") as f:\n",
    "    places_data = json.load(f)\n",
    "    db[\"Places\"].importBulk(places_data)\n",
    "\n",
    "\n",
    "with open(\"./shortest_path_data/connect.json\", \"r\") as f:\n",
    "    connections_data = json.load(f)\n",
    "    db[\"Connect\"].importBulk(connections_data)\n",
    "\n",
    "print(\"Tạo đồ thị thành công\")"
   ]
  },
  {
   "cell_type": "code",
   "execution_count": 54,
   "metadata": {
    "colab": {
     "base_uri": "https://localhost:8080/"
    },
    "id": "geOgI_XoD-LM",
    "outputId": "43016470-d542-45c7-d517-1664fc25a944"
   },
   "outputs": [
    {
     "name": "stdout",
     "output_type": "stream",
     "text": [
      "Inverness: ['Aberdeen']\n",
      "Aberdeen: ['Inverness', 'Leuchars']\n",
      "Leuchars: ['Aberdeen', 'Edinburgh', 'StAndrews']\n",
      "StAndrews: ['Leuchars']\n",
      "Edinburgh: ['Leuchars', 'Glasgow', 'York']\n",
      "Glasgow: ['Edinburgh', 'Carlisle']\n",
      "York: ['Edinburgh', 'Carlisle', 'London']\n",
      "Carlisle: ['Glasgow', 'York', 'Birmingham']\n",
      "Birmingham: ['Carlisle', 'London']\n",
      "London: ['Birmingham', 'York', 'Brussels']\n",
      "Brussels: ['London', 'Cologne']\n",
      "Cologne: ['Brussels']\n",
      "Toronto: ['Winnipeg']\n",
      "Winnipeg: ['Toronto', 'Saskatoon']\n",
      "Saskatoon: ['Winnipeg', 'Edmonton']\n",
      "Edmonton: ['Saskatoon', 'Jasper']\n",
      "Jasper: ['Edmonton', 'Vancouver']\n",
      "Vancouver: ['Jasper']\n"
     ]
    }
   ],
   "source": [
    "def get_graph_data():\n",
    "    places_query = \"FOR v IN Places RETURN {key: v._key, label: v.label}\"\n",
    "    connections_query = \"FOR e IN Connect RETURN {from: e._from, to: e._to}\"\n",
    "\n",
    "    places = {doc[\"key\"]: doc[\"label\"] for doc in db.AQLQuery(places_query, rawResults=True)}\n",
    "    connections = db.AQLQuery(connections_query, rawResults=True)\n",
    "\n",
    "    # Xây dựng danh sách kề\n",
    "    adjacency_list = {key: [] for key in places.keys()}\n",
    "    for connection in connections:\n",
    "        from_key = connection[\"from\"].split(\"/\")[-1]\n",
    "        to_key = connection[\"to\"].split(\"/\")[-1]\n",
    "        adjacency_list[from_key].append(to_key)\n",
    "    return adjacency_list, places\n",
    "adjacency_list, places = get_graph_data()\n",
    "for key, value in adjacency_list.items():\n",
    "    print(f\"{key}: {value}\")"
   ]
  },
  {
   "cell_type": "code",
   "execution_count": 55,
   "metadata": {
    "colab": {
     "base_uri": "https://localhost:8080/"
    },
    "id": "srdYHBIVN4J5",
    "outputId": "5a6341cf-c8b1-4c28-9636-f55e89ebd164"
   },
   "outputs": [
    {
     "name": "stdout",
     "output_type": "stream",
     "text": [
      "Chuỗi thứ tự duyệt đồ thị từ đỉnh [Inverness]:\n",
      "Inverness --> Aberdeen --> Leuchars --> Edinburgh --> Glasgow --> Carlisle --> York --> London --> Birmingham --> Brussels --> Cologne --> StAndrews\n"
     ]
    }
   ],
   "source": [
    "from GraphAlgo import *\n",
    "import pandas as pd\n",
    "start = 'Inverness'\n",
    "\n",
    "free_ser        = pd.Series(1, index = adjacency_list.keys())\n",
    "free_ser[start] = 0\n",
    "\n",
    "seq = []\n",
    "dfs(adjacency_list, free_ser, start, seq)\n",
    "seq = ' --> '.join(seq)\n",
    "print(f'Chuỗi thứ tự duyệt đồ thị từ đỉnh [{start}]:\\n{seq}')"
   ]
  },
  {
   "cell_type": "code",
   "execution_count": 56,
   "metadata": {
    "colab": {
     "base_uri": "https://localhost:8080/"
    },
    "id": "bQ6deB8GO_Vt",
    "outputId": "c99a2b0c-123d-4411-c901-69d3807391bb"
   },
   "outputs": [
    {
     "name": "stdout",
     "output_type": "stream",
     "text": [
      "Thành phần liên thông #1 = ['Inverness', 'Aberdeen', 'Leuchars', 'Edinburgh', 'Glasgow', 'Carlisle', 'York', 'London', 'Birmingham', 'Brussels', 'Cologne', 'StAndrews']\n",
      "Thành phần liên thông #2 = ['Toronto', 'Winnipeg', 'Saskatoon', 'Edmonton', 'Jasper', 'Vancouver']\n"
     ]
    }
   ],
   "source": [
    "components = dfs_all_components(adjacency_list)\n",
    "for c in components:\n",
    "    print(f'Thành phần liên thông #{components.index(c) + 1} = {c}')"
   ]
  },
  {
   "cell_type": "markdown",
   "metadata": {
    "id": "ofeagclwhHXK"
   },
   "source": [
    "## Đường đi ngắn nhất"
   ]
  },
  {
   "cell_type": "code",
   "execution_count": 77,
   "metadata": {
    "colab": {
     "base_uri": "https://localhost:8080/"
    },
    "id": "6V7W5WTNPAyF",
    "outputId": "30cce7a4-4896-488e-c8f4-63295b68c410"
   },
   "outputs": [
    {
     "name": "stdout",
     "output_type": "stream",
     "text": [
      "{'places': ['Aberdeen', 'Leuchars', 'Edinburgh', 'York', 'London'], 'travelTimeTotal': 8.3}\n"
     ]
    }
   ],
   "source": [
    "query = \"\"\"\n",
    "FOR p IN OUTBOUND K_SHORTEST_PATHS 'Places/Aberdeen' TO 'Places/London'\n",
    "GRAPH 'TravelGraph'\n",
    "    LIMIT 1\n",
    "    RETURN {\n",
    "        places: p.vertices[*].label,\n",
    "        travelTimeTotal: SUM(p.edges[*].travelTime)\n",
    "    }\n",
    "\"\"\"\n",
    "\n",
    "query_result = db.AQLQuery(query, rawResults=True)\n",
    "\n",
    "for doc in query_result:\n",
    "    print(doc, sep='\\n')"
   ]
  },
  {
   "cell_type": "markdown",
   "metadata": {},
   "source": [
    "<h2>Chu trình Hamilton</h2>"
   ]
  },
  {
   "cell_type": "code",
   "execution_count": 76,
   "metadata": {},
   "outputs": [
    {
     "name": "stdout",
     "output_type": "stream",
     "text": [
      "Không tìm thấy chu trình Hamilton bắt đầu từ đỉnh [Inverness]\n"
     ]
    }
   ],
   "source": [
    "from GraphAlgo import *\n",
    "import pandas as pd\n",
    "\n",
    "def find_hamilton_cycle(adjacency_list, start_vertex):\n",
    "    def backtrack(path):\n",
    "        # Nếu đã đi qua tất cả các đỉnh và có thể quay về đỉnh bắt đầu\n",
    "        if len(path) == len(adjacency_list) and path[0] in adjacency_list[path[-1]]:\n",
    "            return path\n",
    "        \n",
    "        # Lấy đỉnh cuối cùng trong đường đi hiện tại\n",
    "        current_vertex = path[-1]\n",
    "        \n",
    "        # Thử các đỉnh kề chưa được đi qua\n",
    "        for next_vertex in adjacency_list[current_vertex]:\n",
    "            if next_vertex not in path:\n",
    "                # Thử thêm đỉnh vào đường đi\n",
    "                new_path = path + [next_vertex]\n",
    "                result = backtrack(new_path)\n",
    "                if result:\n",
    "                    return result\n",
    "        \n",
    "        # Không tìm thấy chu trình\n",
    "        return None\n",
    "\n",
    "    # Bắt đầu từ đỉnh cho trước\n",
    "    initial_path = [start_vertex]\n",
    "    \n",
    "    # Tìm chu trình Hamilton\n",
    "    hamilton_cycle = backtrack(initial_path)\n",
    "    \n",
    "    return hamilton_cycle\n",
    "\n",
    "# Sử dụng hàm\n",
    "start = 'Inverness'\n",
    "hamilton_cycle = find_hamilton_cycle(adjacency_list, start)\n",
    "\n",
    "# In kết quả\n",
    "if hamilton_cycle:\n",
    "    print(f\"Chu trình Hamilton bắt đầu từ đỉnh [{start}]:\")\n",
    "    print(' --> '.join(hamilton_cycle))\n",
    "    print(f\"\\nĐộ dài chu trình: {len(hamilton_cycle)} đỉnh\")\n",
    "else:\n",
    "    print(f\"Không tìm thấy chu trình Hamilton bắt đầu từ đỉnh [{start}]\")\n",
    "\n",
    "# Hàm kiểm tra tính hợp lệ của chu trình Hamilton\n",
    "def is_valid_hamilton_cycle(cycle, graph):\n",
    "    # Kiểm tra độ dài chu trình\n",
    "    if len(cycle) != len(graph):\n",
    "        return False\n",
    "    \n",
    "    # Kiểm tra tất cả các đỉnh đều xuất hiện một lần\n",
    "    if len(set(cycle)) != len(graph):\n",
    "        return False\n",
    "    \n",
    "    # Kiểm tra tính liên thông của chu trình\n",
    "    for i in range(len(cycle) - 1):\n",
    "        if cycle[i+1] not in graph[cycle[i]]:\n",
    "            return False\n",
    "    \n",
    "    # Kiểm tra có thể quay về đỉnh bắt đầu không\n",
    "    if cycle[0] not in graph[cycle[-1]]:\n",
    "        return False\n",
    "    \n",
    "    return True\n",
    "\n",
    "# Kiểm tra tính hợp lệ của chu trình\n",
    "if hamilton_cycle:\n",
    "    is_valid = is_valid_hamilton_cycle(hamilton_cycle, adjacency_list)\n",
    "    print(f\"\\nChu trình Hamilton hợp lệ: {is_valid}\")"
   ]
  },
  {
   "cell_type": "markdown",
   "metadata": {},
   "source": [
    "<h2> Hàm Kiểm tra và Chu trình Euler </h2>"
   ]
  },
  {
   "cell_type": "code",
   "execution_count": 78,
   "metadata": {},
   "outputs": [
    {
     "name": "stdout",
     "output_type": "stream",
     "text": [
      "Đường đi Euler:\n",
      "Inverness -> Aberdeen -> Leuchars -> Edinburgh -> Glasgow -> StAndrews\n",
      "Số đỉnh trong đường đi: 6\n",
      "Tổng số cạnh trong đồ thị: 5\n"
     ]
    }
   ],
   "source": [
    "from GraphAlgo import *\n",
    "import pandas as pd\n",
    "\n",
    "# Tạo lại adjacency_list đúng với đồ thị của bạn\n",
    "adjacency_list = {\n",
    "    'Inverness': ['Aberdeen'],\n",
    "    'Aberdeen': ['Inverness', 'Leuchars'],\n",
    "    'Leuchars': ['Aberdeen', 'StAndrews', 'Edinburgh'],\n",
    "    'StAndrews': ['Leuchars'],\n",
    "    'Edinburgh': ['Leuchars', 'Glasgow'],\n",
    "    'Glasgow': ['Edinburgh']\n",
    "}\n",
    "\n",
    "def find_euler_path(graph, start):\n",
    "    # Tạo bản sao của đồ thị\n",
    "    from copy import deepcopy\n",
    "    temp_graph = deepcopy(graph)\n",
    "    \n",
    "    path = []\n",
    "    stack = [start]\n",
    "    \n",
    "    while stack:\n",
    "        current = stack[-1]\n",
    "        \n",
    "        # Nếu còn đường đi từ đỉnh hiện tại\n",
    "        if temp_graph[current]:\n",
    "            # Chọn đỉnh kề tiếp theo\n",
    "            next_vertex = temp_graph[current][0]\n",
    "            \n",
    "            # Xóa cạnh đã đi\n",
    "            temp_graph[current].remove(next_vertex)\n",
    "            if current in temp_graph[next_vertex]:\n",
    "                temp_graph[next_vertex].remove(current)\n",
    "            \n",
    "            stack.append(next_vertex)\n",
    "        else:\n",
    "            # Không còn đường đi, thêm vào path\n",
    "            path.append(stack.pop())\n",
    "    \n",
    "    return path[::-1]\n",
    "\n",
    "# Tìm đường đi Euler\n",
    "start = 'Inverness'\n",
    "euler_path = find_euler_path(adjacency_list, start)\n",
    "\n",
    "print(\"Đường đi Euler:\")\n",
    "print(' -> '.join(euler_path))\n",
    "\n",
    "# In thống kê\n",
    "print(f\"Số đỉnh trong đường đi: {len(euler_path)}\")\n",
    "edges_count = sum(len(adjacency_list[v]) for v in adjacency_list) // 2\n",
    "print(f\"Tổng số cạnh trong đồ thị: {edges_count}\")"
   ]
  },
  {
   "cell_type": "markdown",
   "metadata": {},
   "source": [
    "<h2>BFS</h2>"
   ]
  },
  {
   "cell_type": "code",
   "execution_count": 75,
   "metadata": {},
   "outputs": [
    {
     "name": "stdout",
     "output_type": "stream",
     "text": [
      "Thứ tự duyệt BFS :\n",
      "Inverness --> Aberdeen --> Leuchars --> StAndrews --> Edinburgh --> Glasgow\n",
      "\n",
      "Tổng số đỉnh đã duyệt: 6\n",
      "Đỉnh bắt đầu: Inverness\n"
     ]
    }
   ],
   "source": [
    "from GraphAlgo import *\n",
    "import pandas as pd\n",
    "from collections import deque\n",
    "\n",
    "def bfs(adjacency_list, start_vertex):\n",
    "    # Khởi tạo các biến\n",
    "    visited = set()  # Lưu các đỉnh đã duyệt\n",
    "    queue = deque([start_vertex])  # Hàng đợi bắt đầu từ đỉnh start\n",
    "    traversal_order = []  # Lưu thứ tự duyệt các đỉnh\n",
    "\n",
    "    # Đánh dấu đỉnh bắt đầu đã được duyệt\n",
    "    visited.add(start_vertex)\n",
    "\n",
    "    # Thực hiện BFS\n",
    "    while queue:\n",
    "        # Lấy đỉnh hiện tại từ đầu hàng đợi\n",
    "        current_vertex = queue.popleft()\n",
    "        traversal_order.append(current_vertex)\n",
    "\n",
    "        # Duyệt các đỉnh kề chưa được thăm\n",
    "        for neighbor in adjacency_list[current_vertex]:\n",
    "            if neighbor not in visited:\n",
    "                visited.add(neighbor)\n",
    "                queue.append(neighbor)\n",
    "\n",
    "    return traversal_order\n",
    "\n",
    "# Sử dụng hàm BFS\n",
    "start = 'Inverness'\n",
    "bfs_traversal = bfs(adjacency_list, start)\n",
    "\n",
    "# In kết quả\n",
    "print(f\"Thứ tự duyệt BFS :\")\n",
    "print(' --> '.join(bfs_traversal))\n",
    "\n",
    "# Thống kê\n",
    "print(f\"\\nTổng số đỉnh đã duyệt: {len(bfs_traversal)}\")\n",
    "print(f\"Đỉnh bắt đầu: {start}\")\n",
    "\n"
   ]
  }
 ],
 "metadata": {
  "colab": {
   "include_colab_link": true,
   "provenance": []
  },
  "kernelspec": {
   "display_name": "Python 3",
   "name": "python3"
  },
  "language_info": {
   "codemirror_mode": {
    "name": "ipython",
    "version": 3
   },
   "file_extension": ".py",
   "mimetype": "text/x-python",
   "name": "python",
   "nbconvert_exporter": "python",
   "pygments_lexer": "ipython3",
   "version": "3.12.6"
  }
 },
 "nbformat": 4,
 "nbformat_minor": 0
}
